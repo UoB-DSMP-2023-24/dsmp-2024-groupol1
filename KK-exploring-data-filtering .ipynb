{
 "cells": [
  {
   "cell_type": "markdown",
   "id": "e471b26a",
   "metadata": {},
   "source": [
    "## Exploration Data"
   ]
  },
  {
   "cell_type": "code",
   "execution_count": 7,
   "id": "db344541",
   "metadata": {},
   "outputs": [],
   "source": [
    "import pandas as pd\n",
    "import numpy as np\n",
    "from IPython.display import display"
   ]
  },
  {
   "cell_type": "code",
   "execution_count": 8,
   "id": "e7ce9c4b",
   "metadata": {},
   "outputs": [
    {
     "data": {
      "text/html": [
       "<div>\n",
       "<style scoped>\n",
       "    .dataframe tbody tr th:only-of-type {\n",
       "        vertical-align: middle;\n",
       "    }\n",
       "\n",
       "    .dataframe tbody tr th {\n",
       "        vertical-align: top;\n",
       "    }\n",
       "\n",
       "    .dataframe thead th {\n",
       "        text-align: right;\n",
       "    }\n",
       "</style>\n",
       "<table border=\"1\" class=\"dataframe\">\n",
       "  <thead>\n",
       "    <tr style=\"text-align: right;\">\n",
       "      <th></th>\n",
       "      <th>complex.id</th>\n",
       "      <th>gene</th>\n",
       "      <th>cdr3</th>\n",
       "      <th>v.segm</th>\n",
       "      <th>j.segm</th>\n",
       "      <th>species</th>\n",
       "      <th>mhc.a</th>\n",
       "      <th>mhc.b</th>\n",
       "      <th>mhc.class</th>\n",
       "      <th>antigen.epitope</th>\n",
       "      <th>...</th>\n",
       "      <th>antigen.species</th>\n",
       "      <th>reference.id</th>\n",
       "      <th>method</th>\n",
       "      <th>meta</th>\n",
       "      <th>cdr3fix</th>\n",
       "      <th>vdjdb.score</th>\n",
       "      <th>web.method</th>\n",
       "      <th>web.method.seq</th>\n",
       "      <th>web.cdr3fix.nc</th>\n",
       "      <th>web.cdr3fix.unmp</th>\n",
       "    </tr>\n",
       "  </thead>\n",
       "  <tbody>\n",
       "    <tr>\n",
       "      <th>29181</th>\n",
       "      <td>4110</td>\n",
       "      <td>TRB</td>\n",
       "      <td>CASTLITGELFF</td>\n",
       "      <td>TRBV28*01</td>\n",
       "      <td>TRBJ2-2*01</td>\n",
       "      <td>HomoSapiens</td>\n",
       "      <td>HLA-A*03:01</td>\n",
       "      <td>B2M</td>\n",
       "      <td>MHCI</td>\n",
       "      <td>KLGGALQAK</td>\n",
       "      <td>...</td>\n",
       "      <td>CMV</td>\n",
       "      <td>https://www.10xgenomics.com/resources/applicat...</td>\n",
       "      <td>{\"frequency\": \"1/11684\", \"identification\": \"de...</td>\n",
       "      <td>{\"cell.subset\": \"\", \"clone.id\": \"\", \"donor.MHC...</td>\n",
       "      <td>{\"cdr3\": \"CASTLITGELFF\", \"cdr3_old\": \"CASTLITG...</td>\n",
       "      <td>0</td>\n",
       "      <td>sort</td>\n",
       "      <td>singlecell</td>\n",
       "      <td>no</td>\n",
       "      <td>no</td>\n",
       "    </tr>\n",
       "    <tr>\n",
       "      <th>33586</th>\n",
       "      <td>6313</td>\n",
       "      <td>TRA</td>\n",
       "      <td>CAASSFSGTYKYIF</td>\n",
       "      <td>TRAV23/DV6*01</td>\n",
       "      <td>TRAJ40*01</td>\n",
       "      <td>HomoSapiens</td>\n",
       "      <td>HLA-A*02:01</td>\n",
       "      <td>B2M</td>\n",
       "      <td>MHCI</td>\n",
       "      <td>ELAGIGILTV</td>\n",
       "      <td>...</td>\n",
       "      <td>HomoSapiens</td>\n",
       "      <td>https://www.10xgenomics.com/resources/applicat...</td>\n",
       "      <td>{\"frequency\": \"1/11684\", \"identification\": \"de...</td>\n",
       "      <td>{\"cell.subset\": \"\", \"clone.id\": \"\", \"donor.MHC...</td>\n",
       "      <td>{\"cdr3\": \"CAASSFSGTYKYIF\", \"cdr3_old\": \"CAASSF...</td>\n",
       "      <td>0</td>\n",
       "      <td>sort</td>\n",
       "      <td>singlecell</td>\n",
       "      <td>no</td>\n",
       "      <td>no</td>\n",
       "    </tr>\n",
       "    <tr>\n",
       "      <th>80722</th>\n",
       "      <td>0</td>\n",
       "      <td>TRB</td>\n",
       "      <td>CASSGPGGEQYF</td>\n",
       "      <td>TRBV28*01</td>\n",
       "      <td>TRBJ2-7*01</td>\n",
       "      <td>HomoSapiens</td>\n",
       "      <td>HLA-B*57:01</td>\n",
       "      <td>B2M</td>\n",
       "      <td>MHCI</td>\n",
       "      <td>KAFSPEVIPMF</td>\n",
       "      <td>...</td>\n",
       "      <td>HIV-1</td>\n",
       "      <td>PMID:18802118</td>\n",
       "      <td>{\"frequency\": \"1/88\", \"identification\": \"beads...</td>\n",
       "      <td>{\"cell.subset\": \"CD8+\", \"clone.id\": \"\", \"donor...</td>\n",
       "      <td>{\"cdr3\": \"CASSGPGGEQYF\", \"cdr3_old\": \"CASSGPGG...</td>\n",
       "      <td>0</td>\n",
       "      <td>sort</td>\n",
       "      <td>sanger</td>\n",
       "      <td>no</td>\n",
       "      <td>no</td>\n",
       "    </tr>\n",
       "    <tr>\n",
       "      <th>14069</th>\n",
       "      <td>0</td>\n",
       "      <td>TRA</td>\n",
       "      <td>CAVQANAGKSTF</td>\n",
       "      <td>TRAV20*01</td>\n",
       "      <td>TRAJ27*01</td>\n",
       "      <td>HomoSapiens</td>\n",
       "      <td>HLA-A*02</td>\n",
       "      <td>B2M</td>\n",
       "      <td>MHCI</td>\n",
       "      <td>GILGFVFTL</td>\n",
       "      <td>...</td>\n",
       "      <td>InfluenzaA</td>\n",
       "      <td>PMID:28423320</td>\n",
       "      <td>{\"frequency\": \"0.0052%\", \"identification\": \"an...</td>\n",
       "      <td>{\"cell.subset\": \"CD8+\", \"clone.id\": \"\", \"donor...</td>\n",
       "      <td>{\"cdr3\": \"CAVQANAGKSTF\", \"cdr3_old\": \"CAVQANAG...</td>\n",
       "      <td>0</td>\n",
       "      <td>sort</td>\n",
       "      <td>amplicon</td>\n",
       "      <td>no</td>\n",
       "      <td>no</td>\n",
       "    </tr>\n",
       "    <tr>\n",
       "      <th>20343</th>\n",
       "      <td>0</td>\n",
       "      <td>TRB</td>\n",
       "      <td>CASSPGTGVEQYF</td>\n",
       "      <td>TRBV13-1*01</td>\n",
       "      <td>TRBJ2-1*01</td>\n",
       "      <td>MusMusculus</td>\n",
       "      <td>H-2Kb</td>\n",
       "      <td>B2M</td>\n",
       "      <td>MHCI</td>\n",
       "      <td>KGYVYQGL</td>\n",
       "      <td>...</td>\n",
       "      <td>VSV</td>\n",
       "      <td>PMID:9560256</td>\n",
       "      <td>{\"frequency\": \"2/12\", \"identification\": \"antig...</td>\n",
       "      <td>{\"cell.subset\": \"CD8+,Va2+\", \"clone.id\": \"\", \"...</td>\n",
       "      <td>{\"cdr3\": \"CASSPGTGVEQYF\", \"cdr3_old\": \"CASSPGT...</td>\n",
       "      <td>2</td>\n",
       "      <td>culture</td>\n",
       "      <td>sanger</td>\n",
       "      <td>no</td>\n",
       "      <td>yes</td>\n",
       "    </tr>\n",
       "  </tbody>\n",
       "</table>\n",
       "<p>5 rows × 21 columns</p>\n",
       "</div>"
      ],
      "text/plain": [
       "       complex.id gene            cdr3         v.segm      j.segm  \\\n",
       "29181        4110  TRB    CASTLITGELFF      TRBV28*01  TRBJ2-2*01   \n",
       "33586        6313  TRA  CAASSFSGTYKYIF  TRAV23/DV6*01   TRAJ40*01   \n",
       "80722           0  TRB    CASSGPGGEQYF      TRBV28*01  TRBJ2-7*01   \n",
       "14069           0  TRA    CAVQANAGKSTF      TRAV20*01   TRAJ27*01   \n",
       "20343           0  TRB   CASSPGTGVEQYF    TRBV13-1*01  TRBJ2-1*01   \n",
       "\n",
       "           species        mhc.a mhc.b mhc.class antigen.epitope  ...  \\\n",
       "29181  HomoSapiens  HLA-A*03:01   B2M      MHCI       KLGGALQAK  ...   \n",
       "33586  HomoSapiens  HLA-A*02:01   B2M      MHCI      ELAGIGILTV  ...   \n",
       "80722  HomoSapiens  HLA-B*57:01   B2M      MHCI     KAFSPEVIPMF  ...   \n",
       "14069  HomoSapiens     HLA-A*02   B2M      MHCI       GILGFVFTL  ...   \n",
       "20343  MusMusculus        H-2Kb   B2M      MHCI        KGYVYQGL  ...   \n",
       "\n",
       "      antigen.species                                       reference.id  \\\n",
       "29181             CMV  https://www.10xgenomics.com/resources/applicat...   \n",
       "33586     HomoSapiens  https://www.10xgenomics.com/resources/applicat...   \n",
       "80722           HIV-1                                      PMID:18802118   \n",
       "14069      InfluenzaA                                      PMID:28423320   \n",
       "20343             VSV                                       PMID:9560256   \n",
       "\n",
       "                                                  method  \\\n",
       "29181  {\"frequency\": \"1/11684\", \"identification\": \"de...   \n",
       "33586  {\"frequency\": \"1/11684\", \"identification\": \"de...   \n",
       "80722  {\"frequency\": \"1/88\", \"identification\": \"beads...   \n",
       "14069  {\"frequency\": \"0.0052%\", \"identification\": \"an...   \n",
       "20343  {\"frequency\": \"2/12\", \"identification\": \"antig...   \n",
       "\n",
       "                                                    meta  \\\n",
       "29181  {\"cell.subset\": \"\", \"clone.id\": \"\", \"donor.MHC...   \n",
       "33586  {\"cell.subset\": \"\", \"clone.id\": \"\", \"donor.MHC...   \n",
       "80722  {\"cell.subset\": \"CD8+\", \"clone.id\": \"\", \"donor...   \n",
       "14069  {\"cell.subset\": \"CD8+\", \"clone.id\": \"\", \"donor...   \n",
       "20343  {\"cell.subset\": \"CD8+,Va2+\", \"clone.id\": \"\", \"...   \n",
       "\n",
       "                                                 cdr3fix vdjdb.score  \\\n",
       "29181  {\"cdr3\": \"CASTLITGELFF\", \"cdr3_old\": \"CASTLITG...           0   \n",
       "33586  {\"cdr3\": \"CAASSFSGTYKYIF\", \"cdr3_old\": \"CAASSF...           0   \n",
       "80722  {\"cdr3\": \"CASSGPGGEQYF\", \"cdr3_old\": \"CASSGPGG...           0   \n",
       "14069  {\"cdr3\": \"CAVQANAGKSTF\", \"cdr3_old\": \"CAVQANAG...           0   \n",
       "20343  {\"cdr3\": \"CASSPGTGVEQYF\", \"cdr3_old\": \"CASSPGT...           2   \n",
       "\n",
       "       web.method web.method.seq web.cdr3fix.nc web.cdr3fix.unmp  \n",
       "29181        sort     singlecell             no               no  \n",
       "33586        sort     singlecell             no               no  \n",
       "80722        sort         sanger             no               no  \n",
       "14069        sort       amplicon             no               no  \n",
       "20343     culture         sanger             no              yes  \n",
       "\n",
       "[5 rows x 21 columns]"
      ]
     },
     "execution_count": 8,
     "metadata": {},
     "output_type": "execute_result"
    }
   ],
   "source": [
    "import pandas as pd\n",
    "df = pd.read_csv('../Tasking/Github/vdjdb-2023-06-01/vdjdb.txt', sep=\"\\t\")\n",
    "df.sample(5)"
   ]
  },
  {
   "cell_type": "code",
   "execution_count": 9,
   "id": "3bab6f2f",
   "metadata": {},
   "outputs": [
    {
     "data": {
      "text/plain": [
       "(92771, 21)"
      ]
     },
     "execution_count": 9,
     "metadata": {},
     "output_type": "execute_result"
    }
   ],
   "source": [
    "df.shape\n"
   ]
  },
  {
   "cell_type": "markdown",
   "id": "51977353",
   "metadata": {},
   "source": [
    "# Exploring antigen.epitope"
   ]
  },
  {
   "cell_type": "code",
   "execution_count": 10,
   "id": "f76468a7",
   "metadata": {},
   "outputs": [
    {
     "data": {
      "text/plain": [
       "1169"
      ]
     },
     "execution_count": 10,
     "metadata": {},
     "output_type": "execute_result"
    }
   ],
   "source": [
    "# Total number of classes\n",
    "df[\"antigen.epitope\"].nunique()"
   ]
  },
  {
   "cell_type": "code",
   "execution_count": 11,
   "id": "5d0c76eb",
   "metadata": {},
   "outputs": [
    {
     "data": {
      "text/html": [
       "<div>\n",
       "<style scoped>\n",
       "    .dataframe tbody tr th:only-of-type {\n",
       "        vertical-align: middle;\n",
       "    }\n",
       "\n",
       "    .dataframe tbody tr th {\n",
       "        vertical-align: top;\n",
       "    }\n",
       "\n",
       "    .dataframe thead th {\n",
       "        text-align: right;\n",
       "    }\n",
       "</style>\n",
       "<table border=\"1\" class=\"dataframe\">\n",
       "  <thead>\n",
       "    <tr style=\"text-align: right;\">\n",
       "      <th></th>\n",
       "      <th>antigen.epitope</th>\n",
       "      <th>number_of_datapoints</th>\n",
       "    </tr>\n",
       "  </thead>\n",
       "  <tbody>\n",
       "    <tr>\n",
       "      <th>0</th>\n",
       "      <td>KLGGALQAK</td>\n",
       "      <td>27948</td>\n",
       "    </tr>\n",
       "    <tr>\n",
       "      <th>1</th>\n",
       "      <td>GILGFVFTL</td>\n",
       "      <td>10024</td>\n",
       "    </tr>\n",
       "    <tr>\n",
       "      <th>2</th>\n",
       "      <td>NLVPMVATV</td>\n",
       "      <td>8004</td>\n",
       "    </tr>\n",
       "    <tr>\n",
       "      <th>3</th>\n",
       "      <td>AVFDRKSDAK</td>\n",
       "      <td>3546</td>\n",
       "    </tr>\n",
       "    <tr>\n",
       "      <th>4</th>\n",
       "      <td>RAKFKQLL</td>\n",
       "      <td>2756</td>\n",
       "    </tr>\n",
       "    <tr>\n",
       "      <th>...</th>\n",
       "      <td>...</td>\n",
       "      <td>...</td>\n",
       "    </tr>\n",
       "    <tr>\n",
       "      <th>1164</th>\n",
       "      <td>SSSKLWAQY</td>\n",
       "      <td>1</td>\n",
       "    </tr>\n",
       "    <tr>\n",
       "      <th>1165</th>\n",
       "      <td>TLVPQEHYV</td>\n",
       "      <td>1</td>\n",
       "    </tr>\n",
       "    <tr>\n",
       "      <th>1166</th>\n",
       "      <td>SFLPGVYSV</td>\n",
       "      <td>1</td>\n",
       "    </tr>\n",
       "    <tr>\n",
       "      <th>1167</th>\n",
       "      <td>RYLALYNKY</td>\n",
       "      <td>1</td>\n",
       "    </tr>\n",
       "    <tr>\n",
       "      <th>1168</th>\n",
       "      <td>IPIQASLSF</td>\n",
       "      <td>1</td>\n",
       "    </tr>\n",
       "  </tbody>\n",
       "</table>\n",
       "<p>1169 rows × 2 columns</p>\n",
       "</div>"
      ],
      "text/plain": [
       "     antigen.epitope  number_of_datapoints\n",
       "0          KLGGALQAK                 27948\n",
       "1          GILGFVFTL                 10024\n",
       "2          NLVPMVATV                  8004\n",
       "3         AVFDRKSDAK                  3546\n",
       "4           RAKFKQLL                  2756\n",
       "...              ...                   ...\n",
       "1164       SSSKLWAQY                     1\n",
       "1165       TLVPQEHYV                     1\n",
       "1166       SFLPGVYSV                     1\n",
       "1167       RYLALYNKY                     1\n",
       "1168       IPIQASLSF                     1\n",
       "\n",
       "[1169 rows x 2 columns]"
      ]
     },
     "execution_count": 11,
     "metadata": {},
     "output_type": "execute_result"
    }
   ],
   "source": [
    "# Frequency of rows for each epitope\n",
    "freq_count = df[\"antigen.epitope\"].value_counts()\n",
    "# freq_count[freq_count<10000]\n",
    "freq_count.reset_index().rename({\n",
    "    \"antigen.epitope\": \"number_of_datapoints\",\n",
    "    \"index\": \"antigen.epitope\"\n",
    "},axis = 1)"
   ]
  },
  {
   "cell_type": "raw",
   "id": "b8ed3ec7",
   "metadata": {},
   "source": [
    "# The above table shows small number of epitopes have a high number of datapoints. Conversely, a large number of epitopes have a small number of datapoints."
   ]
  },
  {
   "cell_type": "code",
   "execution_count": 12,
   "id": "362255bb",
   "metadata": {},
   "outputs": [
    {
     "name": "stdout",
     "output_type": "stream",
     "text": [
      "Epitopes having less than 500 datapoints:  1142\n",
      "Epitopes having more than 500 datapoints:  27\n"
     ]
    }
   ],
   "source": [
    "## Epitopes having less or more than N number of datapoints\n",
    "\n",
    "def print_num_epitopes(N):\n",
    "    \n",
    "    print(f\"\"\"Epitopes having less than {N} datapoints:  {freq_count[freq_count<N].shape[0]}\"\"\")\n",
    "    \n",
    "    print(f\"\"\"Epitopes having more than {N} datapoints:  {df[\"antigen.epitope\"].nunique() - freq_count[freq_count<N].shape[0]}\"\"\")\n",
    "    \n",
    "    \n",
    "print_num_epitopes(500)"
   ]
  },
  {
   "cell_type": "code",
   "execution_count": 13,
   "id": "c078cf46",
   "metadata": {},
   "outputs": [],
   "source": [
    "## Majority of epitopes have less than 10 datapoints."
   ]
  },
  {
   "cell_type": "code",
   "execution_count": 14,
   "id": "3ec5183f",
   "metadata": {},
   "outputs": [
    {
     "name": "stdout",
     "output_type": "stream",
     "text": [
      "Epitopes having less than 100 datapoints:  1094\n",
      "Epitopes having more than 100 datapoints:  75\n"
     ]
    }
   ],
   "source": [
    "print_num_epitopes(100)"
   ]
  },
  {
   "cell_type": "markdown",
   "id": "370c38e8",
   "metadata": {},
   "source": [
    "# Exploring antigen.species"
   ]
  },
  {
   "cell_type": "code",
   "execution_count": 15,
   "id": "3d96be3b",
   "metadata": {},
   "outputs": [
    {
     "data": {
      "text/plain": [
       "antigen.species\n",
       "CMV            38345\n",
       "InfluenzaA     15182\n",
       "EBV            11440\n",
       "SARS-CoV-2     10133\n",
       "HomoSapiens     5095\n",
       "HIV-1           3554\n",
       "HCV             2359\n",
       "SIV             2119\n",
       "MCMV            1463\n",
       "YFV              789\n",
       "Name: antigen.epitope, dtype: int64"
      ]
     },
     "execution_count": 15,
     "metadata": {},
     "output_type": "execute_result"
    }
   ],
   "source": [
    "# Top 10 antigen species in terms of number of records\n",
    "num_datapoints_each_species = df.groupby(\"antigen.species\")[\"antigen.epitope\"].count().sort_values(ascending = False)\n",
    "num_datapoints_each_species.head(10)"
   ]
  },
  {
   "cell_type": "code",
   "execution_count": 16,
   "id": "294dffb7",
   "metadata": {},
   "outputs": [
    {
     "data": {
      "text/plain": [
       "['CMV',\n",
       " 'InfluenzaA',\n",
       " 'EBV',\n",
       " 'SARS-CoV-2',\n",
       " 'HomoSapiens',\n",
       " 'HIV-1',\n",
       " 'HCV',\n",
       " 'SIV',\n",
       " 'MCMV',\n",
       " 'YFV']"
      ]
     },
     "execution_count": 16,
     "metadata": {},
     "output_type": "execute_result"
    }
   ],
   "source": [
    "top_10_antigen_species = num_datapoints_each_species[:10].index.to_list()\n",
    "top_10_antigen_species"
   ]
  },
  {
   "cell_type": "markdown",
   "id": "ed372971",
   "metadata": {},
   "source": [
    "# Filtering the data  \n",
    "\n",
    "Filter the data based on the top 10 epitopes in terms of data points.\n",
    "Filter data based on the vdj score."
   ]
  },
  {
   "cell_type": "code",
   "execution_count": 17,
   "id": "59725f3e",
   "metadata": {},
   "outputs": [
    {
     "data": {
      "text/plain": [
       "KLGGALQAK     27948\n",
       "GILGFVFTL     10024\n",
       "NLVPMVATV      8004\n",
       "AVFDRKSDAK     3546\n",
       "RAKFKQLL       2756\n",
       "ELAGIGILTV     2687\n",
       "YLQPRTFLL      2008\n",
       "GLCTLVAML      1879\n",
       "IVTDFSVIK      1486\n",
       "SSYRRPVGI      1322\n",
       "Name: antigen.epitope, dtype: int64"
      ]
     },
     "metadata": {},
     "output_type": "display_data"
    },
    {
     "name": "stdout",
     "output_type": "stream",
     "text": [
      "Top 10 epitopes in terms of data points: \n",
      "['KLGGALQAK', 'GILGFVFTL', 'NLVPMVATV', 'AVFDRKSDAK', 'RAKFKQLL', 'ELAGIGILTV', 'YLQPRTFLL', 'GLCTLVAML', 'IVTDFSVIK', 'SSYRRPVGI']\n"
     ]
    }
   ],
   "source": [
    "## filtering the data based on top 10 epitopes in terms of data points\n",
    "\n",
    "freq_count = df[\"antigen.epitope\"].value_counts()\n",
    "display(freq_count[:10])\n",
    "top_10_epitopes = freq_count[:10].index.to_list()\n",
    "print(f\"Top 10 epitopes in terms of data points: \\n{top_10_epitopes}\")"
   ]
  },
  {
   "cell_type": "code",
   "execution_count": 18,
   "id": "98bb1257",
   "metadata": {},
   "outputs": [
    {
     "data": {
      "text/html": [
       "<div>\n",
       "<style scoped>\n",
       "    .dataframe tbody tr th:only-of-type {\n",
       "        vertical-align: middle;\n",
       "    }\n",
       "\n",
       "    .dataframe tbody tr th {\n",
       "        vertical-align: top;\n",
       "    }\n",
       "\n",
       "    .dataframe thead th {\n",
       "        text-align: right;\n",
       "    }\n",
       "</style>\n",
       "<table border=\"1\" class=\"dataframe\">\n",
       "  <thead>\n",
       "    <tr style=\"text-align: right;\">\n",
       "      <th></th>\n",
       "      <th>complex.id</th>\n",
       "      <th>gene</th>\n",
       "      <th>cdr3</th>\n",
       "      <th>v.segm</th>\n",
       "      <th>j.segm</th>\n",
       "      <th>species</th>\n",
       "      <th>mhc.a</th>\n",
       "      <th>mhc.b</th>\n",
       "      <th>mhc.class</th>\n",
       "      <th>antigen.epitope</th>\n",
       "      <th>...</th>\n",
       "      <th>antigen.species</th>\n",
       "      <th>reference.id</th>\n",
       "      <th>method</th>\n",
       "      <th>meta</th>\n",
       "      <th>cdr3fix</th>\n",
       "      <th>vdjdb.score</th>\n",
       "      <th>web.method</th>\n",
       "      <th>web.method.seq</th>\n",
       "      <th>web.cdr3fix.nc</th>\n",
       "      <th>web.cdr3fix.unmp</th>\n",
       "    </tr>\n",
       "  </thead>\n",
       "  <tbody>\n",
       "    <tr>\n",
       "      <th>398</th>\n",
       "      <td>0</td>\n",
       "      <td>TRB</td>\n",
       "      <td>CASSPQTGTGGYGYTF</td>\n",
       "      <td>TRBV6-5*01</td>\n",
       "      <td>NaN</td>\n",
       "      <td>HomoSapiens</td>\n",
       "      <td>HLA-A*02:01</td>\n",
       "      <td>B2M</td>\n",
       "      <td>MHCI</td>\n",
       "      <td>NLVPMVATV</td>\n",
       "      <td>...</td>\n",
       "      <td>CMV</td>\n",
       "      <td>PMID:12165524</td>\n",
       "      <td>{\"frequency\": \"\", \"identification\": \"tetramer-...</td>\n",
       "      <td>{\"cell.subset\": \"CD8\", \"clone.id\": \"\", \"donor....</td>\n",
       "      <td>{\"cdr3\": \"CASSPQTGTGGYGYTF\", \"cdr3_old\": \"CASS...</td>\n",
       "      <td>0</td>\n",
       "      <td>other</td>\n",
       "      <td>sanger</td>\n",
       "      <td>no</td>\n",
       "      <td>yes</td>\n",
       "    </tr>\n",
       "    <tr>\n",
       "      <th>399</th>\n",
       "      <td>0</td>\n",
       "      <td>TRB</td>\n",
       "      <td>CASSPQTGTGGYGYTF</td>\n",
       "      <td>TRBV6-5*01</td>\n",
       "      <td>NaN</td>\n",
       "      <td>HomoSapiens</td>\n",
       "      <td>HLA-A*02:01</td>\n",
       "      <td>B2M</td>\n",
       "      <td>MHCI</td>\n",
       "      <td>NLVPMVATV</td>\n",
       "      <td>...</td>\n",
       "      <td>CMV</td>\n",
       "      <td>PMID:12165524</td>\n",
       "      <td>{\"frequency\": \"\", \"identification\": \"tetramer-...</td>\n",
       "      <td>{\"cell.subset\": \"CD8\", \"clone.id\": \"\", \"donor....</td>\n",
       "      <td>{\"cdr3\": \"CASSPQTGTGGYGYTF\", \"cdr3_old\": \"CASS...</td>\n",
       "      <td>0</td>\n",
       "      <td>other</td>\n",
       "      <td>sanger</td>\n",
       "      <td>no</td>\n",
       "      <td>yes</td>\n",
       "    </tr>\n",
       "    <tr>\n",
       "      <th>400</th>\n",
       "      <td>0</td>\n",
       "      <td>TRB</td>\n",
       "      <td>CASSPLFGTSGGETYYF</td>\n",
       "      <td>TRBV6-5*01</td>\n",
       "      <td>NaN</td>\n",
       "      <td>HomoSapiens</td>\n",
       "      <td>HLA-A*02:01</td>\n",
       "      <td>B2M</td>\n",
       "      <td>MHCI</td>\n",
       "      <td>NLVPMVATV</td>\n",
       "      <td>...</td>\n",
       "      <td>CMV</td>\n",
       "      <td>PMID:12165524</td>\n",
       "      <td>{\"frequency\": \"\", \"identification\": \"tetramer-...</td>\n",
       "      <td>{\"cell.subset\": \"CD8\", \"clone.id\": \"\", \"donor....</td>\n",
       "      <td>{\"cdr3\": \"CASSPLFGTSGGETYYF\", \"cdr3_old\": \"CAS...</td>\n",
       "      <td>0</td>\n",
       "      <td>other</td>\n",
       "      <td>sanger</td>\n",
       "      <td>no</td>\n",
       "      <td>yes</td>\n",
       "    </tr>\n",
       "    <tr>\n",
       "      <th>401</th>\n",
       "      <td>0</td>\n",
       "      <td>TRB</td>\n",
       "      <td>CASSPQTGTGGYGYTF</td>\n",
       "      <td>TRBV6-5*01</td>\n",
       "      <td>NaN</td>\n",
       "      <td>HomoSapiens</td>\n",
       "      <td>HLA-A*02:01</td>\n",
       "      <td>B2M</td>\n",
       "      <td>MHCI</td>\n",
       "      <td>NLVPMVATV</td>\n",
       "      <td>...</td>\n",
       "      <td>CMV</td>\n",
       "      <td>PMID:12165524</td>\n",
       "      <td>{\"frequency\": \"\", \"identification\": \"tetramer-...</td>\n",
       "      <td>{\"cell.subset\": \"CD8\", \"clone.id\": \"\", \"donor....</td>\n",
       "      <td>{\"cdr3\": \"CASSPQTGTGGYGYTF\", \"cdr3_old\": \"CASS...</td>\n",
       "      <td>0</td>\n",
       "      <td>other</td>\n",
       "      <td>sanger</td>\n",
       "      <td>no</td>\n",
       "      <td>yes</td>\n",
       "    </tr>\n",
       "    <tr>\n",
       "      <th>402</th>\n",
       "      <td>0</td>\n",
       "      <td>TRB</td>\n",
       "      <td>CASSPQTGASYGYTF</td>\n",
       "      <td>TRBV6-5*01</td>\n",
       "      <td>NaN</td>\n",
       "      <td>HomoSapiens</td>\n",
       "      <td>HLA-A*02:01</td>\n",
       "      <td>B2M</td>\n",
       "      <td>MHCI</td>\n",
       "      <td>NLVPMVATV</td>\n",
       "      <td>...</td>\n",
       "      <td>CMV</td>\n",
       "      <td>PMID:12165524</td>\n",
       "      <td>{\"frequency\": \"\", \"identification\": \"tetramer-...</td>\n",
       "      <td>{\"cell.subset\": \"CD8\", \"clone.id\": \"\", \"donor....</td>\n",
       "      <td>{\"cdr3\": \"CASSPQTGASYGYTF\", \"cdr3_old\": \"CASSP...</td>\n",
       "      <td>0</td>\n",
       "      <td>other</td>\n",
       "      <td>sanger</td>\n",
       "      <td>no</td>\n",
       "      <td>yes</td>\n",
       "    </tr>\n",
       "  </tbody>\n",
       "</table>\n",
       "<p>5 rows × 21 columns</p>\n",
       "</div>"
      ],
      "text/plain": [
       "     complex.id gene               cdr3      v.segm j.segm      species  \\\n",
       "398           0  TRB   CASSPQTGTGGYGYTF  TRBV6-5*01    NaN  HomoSapiens   \n",
       "399           0  TRB   CASSPQTGTGGYGYTF  TRBV6-5*01    NaN  HomoSapiens   \n",
       "400           0  TRB  CASSPLFGTSGGETYYF  TRBV6-5*01    NaN  HomoSapiens   \n",
       "401           0  TRB   CASSPQTGTGGYGYTF  TRBV6-5*01    NaN  HomoSapiens   \n",
       "402           0  TRB    CASSPQTGASYGYTF  TRBV6-5*01    NaN  HomoSapiens   \n",
       "\n",
       "           mhc.a mhc.b mhc.class antigen.epitope  ... antigen.species  \\\n",
       "398  HLA-A*02:01   B2M      MHCI       NLVPMVATV  ...             CMV   \n",
       "399  HLA-A*02:01   B2M      MHCI       NLVPMVATV  ...             CMV   \n",
       "400  HLA-A*02:01   B2M      MHCI       NLVPMVATV  ...             CMV   \n",
       "401  HLA-A*02:01   B2M      MHCI       NLVPMVATV  ...             CMV   \n",
       "402  HLA-A*02:01   B2M      MHCI       NLVPMVATV  ...             CMV   \n",
       "\n",
       "      reference.id                                             method  \\\n",
       "398  PMID:12165524  {\"frequency\": \"\", \"identification\": \"tetramer-...   \n",
       "399  PMID:12165524  {\"frequency\": \"\", \"identification\": \"tetramer-...   \n",
       "400  PMID:12165524  {\"frequency\": \"\", \"identification\": \"tetramer-...   \n",
       "401  PMID:12165524  {\"frequency\": \"\", \"identification\": \"tetramer-...   \n",
       "402  PMID:12165524  {\"frequency\": \"\", \"identification\": \"tetramer-...   \n",
       "\n",
       "                                                  meta  \\\n",
       "398  {\"cell.subset\": \"CD8\", \"clone.id\": \"\", \"donor....   \n",
       "399  {\"cell.subset\": \"CD8\", \"clone.id\": \"\", \"donor....   \n",
       "400  {\"cell.subset\": \"CD8\", \"clone.id\": \"\", \"donor....   \n",
       "401  {\"cell.subset\": \"CD8\", \"clone.id\": \"\", \"donor....   \n",
       "402  {\"cell.subset\": \"CD8\", \"clone.id\": \"\", \"donor....   \n",
       "\n",
       "                                               cdr3fix vdjdb.score  \\\n",
       "398  {\"cdr3\": \"CASSPQTGTGGYGYTF\", \"cdr3_old\": \"CASS...           0   \n",
       "399  {\"cdr3\": \"CASSPQTGTGGYGYTF\", \"cdr3_old\": \"CASS...           0   \n",
       "400  {\"cdr3\": \"CASSPLFGTSGGETYYF\", \"cdr3_old\": \"CAS...           0   \n",
       "401  {\"cdr3\": \"CASSPQTGTGGYGYTF\", \"cdr3_old\": \"CASS...           0   \n",
       "402  {\"cdr3\": \"CASSPQTGASYGYTF\", \"cdr3_old\": \"CASSP...           0   \n",
       "\n",
       "     web.method web.method.seq web.cdr3fix.nc web.cdr3fix.unmp  \n",
       "398       other         sanger             no              yes  \n",
       "399       other         sanger             no              yes  \n",
       "400       other         sanger             no              yes  \n",
       "401       other         sanger             no              yes  \n",
       "402       other         sanger             no              yes  \n",
       "\n",
       "[5 rows x 21 columns]"
      ]
     },
     "execution_count": 18,
     "metadata": {},
     "output_type": "execute_result"
    }
   ],
   "source": [
    "df_top_10_epitopes = df[\n",
    "    (df[\"antigen.epitope\"] == \"KLGGALQAK\") |\n",
    "    (df[\"antigen.epitope\"] == \"GILGFVFTL\") |\n",
    "    (df[\"antigen.epitope\"] == \"NLVPMVATV\") |\n",
    "    (df[\"antigen.epitope\"] == \"AVFDRKSDAK\") |\n",
    "    (df[\"antigen.epitope\"] == \"RAKFKQLL\") |\n",
    "    (df[\"antigen.epitope\"] == \"ELAGIGILTV\") |\n",
    "    (df[\"antigen.epitope\"] == \"YLQPRTFLL\") |\n",
    "    (df[\"antigen.epitope\"] == \"GLCTLVAML\") |\n",
    "    (df[\"antigen.epitope\"] == \"IVTDFSVIK\") |\n",
    "    (df[\"antigen.epitope\"] == \"SSYRRPVGI\") \n",
    "]\n",
    "df_top_10_epitopes.head()"
   ]
  },
  {
   "cell_type": "code",
   "execution_count": 19,
   "id": "4f3dbd4a",
   "metadata": {},
   "outputs": [
    {
     "data": {
      "text/plain": [
       "(61660, 21)"
      ]
     },
     "execution_count": 19,
     "metadata": {},
     "output_type": "execute_result"
    }
   ],
   "source": [
    "df_top_10_epitopes.shape"
   ]
  },
  {
   "cell_type": "code",
   "execution_count": 20,
   "id": "2c069fcf",
   "metadata": {},
   "outputs": [
    {
     "data": {
      "text/plain": [
       "0    57964\n",
       "1     2152\n",
       "3      907\n",
       "2      637\n",
       "Name: vdjdb.score, dtype: int64"
      ]
     },
     "execution_count": 20,
     "metadata": {},
     "output_type": "execute_result"
    }
   ],
   "source": [
    "df_top_10_epitopes[\"vdjdb.score\"].value_counts()"
   ]
  },
  {
   "cell_type": "code",
   "execution_count": 21,
   "id": "b8fb116e",
   "metadata": {},
   "outputs": [
    {
     "data": {
      "image/png": "[encoded data removed]",
      "text/plain": [
       "<Figure size 640x480 with 1 Axes>"
      ]
     },
     "metadata": {},
     "output_type": "display_data"
    }
   ],
   "source": [
    "df_top_10_epitopes[\"vdjdb.score\"].value_counts().plot(kind = \"bar\");"
   ]
  },
  {
   "cell_type": "markdown",
   "id": "b0ad5582",
   "metadata": {},
   "source": [
    "# score_greater_than_0"
   ]
  },
  {
   "cell_type": "code",
   "execution_count": 22,
   "id": "253dd192",
   "metadata": {},
   "outputs": [
    {
     "data": {
      "text/plain": [
       "(3696, 21)"
      ]
     },
     "execution_count": 22,
     "metadata": {},
     "output_type": "execute_result"
    }
   ],
   "source": [
    "df_score_greater_than_0 = df_top_10_epitopes[df_top_10_epitopes[\"vdjdb.score\"]>0]\n",
    "df_score_greater_than_0.shape"
   ]
  },
  {
   "cell_type": "code",
   "execution_count": 23,
   "id": "607f9f21",
   "metadata": {},
   "outputs": [
    {
     "data": {
      "text/plain": [
       "NLVPMVATV     1278\n",
       "GILGFVFTL      739\n",
       "SSYRRPVGI      522\n",
       "GLCTLVAML      447\n",
       "YLQPRTFLL      244\n",
       "RAKFKQLL       243\n",
       "ELAGIGILTV     176\n",
       "IVTDFSVIK       30\n",
       "AVFDRKSDAK      15\n",
       "KLGGALQAK        2\n",
       "Name: antigen.epitope, dtype: int64"
      ]
     },
     "execution_count": 23,
     "metadata": {},
     "output_type": "execute_result"
    }
   ],
   "source": [
    "df_score_greater_than_0[\"antigen.epitope\"].value_counts()"
   ]
  },
  {
   "cell_type": "code",
   "execution_count": 24,
   "id": "4ca5aa98",
   "metadata": {},
   "outputs": [
    {
     "data": {
      "text/plain": [
       "NLVPMVATV               1278\n",
       "GILGFVFTL                739\n",
       "SSYRRPVGI                522\n",
       "GLCTLVAML                447\n",
       "NEGVKAAW                 425\n",
       "TTPESANL                 303\n",
       "FRDYVDRFYKTLRAEQASQE     292\n",
       "SSPPMFRV                 291\n",
       "CTPYDINQM                273\n",
       "ASNENMETM                272\n",
       "Name: antigen.epitope, dtype: int64"
      ]
     },
     "execution_count": 24,
     "metadata": {},
     "output_type": "execute_result"
    }
   ],
   "source": [
    "df[df[\"vdjdb.score\"]>0][\"antigen.epitope\"].value_counts()[:10]"
   ]
  },
  {
   "cell_type": "markdown",
   "id": "6d2a8cc7",
   "metadata": {},
   "source": [
    "- Removing datapoints that have a vdjb.score = 0, results in a significant reduction of datapoints. Lack of datapoints could impact the performance of the classifier. "
   ]
  },
  {
   "cell_type": "code",
   "execution_count": null,
   "id": "8c6c53c6",
   "metadata": {},
   "outputs": [],
   "source": []
  }
 ],
 "metadata": {
  "kernelspec": {
   "display_name": "Python 3 (ipykernel)",
   "language": "python",
   "name": "python3"
  },
  "language_info": {
   "codemirror_mode": {
    "name": "ipython",
    "version": 3
   },
   "file_extension": ".py",
   "mimetype": "text/x-python",
   "name": "python",
   "nbconvert_exporter": "python",
   "pygments_lexer": "ipython3",
   "version": "3.9.13"
  }
 },
 "nbformat": 4,
 "nbformat_minor": 5
}
