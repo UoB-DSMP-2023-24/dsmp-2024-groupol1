{
 "cells": [
  {
   "cell_type": "code",
   "execution_count": 2,
   "metadata": {},
   "outputs": [],
   "source": [
    "import os\n",
    "import time\n",
    "\n",
    "import pandas as pd\n",
    "\n",
    "from datetime import datetime\n",
    "from sklearn.cluster import DBSCAN\n",
    "from tcrdist.repertoire import TCRrep\n",
    "\n",
    "import metrics"
   ]
  },
  {
   "cell_type": "code",
   "execution_count": null,
   "metadata": {},
   "outputs": [],
   "source": [
    "# create TCRDist3 class\n",
    "class TCRDist3:\n",
    "    def __init__(self, input_data: pd.DataFrame) -> None:\n",
    "        self._input_data = input_data\n",
    "        self._processed_data = None\n",
    "        self._save_path = os.path.join(os.getcwd(), 'results')\n",
    "        self._settings = {\n",
    "            'Datetime': datetime.now().strftime('%Y%m%d_%H%M%S'),\n",
    "            'Model': 'TCRDist3',\n",
    "            }"
   ]
  }
 ],
 "metadata": {
  "kernelspec": {
   "display_name": "dsmp_groupol1",
   "language": "python",
   "name": "python3"
  },
  "language_info": {
   "codemirror_mode": {
    "name": "ipython",
    "version": 3
   },
   "file_extension": ".py",
   "mimetype": "text/x-python",
   "name": "python",
   "nbconvert_exporter": "python",
   "pygments_lexer": "ipython3",
   "version": "3.9.16"
  }
 },
 "nbformat": 4,
 "nbformat_minor": 2
}
