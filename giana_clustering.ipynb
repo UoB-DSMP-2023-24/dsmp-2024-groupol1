{
 "cells": [
  {
   "cell_type": "code",
   "execution_count": 1,
   "metadata": {},
   "outputs": [],
   "source": [
    "# Libraries\n",
    "import os\n",
    "import pandas as pd\n",
    "import numpy as np\n",
    "\n",
    "import time\n",
    "from datetime import datetime\n",
    "\n",
    "import metrics"
   ]
  },
  {
   "cell_type": "code",
   "execution_count": 24,
   "metadata": {},
   "outputs": [],
   "source": [
    "# build GIANA class\n",
    "class GIANA:\n",
    "    def __init__(self, input_data: pd.DataFrame) -> None:\n",
    "        self._input_data = input_data\n",
    "        self._processed_data = None\n",
    "        self._start_dir = os.getcwd()\n",
    "        self._giana_path = os.path.join(self._start_dir, 'functions/GIANA/')\n",
    "        self._results_path = os.path.join(self._start_dir, 'results')\n",
    "        self._cluster_map = None\n",
    "        self._settings = {\n",
    "            'Datetime': datetime.now().strftime('%Y%m%d_%H%M%S'),\n",
    "            'Model': 'GIANA',\n",
    "            }\n",
    "        self._save_path = os.path.join(self._results_path, self._settings[\"Datetime\"])\n",
    "\n",
    "    def preprocess_data(self, species: str, antigen_species: str, chain_selection: str, min_vdj_score: int) -> None:\n",
    "        data = self._input_data\n",
    "        chain = chain_selection.lower()\n",
    "        self._settings['Species'] = species\n",
    "        self._settings['Antigen_species'] = antigen_species\n",
    "        self._settings['Chain'] = chain\n",
    "        self._settings['Minimum_VDJ_score'] = min_vdj_score\n",
    "        gene = \"TR\" + chain[0].upper()\n",
    "        cdr3_col_name = \"cdr3.\" + chain\n",
    "        variable_col_name = \"v.\" + chain\n",
    "        out = {}\n",
    "\n",
    "        # filter dataframe\n",
    "        data = data[(data[\"species\"] == species) & (data[\"vdjdb.score\"] >= min_vdj_score) & (data[\"gene\"] == gene)]\n",
    "        if antigen_species is not None:\n",
    "            data = data[data[\"antigen.species\"] == species]\n",
    "\n",
    "        # drop duplicates and null values\n",
    "        data = data.drop_duplicates()\n",
    "        data = data.dropna()\n",
    "\n",
    "        # filter input_data to only show genes belonging to passed chain\n",
    "        data = data.loc[data[\"gene\"] == gene]\n",
    "\n",
    "        out[cdr3_col_name] = data[\"cdr3\"].values\n",
    "        out[variable_col_name] = data[\"v.segm\"].values\n",
    "        out[\"epitope\"] = data[\"antigen.epitope\"].values\n",
    "\n",
    "        self._processed_data = pd.DataFrame.from_dict(out)\n",
    "    \n",
    "    def pad_sequences(self, data: pd.DataFrame) -> None:\n",
    "        df = data.copy()\n",
    "        pad = 50\n",
    "        col = f'cdr3.{self._settings[\"Chain\"]}'\n",
    "        sequence = df[col].values\n",
    "        pad_sequence = []\n",
    "        for seq in sequence:\n",
    "            pad_len = 0 if len(seq) > pad else pad - len(seq)\n",
    "            pad_sequence.append(seq[:pad] + 'X' * pad_len)\n",
    "        self._processed_data[col] = pad_sequence\n",
    "\n",
    "\n",
    "    def get_bio(self, data: pd.DataFrame) -> pd.DataFrame:\n",
    "        print('Getting Bio-ID on V, CDR3')\n",
    "        df = data.copy()\n",
    "        cols = [f'{x}.{self._settings[\"Chain\"]}' for x in ['v','cdr3']]\n",
    "        df.loc[:,'bio']=['-'.join(x) for x in df[cols].values.tolist()]\n",
    "        return df\n",
    "    \n",
    "    def run_giana(self, data: pd.DataFrame) -> None:\n",
    "        self._start_dir = os.getcwd()\n",
    "        os.chdir(self._giana_path)\n",
    "        cols = [f'{x}.{self._settings[\"Chain\"]}' for x in ['cdr3', 'v']]\n",
    "        df = data.copy()\n",
    "        df = df[cols]\n",
    "        df.columns = ['CDR3', 'V']\n",
    "        df.to_csv('input.txt', index=False, header=False, sep='\\t')\n",
    "        print(f'Clustering {len(df)} sequences with GIANA.')\n",
    "\n",
    "        # start timing process\n",
    "        start_time = time.time()\n",
    "        # call GIANA clustering script\n",
    "        %run GIANA4.1.py -f input.txt -O input_clustered.txt -v True\n",
    "        end_time = time.time()\n",
    "        self._settings['time_to_run'] = end_time - start_time\n",
    "        print(f'Elapsed time: {self._settings[\"time_to_run\"]} seconds.')\n",
    "\n",
    "        with open(os.path.join(self._giana_path, 'input_clustered.txt'), 'r') as f:\n",
    "            clusters = f.read().splitlines()[3:]\n",
    "            clusters = pd.DataFrame([x.split('\\t') for x in clusters], columns=['CDR3', 'cluster', 'V'])\n",
    "\n",
    "        # use bioidentities to map from output to input sequences\n",
    "        clusters = self.get_bio(clusters.rename(columns={'CDR3': f'cdr3.{self._settings[\"Chain\"]}', 'V': f'v.{self._settings[\"Chain\"]}'}))\n",
    "        self._cluster_map = {bio: cluster for bio, cluster in clusters[['bio', 'cluster']].values.tolist()}\n",
    "\n",
    "        # reset working directory\n",
    "        os.chdir(self._start_dir)\n",
    "    \n",
    "    def record_performance(self, data: pd.DataFrame) -> None:\n",
    "        df = data.copy()\n",
    "        df.loc[:, 'cluster'] = df['bio'].map(self._cluster_map)\n",
    "        counts = [l for l, n in df['cluster'].value_counts().reset_index()[['cluster','count']].values.tolist() if n<=1]\n",
    "        df.loc[:, 'cluster'] = df.loc[:, 'cluster'].replace(counts, np.nan)\n",
    "\n",
    "        # save clusters\n",
    "        if not os.path.exists(self._save_path):\n",
    "            os.mkdir(self._save_path)\n",
    "\n",
    "        df.to_csv(f'{self._save_path}/GIANA_{self._settings[\"Chain\"]}_clusters.csv')\n",
    "\n",
    "        # record performance\n",
    "        self._settings['n_clusters'] = len(df['cluster'].dropna().unique())\n",
    "\n",
    "        clusterscores = pd.DataFrame()\n",
    "        statistics = pd.DataFrame()\n",
    "        c_scores, stats = metrics.score(df, self._settings)\n",
    "        clusterscores = pd.concat([clusterscores, c_scores])\n",
    "        statistics = pd.concat([statistics, stats])\n",
    "\n",
    "        clusterscores.to_csv(f'{self._save_path}/GIANA_{self._settings[\"Chain\"]}_total.csv')\n",
    "        statistics.to_csv(f'{self._save_path}/GIANA_{self._settings[\"Chain\"]}_stats.csv')\n",
    "\n",
    "        print('GIANA results saved')\n",
    "    "
   ]
  },
  {
   "cell_type": "code",
   "execution_count": 38,
   "metadata": {},
   "outputs": [],
   "source": [
    "df = pd.read_csv('./data/vdjdb.txt', sep=\"\\t\")"
   ]
  },
  {
   "cell_type": "code",
   "execution_count": 39,
   "metadata": {},
   "outputs": [],
   "source": [
    "giana = GIANA(df)"
   ]
  },
  {
   "cell_type": "code",
   "execution_count": 40,
   "metadata": {},
   "outputs": [],
   "source": [
    "giana.preprocess_data(\"HomoSapiens\", \"SARS-CoV-2\", \"beta\", 1)"
   ]
  },
  {
   "cell_type": "code",
   "execution_count": 28,
   "metadata": {},
   "outputs": [],
   "source": [
    "giana.pad_sequences(giana._processed_data)"
   ]
  },
  {
   "cell_type": "code",
   "execution_count": 41,
   "metadata": {},
   "outputs": [
    {
     "name": "stdout",
     "output_type": "stream",
     "text": [
      "Getting Bio-ID on V, CDR3\n"
     ]
    }
   ],
   "source": [
    "bio_data = giana.get_bio(giana._processed_data)"
   ]
  },
  {
   "cell_type": "code",
   "execution_count": 42,
   "metadata": {},
   "outputs": [
    {
     "name": "stdout",
     "output_type": "stream",
     "text": [
      "Clustering 634 sequences with GIANA.\n"
     ]
    },
    {
     "name": "stderr",
     "output_type": "stream",
     "text": [
      "/Users/immanuelfagboyegun/miniconda3/envs/dsmp_groupol1/lib/python3.9/site-packages/sklearn/manifold/_mds.py:298: FutureWarning: The default value of `normalized_stress` will change to `'auto'` in version 1.4. To suppress this warning, manually set the value of `normalized_stress`.\n",
      "  warnings.warn(\n"
     ]
    },
    {
     "name": "stdout",
     "output_type": "stream",
     "text": [
      "\n",
      "GIANA: Geometric Isometry based ANtigen-specific tcr Alignment\n",
      "Ultrafast short peptide alignment exclusively designed for large-scale adaptome analysis\n",
      "\n",
      "Input columns:\n",
      "1. CDR3 amino acid sequence (Starting from C, ending with the first F/L in motif [FL]G.G)\n",
      "2. Variable gene name in Imgt format: TRBVXX-XX*XX\n",
      "3. Joining gene name (optional)\n",
      "4. Frequency (optional)\n",
      "5. Other information (optional)\n",
      "\n",
      "!!! ALL amino acid letters must be CAPITAL !!!\n",
      "\n",
      "\n",
      "Processing input.txt\n",
      "Total time elapsed: 0.073766\n",
      "Maximum memory usage: 506.953728 MB\n",
      "Elapsed time: 0.9905788898468018 seconds.\n",
      "Getting Bio-ID on V, CDR3\n"
     ]
    }
   ],
   "source": [
    "giana.run_giana(bio_data)"
   ]
  },
  {
   "cell_type": "code",
   "execution_count": 43,
   "metadata": {},
   "outputs": [
    {
     "name": "stdout",
     "output_type": "stream",
     "text": [
      "No predictions made for:  {'EMLFSHGLVK', 'AVGVGKSAL', 'SYMIMEIE', 'RLPGVLPRA', 'KLTESLHKV', 'EEAAGIGIL', 'VHFFKNIVTPRTPG', 'RLGEVRHPV', 'YVMAYVMAGVGS', 'RLLQCTQQAV', 'NPVVHFFKNIVTPR', 'MVNTVAGAMK', 'LLIRWQHFL', 'KASEKIFYV', 'YLSFYTAEQL', 'ENPVVHFFKNIVTP', 'HRRGSRSYV', 'GVYDGREHTV', 'QPLALEGSLQKRG', 'MTLHGFMMY', 'ESITGSLGPLL', 'TEDEHFEFY', 'RHDLPPYRVYL', 'VMAPRTLVL', 'EHEGSGPEL', 'RMFPNAPYL', 'QTNPVTLQY', 'RVRFFFPSL', 'KALARALKEGRIR', 'VLLGVKLFGV', 'RNTFRHSVVVPCE', 'ALYGFVPVL', 'QAFWIDLFETIG', 'GLLDEDFYA', 'MTEYKLVVVGAGDVGKSALTIQLI', 'ATGFKQSSKALQRPVAS', 'YLSHLPLTCKF', 'MLIGIPVYV', 'QLCDVMFYL', 'NHVVDISKSGLITIA', 'LQPLALEGSLQKRG', 'YLAMPFATPMEAELARRSLA', 'HQNPVTGLLL', 'LLQCTQQAV', 'ALHGGWTTK', 'LYPEFIASI', 'EVLPFFLFF', 'RLARLALVL', 'FSWGAEGQRPGF', 'SCMGGMNWRPILTII', 'ALLPGLPAA', 'FQDYIKSYL', 'LGYGFVNYI', 'WLIRETQPITK', 'EFTVSGNIL', 'AALPILFQV', 'DPPALASTNAEVT', 'MPYGYVLNEF', 'ILCETCLIV', 'MTEYKLVVVGAVGVGKSALTIQLI', 'HYNYMCNSSCMGSMN', 'GQVELGGGNAVEVCKGS', 'TYDTVHRHL', 'AVGSYVYSV', 'TLREIRRYQK', 'MEVDPIGHLY', 'CISSCNPNL', 'VVGAVGVGK', 'SLSKILDTV', 'ELLVRINRL', 'APARLERRHSA', 'KIFGSLAFL', 'TLYSLTLLY', 'KLSHQLVLL', 'SSCMGGMNWR', 'TLWCSPIKV', 'FRNEGIHL', 'YLYDRLLRV', 'MLYQHLLPL', 'FGDVGSTLF', 'VYFFLPDHL', 'LAMPFATPM', 'FGDHPGHSY', 'MTEYKLVVVGARGVGKSALTIQLI', 'VLNGTVHPV', 'GQVELGGGNAVEVCK', 'FIASNGVKLV', 'GDFGLATEKSRWSGS', 'FMPDFDLHL', 'VVRHCPHHERCSDSD', 'ALLLQLFTL', 'GEEDGAGGHSL', 'YLEPGPVTA', 'RVSTLRVSL', 'RILLVAASY', 'WSYDSTLLAY', 'WMRLLPLL', 'MLFSHGLVK', 'GYNSYSVSNSEKHIM', 'LLLGIGILV', 'FYGKTILWF', 'VVMSWAPPV', 'VVVGADGVGK', 'YLSNIIPAL', 'RYGSFSVTL', 'FLIYLDVSV', 'FLDEFMEGV', 'VVVGAVGVGKSALTIQLIQN', 'GAVGVGKSAL', 'NSKEETGHLENGN'}\n",
      "GIANA results saved\n"
     ]
    }
   ],
   "source": [
    "giana.record_performance(bio_data)"
   ]
  },
  {
   "cell_type": "code",
   "execution_count": 12,
   "metadata": {},
   "outputs": [
    {
     "data": {
      "text/html": [
       "<div>\n",
       "<style scoped>\n",
       "    .dataframe tbody tr th:only-of-type {\n",
       "        vertical-align: middle;\n",
       "    }\n",
       "\n",
       "    .dataframe tbody tr th {\n",
       "        vertical-align: top;\n",
       "    }\n",
       "\n",
       "    .dataframe thead th {\n",
       "        text-align: right;\n",
       "    }\n",
       "</style>\n",
       "<table border=\"1\" class=\"dataframe\">\n",
       "  <thead>\n",
       "    <tr style=\"text-align: right;\">\n",
       "      <th></th>\n",
       "      <th>cdr3.alpha</th>\n",
       "      <th>v.alpha</th>\n",
       "      <th>epitope</th>\n",
       "    </tr>\n",
       "  </thead>\n",
       "  <tbody>\n",
       "    <tr>\n",
       "      <th>0</th>\n",
       "      <td>CAVAGYGGSQGNLIFXXXXXXXXXXXXXXXXXXXXXXXXXXXXXXX...</td>\n",
       "      <td>TRAV12-2*01</td>\n",
       "      <td>ELAGIGILTV</td>\n",
       "    </tr>\n",
       "    <tr>\n",
       "      <th>1</th>\n",
       "      <td>CALSGGDSSYKLIFXXXXXXXXXXXXXXXXXXXXXXXXXXXXXXXX...</td>\n",
       "      <td>TRAV9-2*01</td>\n",
       "      <td>VHFFKNIVTPRTPG</td>\n",
       "    </tr>\n",
       "    <tr>\n",
       "      <th>2</th>\n",
       "      <td>CAVRPTSGGSYIPTFXXXXXXXXXXXXXXXXXXXXXXXXXXXXXXX...</td>\n",
       "      <td>TRAV21*01</td>\n",
       "      <td>SLLMWITQV</td>\n",
       "    </tr>\n",
       "    <tr>\n",
       "      <th>3</th>\n",
       "      <td>CAVRPTSGGSYIPTFXXXXXXXXXXXXXXXXXXXXXXXXXXXXXXX...</td>\n",
       "      <td>TRAV21*01</td>\n",
       "      <td>SLLMWITQC</td>\n",
       "    </tr>\n",
       "    <tr>\n",
       "      <th>4</th>\n",
       "      <td>CAVRPTSGGSYIPTFXXXXXXXXXXXXXXXXXXXXXXXXXXXXXXX...</td>\n",
       "      <td>TRAV21*01</td>\n",
       "      <td>SLLMWITQC</td>\n",
       "    </tr>\n",
       "    <tr>\n",
       "      <th>...</th>\n",
       "      <td>...</td>\n",
       "      <td>...</td>\n",
       "      <td>...</td>\n",
       "    </tr>\n",
       "    <tr>\n",
       "      <th>399</th>\n",
       "      <td>CAVNPPDTGFQKLVFXXXXXXXXXXXXXXXXXXXXXXXXXXXXXXX...</td>\n",
       "      <td>TRAV12-2*01</td>\n",
       "      <td>VVVGAVGVGK</td>\n",
       "    </tr>\n",
       "    <tr>\n",
       "      <th>400</th>\n",
       "      <td>CLVGDFNSNSGYALNFXXXXXXXXXXXXXXXXXXXXXXXXXXXXXX...</td>\n",
       "      <td>TRAV4*01</td>\n",
       "      <td>GARGVGKSAL</td>\n",
       "    </tr>\n",
       "    <tr>\n",
       "      <th>401</th>\n",
       "      <td>CAVNDQGGGADGLTFXXXXXXXXXXXXXXXXXXXXXXXXXXXXXXX...</td>\n",
       "      <td>TRAV12-2*01</td>\n",
       "      <td>RMFPNAPYL</td>\n",
       "    </tr>\n",
       "    <tr>\n",
       "      <th>402</th>\n",
       "      <td>CAVSEGGDYKLSFXXXXXXXXXXXXXXXXXXXXXXXXXXXXXXXXX...</td>\n",
       "      <td>TRAV8-4*01</td>\n",
       "      <td>RMFPNAPYL</td>\n",
       "    </tr>\n",
       "    <tr>\n",
       "      <th>403</th>\n",
       "      <td>CAMSLYYGGSQGNLIFXXXXXXXXXXXXXXXXXXXXXXXXXXXXXX...</td>\n",
       "      <td>TRAV12-3*01</td>\n",
       "      <td>KIFGSLAFL</td>\n",
       "    </tr>\n",
       "  </tbody>\n",
       "</table>\n",
       "<p>404 rows × 3 columns</p>\n",
       "</div>"
      ],
      "text/plain": [
       "                                            cdr3.alpha      v.alpha  \\\n",
       "0    CAVAGYGGSQGNLIFXXXXXXXXXXXXXXXXXXXXXXXXXXXXXXX...  TRAV12-2*01   \n",
       "1    CALSGGDSSYKLIFXXXXXXXXXXXXXXXXXXXXXXXXXXXXXXXX...   TRAV9-2*01   \n",
       "2    CAVRPTSGGSYIPTFXXXXXXXXXXXXXXXXXXXXXXXXXXXXXXX...    TRAV21*01   \n",
       "3    CAVRPTSGGSYIPTFXXXXXXXXXXXXXXXXXXXXXXXXXXXXXXX...    TRAV21*01   \n",
       "4    CAVRPTSGGSYIPTFXXXXXXXXXXXXXXXXXXXXXXXXXXXXXXX...    TRAV21*01   \n",
       "..                                                 ...          ...   \n",
       "399  CAVNPPDTGFQKLVFXXXXXXXXXXXXXXXXXXXXXXXXXXXXXXX...  TRAV12-2*01   \n",
       "400  CLVGDFNSNSGYALNFXXXXXXXXXXXXXXXXXXXXXXXXXXXXXX...     TRAV4*01   \n",
       "401  CAVNDQGGGADGLTFXXXXXXXXXXXXXXXXXXXXXXXXXXXXXXX...  TRAV12-2*01   \n",
       "402  CAVSEGGDYKLSFXXXXXXXXXXXXXXXXXXXXXXXXXXXXXXXXX...   TRAV8-4*01   \n",
       "403  CAMSLYYGGSQGNLIFXXXXXXXXXXXXXXXXXXXXXXXXXXXXXX...  TRAV12-3*01   \n",
       "\n",
       "            epitope  \n",
       "0        ELAGIGILTV  \n",
       "1    VHFFKNIVTPRTPG  \n",
       "2         SLLMWITQV  \n",
       "3         SLLMWITQC  \n",
       "4         SLLMWITQC  \n",
       "..              ...  \n",
       "399      VVVGAVGVGK  \n",
       "400      GARGVGKSAL  \n",
       "401       RMFPNAPYL  \n",
       "402       RMFPNAPYL  \n",
       "403       KIFGSLAFL  \n",
       "\n",
       "[404 rows x 3 columns]"
      ]
     },
     "execution_count": 12,
     "metadata": {},
     "output_type": "execute_result"
    }
   ],
   "source": [
    "giana._processed_data"
   ]
  },
  {
   "cell_type": "code",
   "execution_count": null,
   "metadata": {},
   "outputs": [],
   "source": []
  }
 ],
 "metadata": {
  "kernelspec": {
   "display_name": "dsmp_groupol1",
   "language": "python",
   "name": "python3"
  },
  "language_info": {
   "codemirror_mode": {
    "name": "ipython",
    "version": 3
   },
   "file_extension": ".py",
   "mimetype": "text/x-python",
   "name": "python",
   "nbconvert_exporter": "python",
   "pygments_lexer": "ipython3",
   "version": "3.9.16"
  }
 },
 "nbformat": 4,
 "nbformat_minor": 2
}
