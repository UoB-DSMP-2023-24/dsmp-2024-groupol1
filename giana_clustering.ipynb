{
 "cells": [
  {
   "cell_type": "code",
   "execution_count": 2,
   "metadata": {},
   "outputs": [],
   "source": [
    "# Libraries\n",
    "import os\n",
    "import pandas as pd\n",
    "import numpy as np\n",
    "\n",
    "import time\n",
    "from datetime import datetime\n",
    "\n",
    "import metrics"
   ]
  },
  {
   "cell_type": "code",
   "execution_count": 3,
   "metadata": {},
   "outputs": [],
   "source": [
    "# build GIANA class\n",
    "class GIANA:\n",
    "    def __init__(self, input_data: pd.DataFrame) -> None:\n",
    "        self._input_data = input_data\n",
    "        self._processed_data = None\n",
    "        self._start_dir = os.getcwd()\n",
    "        self._giana_path = os.path.join(self._start_dir, 'functions/GIANA/')\n",
    "        self._save_path = os.path.join(self._start_dir, 'results')\n",
    "        self._cluster_map = None\n",
    "        self._settings = {\n",
    "            'Datetime': datetime.now().strftime('%Y%m%d_%H%M%S'),\n",
    "            'Model': 'GIANA',\n",
    "            }\n",
    "\n",
    "    def preprocess_data(self, species: str, antigen_species: str, chain_selection: str, min_vdj_score: int) -> None:\n",
    "        data = self._input_data\n",
    "        chain = chain_selection.lower()\n",
    "        self._settings['Species'] = species\n",
    "        self._settings['Antigen_species'] = antigen_species\n",
    "        self._settings['Chain'] = chain\n",
    "        self._settings['Minimum_VDJ_score'] = min_vdj_score\n",
    "        gene = \"TR\" + chain[0].upper()\n",
    "        cdr3_col_name = \"cdr3.\" + chain\n",
    "        variable_col_name = \"v.\" + chain\n",
    "        out = {}\n",
    "\n",
    "        # filter dataframe\n",
    "        data = data[(data[\"species\"] == species) & (data[\"vdjdb.score\"] >= min_vdj_score) & (data[\"gene\"] == gene)]\n",
    "        if antigen_species is not None:\n",
    "            data = data[data[\"antigen.species\"] == species]\n",
    "\n",
    "        # drop duplicates and null values\n",
    "        data = data.drop_duplicates()\n",
    "        data = data.dropna()\n",
    "\n",
    "        # filter input_data to only show genes belonging to passed chain\n",
    "        data = data.loc[data[\"gene\"] == gene]\n",
    "\n",
    "        out[cdr3_col_name] = data[\"cdr3\"].values\n",
    "        out[variable_col_name] = data[\"v.segm\"].values\n",
    "        out[\"epitope\"] = data[\"antigen.epitope\"].values\n",
    "\n",
    "        self._processed_data = pd.DataFrame.from_dict(out)\n",
    "    \n",
    "    def get_bio(self, data: pd.DataFrame) -> pd.DataFrame:\n",
    "        print('Getting Bio-ID on V, CDR3')\n",
    "        df = data.copy()\n",
    "        cols = [f'{x}.{self._settings[\"Chain\"]}' for x in ['v','cdr3']]\n",
    "        df.loc[:,'bio']=['-'.join(x) for x in df[cols].values.tolist()]\n",
    "        return df\n",
    "    \n",
    "    def run_giana(self, data: pd.DataFrame) -> None:\n",
    "        self._start_dir = os.getcwd()\n",
    "        os.chdir(self._giana_path)\n",
    "        cols = [f'{x}.{self._settings[\"Chain\"]}' for x in ['cdr3', 'v']]\n",
    "        df = data.copy()\n",
    "        df = df[cols]\n",
    "        df.columns = ['CDR3', 'V']\n",
    "        df.to_csv('input.txt', index=False, header=False, sep='\\t')\n",
    "        print(f'Clustering {len(df)} sequences with GIANA.')\n",
    "\n",
    "        # start timing process\n",
    "        start_time = time.time()\n",
    "        # call GIANA clustering script\n",
    "        %run GIANA4.1.py -f input.txt -O input_clustered.txt -v True\n",
    "        end_time = time.time()\n",
    "        self._settings['time_to_run'] = end_time - start_time\n",
    "        print(f'Elapsed time: {self._settings[\"time_to_run\"]} seconds.')\n",
    "\n",
    "        with open(os.path.join(self._giana_path, 'input_clustered.txt'), 'r') as f:\n",
    "            clusters = f.read().splitlines()[3:]\n",
    "            clusters = pd.DataFrame([x.split('\\t') for x in clusters], columns=['CDR3', 'cluster', 'V'])\n",
    "\n",
    "        # use bioidentities to map from output to input sequences\n",
    "        clusters = self.get_bio(clusters.rename(columns={'CDR3': f'cdr3.{self._settings[\"Chain\"]}', 'V': f'v.{self._settings[\"Chain\"]}'}))\n",
    "        self._cluster_map = {bio: cluster for bio, cluster in clusters[['bio', 'cluster']].values.tolist()}\n",
    "\n",
    "        # reset working directory\n",
    "        os.chdir(self._start_dir)\n",
    "    \n",
    "    def record_performance(self, data: pd.DataFrame) -> None:\n",
    "        df = data.copy()\n",
    "        df.loc[:, 'cluster'] = df['bio'].map(self._cluster_map)\n",
    "        counts = [l for l, n in df['cluster'].value_counts().reset_index()[['cluster','count']].values.tolist() if n<=1]\n",
    "        df.loc[:, 'cluster'] = df.loc[:, 'cluster'].replace(counts, np.nan)\n",
    "\n",
    "        # save clusters\n",
    "        if not os.path.exists(self._save_path):\n",
    "            os.mkdir(self._save_path)\n",
    "\n",
    "        df.to_csv(f'{self._save_path}/GIANA_{self._settings[\"Chain\"]}_clusters.csv')\n",
    "\n",
    "        # record performance\n",
    "        self._settings['n_clusters'] = len(df['cluster'].dropna().unique())\n",
    "\n",
    "        clusterscores = pd.DataFrame()\n",
    "        statistics = pd.DataFrame()\n",
    "        c_scores, stats = metrics.score(df, self._settings)\n",
    "        clusterscores = pd.concat([clusterscores, c_scores])\n",
    "        statistics = pd.concat([statistics, stats])\n",
    "\n",
    "        clusterscores.to_csv(f'{self._save_path}/GIANA_{self._settings[\"Chain\"]}_total.csv')\n",
    "        statistics.to_csv(f'{self._save_path}/GIANA_{self._settings[\"Chain\"]}_stats.csv')\n",
    "\n",
    "        print('GIANA results saved')\n",
    "    "
   ]
  },
  {
   "cell_type": "code",
   "execution_count": 4,
   "metadata": {},
   "outputs": [],
   "source": [
    "df = pd.read_csv('./data/vdjdb.txt', sep=\"\\t\")"
   ]
  },
  {
   "cell_type": "code",
   "execution_count": 5,
   "metadata": {},
   "outputs": [],
   "source": [
    "giana = GIANA(df)"
   ]
  },
  {
   "cell_type": "code",
   "execution_count": 10,
   "metadata": {},
   "outputs": [],
   "source": [
    "giana.preprocess_data(\"HomoSapiens\", \"SARS-CoV-2\", \"alpha\", 1)"
   ]
  },
  {
   "cell_type": "code",
   "execution_count": 11,
   "metadata": {},
   "outputs": [
    {
     "name": "stdout",
     "output_type": "stream",
     "text": [
      "Getting Bio-ID on V, CDR3\n"
     ]
    }
   ],
   "source": [
    "bio_data = giana.get_bio(giana._processed_data)"
   ]
  },
  {
   "cell_type": "code",
   "execution_count": 12,
   "metadata": {},
   "outputs": [
    {
     "name": "stdout",
     "output_type": "stream",
     "text": [
      "Clustering 404 sequences with GIANA.\n"
     ]
    },
    {
     "name": "stderr",
     "output_type": "stream",
     "text": [
      "/Users/immanuelfagboyegun/miniconda3/envs/dsmp_groupol1/lib/python3.9/site-packages/sklearn/manifold/_mds.py:298: FutureWarning: The default value of `normalized_stress` will change to `'auto'` in version 1.4. To suppress this warning, manually set the value of `normalized_stress`.\n",
      "  warnings.warn(\n"
     ]
    },
    {
     "name": "stdout",
     "output_type": "stream",
     "text": [
      "\n",
      "GIANA: Geometric Isometry based ANtigen-specific tcr Alignment\n",
      "Ultrafast short peptide alignment exclusively designed for large-scale adaptome analysis\n",
      "\n",
      "Input columns:\n",
      "1. CDR3 amino acid sequence (Starting from C, ending with the first F/L in motif [FL]G.G)\n",
      "2. Variable gene name in Imgt format: TRBVXX-XX*XX\n",
      "3. Joining gene name (optional)\n",
      "4. Frequency (optional)\n",
      "5. Other information (optional)\n",
      "\n",
      "!!! ALL amino acid letters must be CAPITAL !!!\n",
      "\n",
      "\n",
      "Processing input.txt\n",
      "Total time elapsed: 0.064756\n",
      "Maximum memory usage: 325.844992 MB\n",
      "Elapsed time: 0.9836552143096924 seconds.\n",
      "Getting Bio-ID on V, CDR3\n"
     ]
    }
   ],
   "source": [
    "giana.run_giana(bio_data)"
   ]
  },
  {
   "cell_type": "code",
   "execution_count": 13,
   "metadata": {},
   "outputs": [
    {
     "name": "stdout",
     "output_type": "stream",
     "text": [
      "No predictions made for:  {'MLIGIPVYV', 'NPVVHFFKNIVTPR', 'APARLERRHSA', 'AVGSYVYSV', 'VLNGTVHPV', 'LAMPFATPM', 'RLPGVLPRA', 'HRRGSRSYV', 'VQIISCQY', 'RLGEVRHPV', 'ALHGGWTTK', 'FQDYIKSYL', 'WMRLLPLL', 'QTNPVTLQY', 'ATGFKQSSKALQRPVAS', 'YLYDRLLRV', 'YVMAYVMAGVGS', 'FVVPYMIYLL', 'QAFWIDLFETIG', 'KASEKIFYV', 'RYGSFSVTL', 'SYMIMEIE', 'MEVDPIGHLY', 'WLIRETQPITK', 'MTEYKLVVVGARGVGKSALTIQLI', 'SSCMGGMNWR', 'SCMGGMNWRPILTII', 'LQPLALEGSLQKRG', 'FGDHPGHSY', 'QPLALEGSLQKRG', 'MLYQHLLPL', 'EVLPFFLFF', 'VAANIVLTV', 'AALPILFQV', 'NSKEETGHLENGN', 'KVDPIGHVY', 'ILAKFLHWL', 'DPPALASTNAEVT', 'VVVGADGVGK', 'GAVGVGKSAL', 'MVNTVAGAMK', 'HQNPVTGLLL', 'GDFGLATEKSRWSGS', 'LLEFYLAMPFATP', 'LLIRWQHFL', 'YLSNIIPAL', 'ELLVRINRL', 'ALYGFVPVL', 'ENPVVHFFKNIVTP', 'SVCAGILSYGV', 'FLIYLDVSV', 'WSYDSTLLAY', 'FMPDFDLHL', 'TLWCSPIKV', 'TLREIRRYQK', 'KALARALKEGRIR', 'GQVELGGGNAVEVCKGS', 'VHFFKNIVTPRTPG', 'VLLGVKLFGV', 'EFTVSGNIL', 'KLTESLHKV', 'CISSCNPNL', 'KIFGSLAFL', 'VMAPRTLVL', 'VVGAVGVGK', 'QLCDVMFYL', 'ESITGSLGPLL', 'GLLDEDFYA', 'RVRFFFPSL', 'MLFSHGLVK', 'GEEDGAGGHSL', 'LYPEFIASI', 'EMLFSHGLVK', 'GVYDGREHTV', 'HYNYMCNSSCMGSMN', 'FGDVGSTLF', 'RMFPNAPYL', 'YLEPGPVTA', 'GQVELGGGNAVEVCK', 'ALLLQLFTL', 'NHVVDISKSGLITIA', 'MPYGYVLNEF', 'SLSKILDTV', 'AVGVGKSAL', 'TEDEHFEFY'}\n",
      "GIANA results saved\n"
     ]
    }
   ],
   "source": [
    "giana.record_performance(bio_data)"
   ]
  },
  {
   "cell_type": "code",
   "execution_count": null,
   "metadata": {},
   "outputs": [],
   "source": []
  }
 ],
 "metadata": {
  "kernelspec": {
   "display_name": "dsmp_groupol1",
   "language": "python",
   "name": "python3"
  },
  "language_info": {
   "codemirror_mode": {
    "name": "ipython",
    "version": 3
   },
   "file_extension": ".py",
   "mimetype": "text/x-python",
   "name": "python",
   "nbconvert_exporter": "python",
   "pygments_lexer": "ipython3",
   "version": "3.9.16"
  }
 },
 "nbformat": 4,
 "nbformat_minor": 2
}
