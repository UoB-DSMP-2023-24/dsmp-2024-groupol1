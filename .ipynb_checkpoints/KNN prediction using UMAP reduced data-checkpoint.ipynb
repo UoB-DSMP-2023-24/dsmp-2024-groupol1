{
 "cells": [
  {
   "cell_type": "markdown",
   "id": "160a7d35",
   "metadata": {},
   "source": [
    "# Get distance matrices"
   ]
  },
  {
   "cell_type": "markdown",
   "id": "116f6aa4",
   "metadata": {},
   "source": [
    "We need to get different distance matrices (alpha, beta, and combined)."
   ]
  },
  {
   "cell_type": "code",
   "execution_count": 1,
   "id": "f491d74d",
   "metadata": {},
   "outputs": [],
   "source": [
    "from tcrdist.repertoire import TCRrep\n",
    "from sklearn.model_selection import train_test_split, GridSearchCV\n",
    "from sklearn.model_selection import StratifiedKFold\n",
    "from sklearn.neighbors import KNeighborsClassifier\n",
    "from sklearn.metrics import confusion_matrix, precision_score, recall_score, f1_score, accuracy_score\n",
    "import pandas as pd\n",
    "import numpy as np\n",
    "import seaborn as sns\n",
    "import matplotlib.pyplot as plt\n",
    "from matplotlib.patches import Rectangle\n",
    "import umap"
   ]
  },
  {
   "cell_type": "code",
   "execution_count": 2,
   "id": "ad3501ed",
   "metadata": {},
   "outputs": [],
   "source": [
    "import pandas as pd\n",
    "df = pd.read_csv('./data/vdjdb.txt', sep=\"\\t\")"
   ]
  },
  {
   "cell_type": "code",
   "execution_count": 3,
   "id": "a85c44e6",
   "metadata": {},
   "outputs": [],
   "source": [
    "# Select the columns we need\n",
    "selected_features = df[['complex.id', 'gene','cdr3','v.segm','j.segm','species','mhc.a','mhc.b','mhc.class','antigen.epitope','antigen.species','vdjdb.score']]"
   ]
  },
  {
   "cell_type": "code",
   "execution_count": 4,
   "id": "0d6f1361",
   "metadata": {},
   "outputs": [
    {
     "data": {
      "text/html": [
       "<div>\n",
       "<style scoped>\n",
       "    .dataframe tbody tr th:only-of-type {\n",
       "        vertical-align: middle;\n",
       "    }\n",
       "\n",
       "    .dataframe tbody tr th {\n",
       "        vertical-align: top;\n",
       "    }\n",
       "\n",
       "    .dataframe thead th {\n",
       "        text-align: right;\n",
       "    }\n",
       "</style>\n",
       "<table border=\"1\" class=\"dataframe\">\n",
       "  <thead>\n",
       "    <tr style=\"text-align: right;\">\n",
       "      <th></th>\n",
       "      <th>complex.id</th>\n",
       "      <th>gene</th>\n",
       "      <th>cdr3</th>\n",
       "      <th>v.segm</th>\n",
       "      <th>j.segm</th>\n",
       "      <th>species</th>\n",
       "      <th>mhc.a</th>\n",
       "      <th>mhc.b</th>\n",
       "      <th>mhc.class</th>\n",
       "      <th>antigen.epitope</th>\n",
       "      <th>antigen.species</th>\n",
       "      <th>vdjdb.score</th>\n",
       "    </tr>\n",
       "  </thead>\n",
       "  <tbody>\n",
       "    <tr>\n",
       "      <th>0</th>\n",
       "      <td>1</td>\n",
       "      <td>TRA</td>\n",
       "      <td>CIVRAPGRADMRF</td>\n",
       "      <td>TRAV26-1*01</td>\n",
       "      <td>TRAJ43*01</td>\n",
       "      <td>HomoSapiens</td>\n",
       "      <td>HLA-B*08</td>\n",
       "      <td>B2M</td>\n",
       "      <td>MHCI</td>\n",
       "      <td>FLKEKGGL</td>\n",
       "      <td>HIV-1</td>\n",
       "      <td>2</td>\n",
       "    </tr>\n",
       "    <tr>\n",
       "      <th>1</th>\n",
       "      <td>1</td>\n",
       "      <td>TRB</td>\n",
       "      <td>CASSYLPGQGDHYSNQPQHF</td>\n",
       "      <td>TRBV13*01</td>\n",
       "      <td>TRBJ1-5*01</td>\n",
       "      <td>HomoSapiens</td>\n",
       "      <td>HLA-B*08</td>\n",
       "      <td>B2M</td>\n",
       "      <td>MHCI</td>\n",
       "      <td>FLKEKGGL</td>\n",
       "      <td>HIV-1</td>\n",
       "      <td>2</td>\n",
       "    </tr>\n",
       "    <tr>\n",
       "      <th>2</th>\n",
       "      <td>0</td>\n",
       "      <td>TRB</td>\n",
       "      <td>CASSFEAGQGFFSNQPQHF</td>\n",
       "      <td>TRBV13*01</td>\n",
       "      <td>TRBJ1-5*01</td>\n",
       "      <td>HomoSapiens</td>\n",
       "      <td>HLA-B*08</td>\n",
       "      <td>B2M</td>\n",
       "      <td>MHCI</td>\n",
       "      <td>FLKEKGGL</td>\n",
       "      <td>HIV-1</td>\n",
       "      <td>2</td>\n",
       "    </tr>\n",
       "    <tr>\n",
       "      <th>3</th>\n",
       "      <td>2</td>\n",
       "      <td>TRA</td>\n",
       "      <td>CAVPSGAGSYQLTF</td>\n",
       "      <td>TRAV20*01</td>\n",
       "      <td>TRAJ28*01</td>\n",
       "      <td>HomoSapiens</td>\n",
       "      <td>HLA-B*08</td>\n",
       "      <td>B2M</td>\n",
       "      <td>MHCI</td>\n",
       "      <td>FLKEKGGL</td>\n",
       "      <td>HIV-1</td>\n",
       "      <td>2</td>\n",
       "    </tr>\n",
       "    <tr>\n",
       "      <th>4</th>\n",
       "      <td>2</td>\n",
       "      <td>TRB</td>\n",
       "      <td>CASSFEPGQGFYSNQPQHF</td>\n",
       "      <td>TRBV13*01</td>\n",
       "      <td>TRBJ1-5*01</td>\n",
       "      <td>HomoSapiens</td>\n",
       "      <td>HLA-B*08</td>\n",
       "      <td>B2M</td>\n",
       "      <td>MHCI</td>\n",
       "      <td>FLKEKGGL</td>\n",
       "      <td>HIV-1</td>\n",
       "      <td>2</td>\n",
       "    </tr>\n",
       "  </tbody>\n",
       "</table>\n",
       "</div>"
      ],
      "text/plain": [
       "   complex.id gene                  cdr3       v.segm      j.segm  \\\n",
       "0           1  TRA         CIVRAPGRADMRF  TRAV26-1*01   TRAJ43*01   \n",
       "1           1  TRB  CASSYLPGQGDHYSNQPQHF    TRBV13*01  TRBJ1-5*01   \n",
       "2           0  TRB   CASSFEAGQGFFSNQPQHF    TRBV13*01  TRBJ1-5*01   \n",
       "3           2  TRA        CAVPSGAGSYQLTF    TRAV20*01   TRAJ28*01   \n",
       "4           2  TRB   CASSFEPGQGFYSNQPQHF    TRBV13*01  TRBJ1-5*01   \n",
       "\n",
       "       species     mhc.a mhc.b mhc.class antigen.epitope antigen.species  \\\n",
       "0  HomoSapiens  HLA-B*08   B2M      MHCI        FLKEKGGL           HIV-1   \n",
       "1  HomoSapiens  HLA-B*08   B2M      MHCI        FLKEKGGL           HIV-1   \n",
       "2  HomoSapiens  HLA-B*08   B2M      MHCI        FLKEKGGL           HIV-1   \n",
       "3  HomoSapiens  HLA-B*08   B2M      MHCI        FLKEKGGL           HIV-1   \n",
       "4  HomoSapiens  HLA-B*08   B2M      MHCI        FLKEKGGL           HIV-1   \n",
       "\n",
       "   vdjdb.score  \n",
       "0            2  \n",
       "1            2  \n",
       "2            2  \n",
       "3            2  \n",
       "4            2  "
      ]
     },
     "execution_count": 4,
     "metadata": {},
     "output_type": "execute_result"
    }
   ],
   "source": [
    "# Select all human data\n",
    "human_data = selected_features[(selected_features['species'] == 'HomoSapiens') & (selected_features['vdjdb.score'] > 0)]\n",
    "\n",
    "# Drop duplicate rows\n",
    "human_data = human_data.drop_duplicates()\n",
    "\n",
    "# Delete rows with null values\n",
    "human_data  = human_data.dropna()\n",
    "# Print all data\n",
    "human_data.head()"
   ]
  },
  {
   "cell_type": "markdown",
   "id": "81d72d2b",
   "metadata": {},
   "source": [
    "# Get alpha chains"
   ]
  },
  {
   "cell_type": "code",
   "execution_count": 5,
   "id": "b76c09e8",
   "metadata": {
    "scrolled": true
   },
   "outputs": [
    {
     "name": "stderr",
     "output_type": "stream",
     "text": [
      "C:\\Users\\adnan\\AppData\\Local\\Temp\\ipykernel_16228\\1048392231.py:5: SettingWithCopyWarning: \n",
      "A value is trying to be set on a copy of a slice from a DataFrame\n",
      "\n",
      "See the caveats in the documentation: https://pandas.pydata.org/pandas-docs/stable/user_guide/indexing.html#returning-a-view-versus-a-copy\n",
      "  alpha_chains.rename(columns={'cdr3':'cdr3_a_aa','v.segm':'v_a_gene', 'j.segm':'j_a_gene','antigen.epitope':'epitope'}, inplace=True)\n"
     ]
    }
   ],
   "source": [
    "# Do the same as above but for alpha chains\n",
    "\n",
    "TRA = human_data[human_data['gene'] =='TRA']\n",
    "alpha_chains = TRA[['cdr3', 'v.segm', 'j.segm','antigen.epitope']]\n",
    "alpha_chains.rename(columns={'cdr3':'cdr3_a_aa','v.segm':'v_a_gene', 'j.segm':'j_a_gene','antigen.epitope':'epitope'}, inplace=True)\n",
    "\n"
   ]
  },
  {
   "cell_type": "markdown",
   "id": "06139e35",
   "metadata": {},
   "source": [
    "# Get beta chains"
   ]
  },
  {
   "cell_type": "code",
   "execution_count": 6,
   "id": "29f434cd",
   "metadata": {},
   "outputs": [
    {
     "name": "stderr",
     "output_type": "stream",
     "text": [
      "C:\\Users\\adnan\\AppData\\Local\\Temp\\ipykernel_16228\\425838689.py:5: SettingWithCopyWarning: \n",
      "A value is trying to be set on a copy of a slice from a DataFrame\n",
      "\n",
      "See the caveats in the documentation: https://pandas.pydata.org/pandas-docs/stable/user_guide/indexing.html#returning-a-view-versus-a-copy\n",
      "  beta_chains.rename(columns={'cdr3':'cdr3_b_aa','v.segm':'v_b_gene', 'j.segm':'j_b_gene','antigen.epitope':'epitope'}, inplace=True)\n"
     ]
    },
    {
     "data": {
      "text/html": [
       "<div>\n",
       "<style scoped>\n",
       "    .dataframe tbody tr th:only-of-type {\n",
       "        vertical-align: middle;\n",
       "    }\n",
       "\n",
       "    .dataframe tbody tr th {\n",
       "        vertical-align: top;\n",
       "    }\n",
       "\n",
       "    .dataframe thead th {\n",
       "        text-align: right;\n",
       "    }\n",
       "</style>\n",
       "<table border=\"1\" class=\"dataframe\">\n",
       "  <thead>\n",
       "    <tr style=\"text-align: right;\">\n",
       "      <th></th>\n",
       "      <th>cdr3_b_aa</th>\n",
       "      <th>v_b_gene</th>\n",
       "      <th>j_b_gene</th>\n",
       "      <th>epitope</th>\n",
       "    </tr>\n",
       "  </thead>\n",
       "  <tbody>\n",
       "    <tr>\n",
       "      <th>1</th>\n",
       "      <td>CASSYLPGQGDHYSNQPQHF</td>\n",
       "      <td>TRBV13*01</td>\n",
       "      <td>TRBJ1-5*01</td>\n",
       "      <td>FLKEKGGL</td>\n",
       "    </tr>\n",
       "    <tr>\n",
       "      <th>2</th>\n",
       "      <td>CASSFEAGQGFFSNQPQHF</td>\n",
       "      <td>TRBV13*01</td>\n",
       "      <td>TRBJ1-5*01</td>\n",
       "      <td>FLKEKGGL</td>\n",
       "    </tr>\n",
       "    <tr>\n",
       "      <th>4</th>\n",
       "      <td>CASSFEPGQGFYSNQPQHF</td>\n",
       "      <td>TRBV13*01</td>\n",
       "      <td>TRBJ1-5*01</td>\n",
       "      <td>FLKEKGGL</td>\n",
       "    </tr>\n",
       "    <tr>\n",
       "      <th>6</th>\n",
       "      <td>CASSYEPGQVSHYSNQPQHF</td>\n",
       "      <td>TRBV13*01</td>\n",
       "      <td>TRBJ1-5*01</td>\n",
       "      <td>FLKEKGGL</td>\n",
       "    </tr>\n",
       "    <tr>\n",
       "      <th>8</th>\n",
       "      <td>CASSALASLNEQFF</td>\n",
       "      <td>TRBV14*01</td>\n",
       "      <td>TRBJ2-1*01</td>\n",
       "      <td>FLKEKGGL</td>\n",
       "    </tr>\n",
       "    <tr>\n",
       "      <th>...</th>\n",
       "      <td>...</td>\n",
       "      <td>...</td>\n",
       "      <td>...</td>\n",
       "      <td>...</td>\n",
       "    </tr>\n",
       "    <tr>\n",
       "      <th>92682</th>\n",
       "      <td>CASSLRATDTQYF</td>\n",
       "      <td>TRBV7-2*01</td>\n",
       "      <td>TRBJ2-3*01</td>\n",
       "      <td>PQPELPYPQPQL</td>\n",
       "    </tr>\n",
       "    <tr>\n",
       "      <th>92684</th>\n",
       "      <td>CATSRAGGGGEKLFF</td>\n",
       "      <td>TRBV15*01</td>\n",
       "      <td>TRBJ1-4*01</td>\n",
       "      <td>FPQPEQPFPWQP</td>\n",
       "    </tr>\n",
       "    <tr>\n",
       "      <th>92686</th>\n",
       "      <td>CASSQGSGGNEQFF</td>\n",
       "      <td>TRBV4-3*01</td>\n",
       "      <td>TRBJ2-1*01</td>\n",
       "      <td>FPQPEQPFPWQP</td>\n",
       "    </tr>\n",
       "    <tr>\n",
       "      <th>92690</th>\n",
       "      <td>CASSIVGSGGYNEQFF</td>\n",
       "      <td>TRBV19*01</td>\n",
       "      <td>TRBJ2-1*01</td>\n",
       "      <td>QLQPFPQPELPY</td>\n",
       "    </tr>\n",
       "    <tr>\n",
       "      <th>92768</th>\n",
       "      <td>CASSLGAGGQETQYF</td>\n",
       "      <td>TRBV5-1*01</td>\n",
       "      <td>TRBJ2-5*01</td>\n",
       "      <td>PQQPFPQPEQPFP</td>\n",
       "    </tr>\n",
       "  </tbody>\n",
       "</table>\n",
       "<p>5343 rows × 4 columns</p>\n",
       "</div>"
      ],
      "text/plain": [
       "                  cdr3_b_aa    v_b_gene    j_b_gene        epitope\n",
       "1      CASSYLPGQGDHYSNQPQHF   TRBV13*01  TRBJ1-5*01       FLKEKGGL\n",
       "2       CASSFEAGQGFFSNQPQHF   TRBV13*01  TRBJ1-5*01       FLKEKGGL\n",
       "4       CASSFEPGQGFYSNQPQHF   TRBV13*01  TRBJ1-5*01       FLKEKGGL\n",
       "6      CASSYEPGQVSHYSNQPQHF   TRBV13*01  TRBJ1-5*01       FLKEKGGL\n",
       "8            CASSALASLNEQFF   TRBV14*01  TRBJ2-1*01       FLKEKGGL\n",
       "...                     ...         ...         ...            ...\n",
       "92682         CASSLRATDTQYF  TRBV7-2*01  TRBJ2-3*01   PQPELPYPQPQL\n",
       "92684       CATSRAGGGGEKLFF   TRBV15*01  TRBJ1-4*01   FPQPEQPFPWQP\n",
       "92686        CASSQGSGGNEQFF  TRBV4-3*01  TRBJ2-1*01   FPQPEQPFPWQP\n",
       "92690      CASSIVGSGGYNEQFF   TRBV19*01  TRBJ2-1*01   QLQPFPQPELPY\n",
       "92768       CASSLGAGGQETQYF  TRBV5-1*01  TRBJ2-5*01  PQQPFPQPEQPFP\n",
       "\n",
       "[5343 rows x 4 columns]"
      ]
     },
     "execution_count": 6,
     "metadata": {},
     "output_type": "execute_result"
    }
   ],
   "source": [
    "# get beta chains only\n",
    "TRB = human_data[human_data['gene'] =='TRB']\n",
    "# rename the columns for our beta chain matrix calculation\n",
    "beta_chains = TRB[['cdr3', 'v.segm', 'j.segm','antigen.epitope']]\n",
    "beta_chains.rename(columns={'cdr3':'cdr3_b_aa','v.segm':'v_b_gene', 'j.segm':'j_b_gene','antigen.epitope':'epitope'}, inplace=True)\n",
    "beta_chains"
   ]
  },
  {
   "cell_type": "markdown",
   "id": "ebc1f9df",
   "metadata": {},
   "source": [
    "# Get paired alpha and beta pairs"
   ]
  },
  {
   "cell_type": "code",
   "execution_count": 30,
   "id": "b4451a3c",
   "metadata": {},
   "outputs": [
    {
     "data": {
      "text/plain": [
       "0            1\n",
       "1            1\n",
       "2            0\n",
       "3            2\n",
       "4            2\n",
       "         ...  \n",
       "92686    30552\n",
       "92689    30554\n",
       "92690    30554\n",
       "92767    30593\n",
       "92768    30593\n",
       "Name: complex.id, Length: 7799, dtype: int64"
      ]
     },
     "execution_count": 30,
     "metadata": {},
     "output_type": "execute_result"
    }
   ],
   "source": [
    "# Let's get all the IDs for the TCRs (A & B pairs should have the same ID)\n",
    "_ids = human_data['complex.id']\n",
    "_ids"
   ]
  },
  {
   "cell_type": "code",
   "execution_count": 31,
   "id": "3cabee80",
   "metadata": {},
   "outputs": [
    {
     "data": {
      "text/plain": [
       "0        None\n",
       "1        None\n",
       "2        None\n",
       "3        None\n",
       "4        None\n",
       "         ... \n",
       "92686    None\n",
       "92689    None\n",
       "92690    None\n",
       "92767    None\n",
       "92768    None\n",
       "Length: 7799, dtype: object"
      ]
     },
     "execution_count": 31,
     "metadata": {},
     "output_type": "execute_result"
    }
   ],
   "source": [
    "list_to_combine = []\n",
    "checked_ids = []\n",
    "def process_row(row):\n",
    "    # check the complex id not already checked\n",
    "    if row['complex.id'] not in checked_ids:\n",
    "        # find matching rows\n",
    "        matched_rows = human_data[human_data['complex.id'] == row['complex.id']]\n",
    "        # should be two (some rows have only 1 match)\n",
    "        if len(matched_rows) == 2:\n",
    "            # get the tcra row\n",
    "            tra_row = matched_rows.iloc[0]\n",
    "            # get the tcrb row\n",
    "            trb_row = matched_rows.iloc[1]\n",
    "            # add to list as a combined row\n",
    "            list_to_combine.append({'tcr_id_a':tra_row['complex.id'], 'tcr_id_b':trb_row['complex.id'], \n",
    "                                    'cdr3_a_aa': tra_row['cdr3'], 'cdr3_b_aa': trb_row['cdr3'],\n",
    "                                    'v_b_gene' :trb_row['v.segm'],\n",
    "                                    'j_b_gene':trb_row['j.segm'],\n",
    "                                    'v_a_gene':tra_row['v.segm'],\n",
    "                                    'j_a_gene':tra_row['j.segm'],\n",
    "                                    'epitope':tra_row['antigen.epitope'] ,\n",
    "                                   })\n",
    "            # we've checked this id now, so we need to make sure we don't have to check it again.\n",
    "            checked_ids.append(row['complex.id'])\n",
    "human_data.apply(process_row, axis=1)"
   ]
  },
  {
   "cell_type": "code",
   "execution_count": 53,
   "id": "70ad846d",
   "metadata": {},
   "outputs": [
    {
     "data": {
      "text/html": [
       "<div>\n",
       "<style scoped>\n",
       "    .dataframe tbody tr th:only-of-type {\n",
       "        vertical-align: middle;\n",
       "    }\n",
       "\n",
       "    .dataframe tbody tr th {\n",
       "        vertical-align: top;\n",
       "    }\n",
       "\n",
       "    .dataframe thead th {\n",
       "        text-align: right;\n",
       "    }\n",
       "</style>\n",
       "<table border=\"1\" class=\"dataframe\">\n",
       "  <thead>\n",
       "    <tr style=\"text-align: right;\">\n",
       "      <th></th>\n",
       "      <th>tcr_id_a</th>\n",
       "      <th>tcr_id_b</th>\n",
       "      <th>cdr3_a_aa</th>\n",
       "      <th>cdr3_b_aa</th>\n",
       "      <th>v_b_gene</th>\n",
       "      <th>j_b_gene</th>\n",
       "      <th>v_a_gene</th>\n",
       "      <th>j_a_gene</th>\n",
       "      <th>epitope</th>\n",
       "    </tr>\n",
       "  </thead>\n",
       "  <tbody>\n",
       "    <tr>\n",
       "      <th>0</th>\n",
       "      <td>1</td>\n",
       "      <td>1</td>\n",
       "      <td>CIVRAPGRADMRF</td>\n",
       "      <td>CASSYLPGQGDHYSNQPQHF</td>\n",
       "      <td>TRBV13*01</td>\n",
       "      <td>TRBJ1-5*01</td>\n",
       "      <td>TRAV26-1*01</td>\n",
       "      <td>TRAJ43*01</td>\n",
       "      <td>FLKEKGGL</td>\n",
       "    </tr>\n",
       "    <tr>\n",
       "      <th>1</th>\n",
       "      <td>2</td>\n",
       "      <td>2</td>\n",
       "      <td>CAVPSGAGSYQLTF</td>\n",
       "      <td>CASSFEPGQGFYSNQPQHF</td>\n",
       "      <td>TRBV13*01</td>\n",
       "      <td>TRBJ1-5*01</td>\n",
       "      <td>TRAV20*01</td>\n",
       "      <td>TRAJ28*01</td>\n",
       "      <td>FLKEKGGL</td>\n",
       "    </tr>\n",
       "    <tr>\n",
       "      <th>2</th>\n",
       "      <td>4</td>\n",
       "      <td>4</td>\n",
       "      <td>CAYRPPGTYKYIF</td>\n",
       "      <td>CASSALASLNEQFF</td>\n",
       "      <td>TRBV14*01</td>\n",
       "      <td>TRBJ2-1*01</td>\n",
       "      <td>TRAV38-2/DV8*01</td>\n",
       "      <td>TRAJ40*01</td>\n",
       "      <td>FLKEKGGL</td>\n",
       "    </tr>\n",
       "    <tr>\n",
       "      <th>3</th>\n",
       "      <td>5</td>\n",
       "      <td>5</td>\n",
       "      <td>CIVRAPGRADMRF</td>\n",
       "      <td>CASSYLPGQGDHYSNQPQHF</td>\n",
       "      <td>TRBV13*01</td>\n",
       "      <td>TRBJ1-5*01</td>\n",
       "      <td>TRAV26-1*01</td>\n",
       "      <td>TRAJ43*01</td>\n",
       "      <td>FLKEQGGL</td>\n",
       "    </tr>\n",
       "    <tr>\n",
       "      <th>4</th>\n",
       "      <td>6</td>\n",
       "      <td>6</td>\n",
       "      <td>CAVPSGAGSYQLTF</td>\n",
       "      <td>CASSFEPGQGFYSNQPQHF</td>\n",
       "      <td>TRBV13*01</td>\n",
       "      <td>TRBJ1-5*01</td>\n",
       "      <td>TRAV20*01</td>\n",
       "      <td>TRAJ28*01</td>\n",
       "      <td>FLKEQGGL</td>\n",
       "    </tr>\n",
       "    <tr>\n",
       "      <th>...</th>\n",
       "      <td>...</td>\n",
       "      <td>...</td>\n",
       "      <td>...</td>\n",
       "      <td>...</td>\n",
       "      <td>...</td>\n",
       "      <td>...</td>\n",
       "      <td>...</td>\n",
       "      <td>...</td>\n",
       "      <td>...</td>\n",
       "    </tr>\n",
       "    <tr>\n",
       "      <th>1863</th>\n",
       "      <td>30550</td>\n",
       "      <td>30550</td>\n",
       "      <td>CIALNARLMF</td>\n",
       "      <td>CASSLRATDTQYF</td>\n",
       "      <td>TRBV7-2*01</td>\n",
       "      <td>TRBJ2-3*01</td>\n",
       "      <td>TRAV26-1*01</td>\n",
       "      <td>TRAJ31*01</td>\n",
       "      <td>PQPELPYPQPQL</td>\n",
       "    </tr>\n",
       "    <tr>\n",
       "      <th>1864</th>\n",
       "      <td>30551</td>\n",
       "      <td>30551</td>\n",
       "      <td>CAMREGRYSSASKIIF</td>\n",
       "      <td>CATSRAGGGGEKLFF</td>\n",
       "      <td>TRBV15*01</td>\n",
       "      <td>TRBJ1-4*01</td>\n",
       "      <td>TRAV14/DV4*01</td>\n",
       "      <td>TRAJ3*01</td>\n",
       "      <td>FPQPEQPFPWQP</td>\n",
       "    </tr>\n",
       "    <tr>\n",
       "      <th>1865</th>\n",
       "      <td>30552</td>\n",
       "      <td>30552</td>\n",
       "      <td>CLVGDGDGGATNKLIF</td>\n",
       "      <td>CASSQGSGGNEQFF</td>\n",
       "      <td>TRBV4-3*01</td>\n",
       "      <td>TRBJ2-1*01</td>\n",
       "      <td>TRAV4*01</td>\n",
       "      <td>TRAJ32*01</td>\n",
       "      <td>FPQPEQPFPWQP</td>\n",
       "    </tr>\n",
       "    <tr>\n",
       "      <th>1866</th>\n",
       "      <td>30554</td>\n",
       "      <td>30554</td>\n",
       "      <td>CAASVLYGSSNTGKLIF</td>\n",
       "      <td>CASSIVGSGGYNEQFF</td>\n",
       "      <td>TRBV19*01</td>\n",
       "      <td>TRBJ2-1*01</td>\n",
       "      <td>TRAV29/DV5*01</td>\n",
       "      <td>TRAJ37*01</td>\n",
       "      <td>QLQPFPQPELPY</td>\n",
       "    </tr>\n",
       "    <tr>\n",
       "      <th>1867</th>\n",
       "      <td>30593</td>\n",
       "      <td>30593</td>\n",
       "      <td>CAPQGATNKLIF</td>\n",
       "      <td>CASSLGAGGQETQYF</td>\n",
       "      <td>TRBV5-1*01</td>\n",
       "      <td>TRBJ2-5*01</td>\n",
       "      <td>TRAV12-2*01</td>\n",
       "      <td>TRAJ32*01</td>\n",
       "      <td>PQQPFPQPEQPFP</td>\n",
       "    </tr>\n",
       "  </tbody>\n",
       "</table>\n",
       "<p>1868 rows × 9 columns</p>\n",
       "</div>"
      ],
      "text/plain": [
       "      tcr_id_a  tcr_id_b          cdr3_a_aa             cdr3_b_aa    v_b_gene  \\\n",
       "0            1         1      CIVRAPGRADMRF  CASSYLPGQGDHYSNQPQHF   TRBV13*01   \n",
       "1            2         2     CAVPSGAGSYQLTF   CASSFEPGQGFYSNQPQHF   TRBV13*01   \n",
       "2            4         4      CAYRPPGTYKYIF        CASSALASLNEQFF   TRBV14*01   \n",
       "3            5         5      CIVRAPGRADMRF  CASSYLPGQGDHYSNQPQHF   TRBV13*01   \n",
       "4            6         6     CAVPSGAGSYQLTF   CASSFEPGQGFYSNQPQHF   TRBV13*01   \n",
       "...        ...       ...                ...                   ...         ...   \n",
       "1863     30550     30550         CIALNARLMF         CASSLRATDTQYF  TRBV7-2*01   \n",
       "1864     30551     30551   CAMREGRYSSASKIIF       CATSRAGGGGEKLFF   TRBV15*01   \n",
       "1865     30552     30552   CLVGDGDGGATNKLIF        CASSQGSGGNEQFF  TRBV4-3*01   \n",
       "1866     30554     30554  CAASVLYGSSNTGKLIF      CASSIVGSGGYNEQFF   TRBV19*01   \n",
       "1867     30593     30593       CAPQGATNKLIF       CASSLGAGGQETQYF  TRBV5-1*01   \n",
       "\n",
       "        j_b_gene         v_a_gene   j_a_gene        epitope  \n",
       "0     TRBJ1-5*01      TRAV26-1*01  TRAJ43*01       FLKEKGGL  \n",
       "1     TRBJ1-5*01        TRAV20*01  TRAJ28*01       FLKEKGGL  \n",
       "2     TRBJ2-1*01  TRAV38-2/DV8*01  TRAJ40*01       FLKEKGGL  \n",
       "3     TRBJ1-5*01      TRAV26-1*01  TRAJ43*01       FLKEQGGL  \n",
       "4     TRBJ1-5*01        TRAV20*01  TRAJ28*01       FLKEQGGL  \n",
       "...          ...              ...        ...            ...  \n",
       "1863  TRBJ2-3*01      TRAV26-1*01  TRAJ31*01   PQPELPYPQPQL  \n",
       "1864  TRBJ1-4*01    TRAV14/DV4*01   TRAJ3*01   FPQPEQPFPWQP  \n",
       "1865  TRBJ2-1*01         TRAV4*01  TRAJ32*01   FPQPEQPFPWQP  \n",
       "1866  TRBJ2-1*01    TRAV29/DV5*01  TRAJ37*01   QLQPFPQPELPY  \n",
       "1867  TRBJ2-5*01      TRAV12-2*01  TRAJ32*01  PQQPFPQPEQPFP  \n",
       "\n",
       "[1868 rows x 9 columns]"
      ]
     },
     "execution_count": 53,
     "metadata": {},
     "output_type": "execute_result"
    }
   ],
   "source": [
    "# Create table representing paired tcr rows\n",
    "paired_chains = pd.DataFrame(list_to_combine)\n",
    "paired_chains"
   ]
  },
  {
   "cell_type": "markdown",
   "id": "9320f02f",
   "metadata": {},
   "source": [
    "# Testing KNN as benchmark for predictions"
   ]
  },
  {
   "cell_type": "code",
   "execution_count": 117,
   "id": "223c3885",
   "metadata": {},
   "outputs": [],
   "source": [
    "chains_to_use = ['alpha','beta'] # specify which chains we want to use\n",
    "data_to_use = paired_chains # specify the data that represents these chains\n",
    "\n",
    "def set_up_data(chains_to_use, data_to_use):\n",
    "\n",
    "    # We only want to use the top 5 antigens with the most tcrs\n",
    "    value_counts_antigen = data_to_use['epitope'].value_counts()\n",
    "    top_5_value_counts = value_counts_antigen.nlargest(5)\n",
    "    matrix_filtered = data_to_use[data_to_use['epitope'].isin(top_5_value_counts.index)]\n",
    "    data_to_use = matrix_filtered\n",
    "    \n",
    "    train_df, test_df = train_test_split(data_to_use, test_size=0.2, random_state=42) # split our data into training/test sets\n",
    "    train_df.head()\n",
    "    train_df.rename(columns={'antigen.epitope': 'epitope'}, inplace=True) # we need to rename this column so it matches what is expected.\n",
    "    number_tcr_originally = train_df.shape[0] # let's figure out how many tcrs we have \n",
    "    print(f'Our dataset has {train_df.shape[0]} TCRs for {len(train_df[\"epitope\"].unique())} different epitopes\\n') # let's see how manyt epitopes\n",
    "    # Specify columns we need to drop from.\n",
    "    cols_to_drop = ['epitope']\n",
    "\n",
    "    # we need to add alpha chain cdr3_a_aa column if we want to use alpha chains\n",
    "    if 'alpha' in chains_to_use:\n",
    "        cols_to_drop += ['cdr3_a_aa']\n",
    "\n",
    "    # we need to add beta chain cdr3_b_aa column if we want to use beta chains\n",
    "    if 'beta' in chains_to_use:\n",
    "        cols_to_drop += ['cdr3_b_aa']\n",
    "    \n",
    "    train_df = train_df.drop_duplicates(subset=cols_to_drop, keep='first').copy() # removing duplicates\n",
    "    train_df.reset_index(drop=True, inplace=True)\n",
    "\n",
    "    print(f'Removed {number_tcr_originally - train_df.shape[0]} duplicate TCRs by columns {cols_to_drop}.')\n",
    "    print(f'The new number of TCRs for each epitope:')\n",
    "    print(train_df['epitope'].value_counts())\n",
    "    \n",
    "    return [train_df, test_df]"
   ]
  },
  {
   "cell_type": "code",
   "execution_count": null,
   "id": "68fb6f1e",
   "metadata": {},
   "outputs": [],
   "source": []
  },
  {
   "cell_type": "code",
   "execution_count": null,
   "id": "9a1a4264",
   "metadata": {},
   "outputs": [],
   "source": []
  },
  {
   "cell_type": "code",
   "execution_count": null,
   "id": "69c47ea5",
   "metadata": {},
   "outputs": [],
   "source": []
  },
  {
   "cell_type": "code",
   "execution_count": null,
   "id": "1782d65a",
   "metadata": {},
   "outputs": [],
   "source": []
  },
  {
   "cell_type": "code",
   "execution_count": null,
   "id": "3767ee72",
   "metadata": {},
   "outputs": [],
   "source": []
  },
  {
   "cell_type": "markdown",
   "id": "b408cfc5",
   "metadata": {},
   "source": [
    "## Get distances for training set"
   ]
  },
  {
   "cell_type": "code",
   "execution_count": 127,
   "id": "034be58b",
   "metadata": {},
   "outputs": [],
   "source": [
    "def get_distances_training_set(train_df,chains_to_use):\n",
    "    \n",
    "    tr = TCRrep(cell_df=train_df,\n",
    "                chains = chains_to_use,\n",
    "                organism='human', \n",
    "                deduplicate=True)\n",
    "    # we need to create different X data frame depending on what chains we want to use..\n",
    "    if chains_to_use==['alpha']:\n",
    "        X = pd.DataFrame(tr.pw_cdr3_a_aa) # for alpha chains only\n",
    "    if chains_to_use==['beta']: \n",
    "        X = pd.DataFrame(tr.pw_cdr3_b_aa) # for beta chains only\n",
    "    if chains_to_use==['alpha', 'beta']:\n",
    "        X = pd.DataFrame(tr.pw_cdr3_a_aa + tr.pw_cdr3_b_aa) # for combined chains\n",
    "\n",
    "    Y = pd.DataFrame(tr.clone_df['epitope']) # training labels for our tcrs\n",
    "\n",
    "    # let's project data using UMAP\n",
    "    training_reduced_embeddings = umap.UMAP(n_components = 2, n_neighbors = 2, metric='hellinger', random_state=42).fit_transform(X)\n",
    "    train_reduced_df = pd.DataFrame(training_reduced_embeddings)\n",
    "    train_reduced_df.columns = train_reduced_df.columns.astype(str)\n",
    "    \n",
    "    return [train_reduced_df,Y]"
   ]
  },
  {
   "cell_type": "code",
   "execution_count": null,
   "id": "4368d5e9",
   "metadata": {},
   "outputs": [],
   "source": []
  },
  {
   "cell_type": "code",
   "execution_count": null,
   "id": "6c0b573c",
   "metadata": {},
   "outputs": [],
   "source": []
  },
  {
   "cell_type": "code",
   "execution_count": null,
   "id": "8de40f0f",
   "metadata": {},
   "outputs": [],
   "source": []
  },
  {
   "cell_type": "markdown",
   "id": "4cb89919",
   "metadata": {},
   "source": [
    "## Train our model"
   ]
  },
  {
   "cell_type": "code",
   "execution_count": 119,
   "id": "6931a10c",
   "metadata": {},
   "outputs": [],
   "source": [
    "def train_model(train_reduced_df,Y):\n",
    "    ## Train knn model\n",
    "    # we train the model on our whole train set\n",
    "    knn = KNeighborsClassifier()\n",
    "\n",
    "    # We use grid search for cross validation to get the best K.\n",
    "    param_grid = {'n_neighbors': range(2, 100)} \n",
    "\n",
    "    # Perform grid search using cross-validation\n",
    "    grid_search = GridSearchCV(knn, param_grid, cv=10)  #  Let's use 5 fold.\n",
    "\n",
    "    # We fit to our training data\n",
    "    grid_search.fit(train_reduced_df, Y.values.ravel())\n",
    "\n",
    "    # set the model to be the best performing one.\n",
    "    model = grid_search.best_estimator_\n",
    "    \n",
    "    return model\n"
   ]
  },
  {
   "cell_type": "code",
   "execution_count": 120,
   "id": "229805d6",
   "metadata": {},
   "outputs": [],
   "source": [
    "def format_test_set(test_df):\n",
    "    \n",
    "    print('Our test set has {} TCRs'.format(test_df.shape[0]))\n",
    "    # change column name\n",
    "    test_df.rename(columns={'antigen.epitope': 'epitope'}, inplace=True)\n",
    "    # For confusion matrix. We only keep the epitopes that are also available in the train set\n",
    "    list_of_epitopes = list(train_df['epitope'].unique())\n",
    "    test_df = test_df.loc[test_df['epitope'].isin(list_of_epitopes)]\n",
    "    test_df.reset_index(drop=True, inplace=True)\n",
    "    return test_df\n"
   ]
  },
  {
   "cell_type": "code",
   "execution_count": null,
   "id": "278f97d2",
   "metadata": {},
   "outputs": [],
   "source": []
  },
  {
   "cell_type": "code",
   "execution_count": null,
   "id": "8782acfa",
   "metadata": {},
   "outputs": [],
   "source": []
  },
  {
   "cell_type": "markdown",
   "id": "e39f28c5",
   "metadata": {},
   "source": [
    "# Get distances matrix (call it X_test) between test and train TCRs"
   ]
  },
  {
   "cell_type": "code",
   "execution_count": 121,
   "id": "ae933857",
   "metadata": {},
   "outputs": [],
   "source": [
    "def get_test_distances_predictions(test_df,chains_to_use):\n",
    "    test_tcrs = TCRrep(cell_df=test_df,\n",
    "                         organism='human', \n",
    "                         chains=chains_to_use,\n",
    "                         deduplicate=True)\n",
    "\n",
    "    test_tcrs.compute_rect_distances(df=test_tcrs.clone_df, \n",
    "                                        df2=tr.clone_df)\n",
    "    if chains_to_use==['alpha']:\n",
    "        X_test = pd.DataFrame(test_tcrs.rw_cdr3_a_aa)\n",
    "    if chains_to_use==['beta']:\n",
    "        X_test = pd.DataFrame(test_tcrs.rw_cdr3_b_aa)\n",
    "    if chains_to_use ==['alpha', 'beta']:\n",
    "        X_test = pd.DataFrame(test_tcrs.rw_cdr3_a_aa + test_tcrs.rw_cdr3_b_aa)\n",
    "\n",
    "    test_reduced_embeddings = umap.UMAP(n_components = 2, n_neighbors = 2).fit_transform(X_test)\n",
    "    test_reduced_df = pd.DataFrame(test_reduced_embeddings)\n",
    "    test_reduced_df.columns = test_reduced_df.columns.astype(str)\n",
    "    X_test = test_reduced_embeddings\n",
    "    # get predictions\n",
    "    prediction_labels = model.predict(X_test)\n",
    "\n",
    "    # Let's fetch test labels\n",
    "    Y_test = test_tcrs.clone_df['epitope']\n",
    "    return [Y_test, prediction_labels]\n",
    "\n"
   ]
  },
  {
   "cell_type": "code",
   "execution_count": null,
   "id": "315c11f2",
   "metadata": {},
   "outputs": [],
   "source": []
  },
  {
   "cell_type": "code",
   "execution_count": null,
   "id": "809750cf",
   "metadata": {},
   "outputs": [],
   "source": []
  },
  {
   "cell_type": "markdown",
   "id": "50b5e2c4",
   "metadata": {},
   "source": [
    "# Getting performance metrics"
   ]
  },
  {
   "cell_type": "code",
   "execution_count": 122,
   "id": "b27f3360",
   "metadata": {},
   "outputs": [],
   "source": [
    "def get_performance_metrics(Y_test,prediction_labels):\n",
    "    metrics_holder = {}\n",
    "    metrics_holder['accuracy'] = accuracy_score(Y_test, prediction_labels)\n",
    "    metrics_holder['actual_vs_labeled_matrix'] = pd.DataFrame(confusion_matrix(Y_test, prediction_labels), columns=model.classes_, index=model.classes_)\n",
    "    metrics_table_df = pd.DataFrame(columns=model.classes_)\n",
    "    metrics_table_df.loc['f1'] = f1_score(Y_test, prediction_labels, average=None)\n",
    "    metrics_table_df.loc['precision'] = precision_score(Y_test, prediction_labels, average=None)\n",
    "    metrics_table_df.loc['recall'] = recall_score(Y_test, prediction_labels, average=None)\n",
    "    return [metrics_holder,metrics_table_df]\n",
    "\n"
   ]
  },
  {
   "cell_type": "markdown",
   "id": "39987f2f",
   "metadata": {},
   "source": [
    "# Plot confusion matrices"
   ]
  },
  {
   "cell_type": "code",
   "execution_count": 123,
   "id": "133279d3",
   "metadata": {},
   "outputs": [],
   "source": [
    "def plot_confusion_matrix(metrics_holder):\n",
    "    figure, axis = plt.subplots(nrows=1,figsize=(14,7))\n",
    "    sns.heatmap(metrics_holder['actual_vs_labeled_matrix'], annot=True, cmap='Reds', fmt='', square=True, annot_kws={\"size\": 12})\n",
    "    axis.set_xlabel('Predicted', fontsize=13)\n",
    "    axis.set_ylabel('Actual', fontsize=13)\n",
    "    axis.set_title('Predicted vs actual epitopes', fontsize=17)\n",
    "    for tick in axis.get_xticklabels():\n",
    "            tick.set_rotation(90)\n",
    "    #Adding boxes to highlight when actual was same as predicted.\n",
    "    for epitopes in range(metrics_holder['actual_vs_labeled_matrix'].shape[0]):\n",
    "        axis.add_patch(Rectangle((epitopes, epitopes), 1, 1, ec='black', fc='none', lw=1.5, clip_on=False))\n",
    "    plt.tight_layout()\n",
    "\n"
   ]
  },
  {
   "cell_type": "markdown",
   "id": "97a16115",
   "metadata": {},
   "source": [
    "# Plot of metrics for each epitope"
   ]
  },
  {
   "cell_type": "code",
   "execution_count": 125,
   "id": "ec8a7c32",
   "metadata": {},
   "outputs": [],
   "source": [
    "def plot_metrics_for_each_epitope(metrics_table_df,metrics_holder):\n",
    "    plt.figure(figsize=(15,4))\n",
    "    axis = sns.heatmap(metrics_table_df, annot=True, cmap='Greens' )\n",
    "    axis.set_ylabel('Metrics', fontsize=15)\n",
    "    axis.set_xlabel('Epitopes', fontsize=15)\n",
    "    axis.set_title(f\"Average accuracy: {metrics_holder['accuracy']:.3f}\", fontsize=15)\n"
   ]
  },
  {
   "cell_type": "code",
   "execution_count": 126,
   "id": "d76222d6",
   "metadata": {},
   "outputs": [
    {
     "name": "stdout",
     "output_type": "stream",
     "text": [
      "Our dataset has 726 TCRs for 5 different epitopes\n",
      "\n",
      "Removed 191 duplicate TCRs by columns ['epitope', 'cdr3_a_aa', 'cdr3_b_aa'].\n",
      "The new number of TCRs for each epitope:\n",
      "NLVPMVATV         239\n",
      "GILGFVFTL         141\n",
      "TFEYVSQPFLMDLE     69\n",
      "GLCTLVAML          43\n",
      "YLQPRTFLL          43\n",
      "Name: epitope, dtype: int64\n"
     ]
    },
    {
     "name": "stderr",
     "output_type": "stream",
     "text": [
      "C:\\Users\\adnan\\anaconda3\\lib\\site-packages\\tcrdist\\repertoire.py:159: UserWarning: cell_df needs a counts column to track clonal number of frequency\n",
      "\n",
      "  self._validate_cell_df()\n",
      "C:\\Users\\adnan\\anaconda3\\lib\\site-packages\\tcrdist\\repertoire.py:791: UserWarning: No 'count' column provided; count column set to 1\n",
      "  warnings.warn(\"No 'count' column provided; count column set to 1\")\n"
     ]
    },
    {
     "name": "stdout",
     "output_type": "stream",
     "text": [
      "Our test set has 182 TCRs\n"
     ]
    },
    {
     "name": "stderr",
     "output_type": "stream",
     "text": [
      "C:\\Users\\adnan\\anaconda3\\lib\\site-packages\\tcrdist\\repertoire.py:159: UserWarning: cell_df needs a counts column to track clonal number of frequency\n",
      "\n",
      "  self._validate_cell_df()\n",
      "C:\\Users\\adnan\\anaconda3\\lib\\site-packages\\tcrdist\\repertoire.py:791: UserWarning: No 'count' column provided; count column set to 1\n",
      "  warnings.warn(\"No 'count' column provided; count column set to 1\")\n",
      "C:\\Users\\adnan\\anaconda3\\lib\\site-packages\\sklearn\\manifold\\_spectral_embedding.py:274: UserWarning: Graph is not fully connected, spectral embedding may not work as expected.\n",
      "  warnings.warn(\n",
      "C:\\Users\\adnan\\anaconda3\\lib\\site-packages\\sklearn\\base.py:420: UserWarning: X does not have valid feature names, but KNeighborsClassifier was fitted with feature names\n",
      "  warnings.warn(\n"
     ]
    },
    {
     "data": {
      "image/png": "[encoded data removed]",
      "text/plain": [
       "<Figure size 1400x700 with 2 Axes>"
      ]
     },
     "metadata": {},
     "output_type": "display_data"
    },
    {
     "data": {
      "image/png": "[encoded data removed]",
      "text/plain": [
       "<Figure size 1500x400 with 2 Axes>"
      ]
     },
     "metadata": {},
     "output_type": "display_data"
    }
   ],
   "source": [
    "\n",
    "chains_to_use = ['alpha','beta'] # specify which chains we want to use\n",
    "data_to_use = paired_chains # specify the data that represents these chains\n",
    "train_df, test_df = set_up_data(chains_to_use, data_to_use)\n",
    "train_reduced_df, Y = get_distances_training_set(train_df,chains_to_use)\n",
    "model = train_model(train_reduced_df,Y)\n",
    "test_df = format_test_set(test_df)\n",
    "Y_test, prediction_labels = get_test_distances_predictions(test_df,chains_to_use)\n",
    "metrics_holder,metrics_table_df = get_performance_metrics(Y_test,prediction_labels)\n",
    "plot_confusion_matrix(metrics_holder)\n",
    "plot_metrics_for_each_epitope(metrics_table_df,metrics_holder)"
   ]
  },
  {
   "cell_type": "code",
   "execution_count": null,
   "id": "e7819893",
   "metadata": {},
   "outputs": [],
   "source": []
  }
 ],
 "metadata": {
  "kernelspec": {
   "display_name": "Python 3 (ipykernel)",
   "language": "python",
   "name": "python3"
  },
  "language_info": {
   "codemirror_mode": {
    "name": "ipython",
    "version": 3
   },
   "file_extension": ".py",
   "mimetype": "text/x-python",
   "name": "python",
   "nbconvert_exporter": "python",
   "pygments_lexer": "ipython3",
   "version": "3.10.9"
  }
 },
 "nbformat": 4,
 "nbformat_minor": 5
}
