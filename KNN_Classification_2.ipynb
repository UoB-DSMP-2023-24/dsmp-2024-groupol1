{
  "cells": [
    {
      "cell_type": "markdown",
      "metadata": {
        "id": "Z_jpX-mdI69x"
      },
      "source": [
        "## Importing Libraries"
      ]
    },
    {
      "cell_type": "code",
      "execution_count": null,
      "metadata": {
        "id": "vm0iT6ccJCBj"
      },
      "outputs": [],
      "source": [
        "import pandas as pd\n",
        "import numpy as np\n",
        "from IPython.display import display\n",
        "import json\n",
        "import warnings\n",
        "warnings.filterwarnings(\"ignore\")"
      ]
    },
    {
      "cell_type": "code",
      "execution_count": null,
      "metadata": {
        "colab": {
          "base_uri": "https://localhost:8080/"
        },
        "id": "L1G8xdep1mmG",
        "outputId": "3d692a4c-0737-42d2-c1b5-23f1facbf68a"
      },
      "outputs": [
        {
          "output_type": "stream",
          "name": "stdout",
          "text": [
            "Drive already mounted at /content/drive; to attempt to forcibly remount, call drive.mount(\"/content/drive\", force_remount=True).\n",
            "df_paired_not_zero.csv  paired.csv              vdjdb.txt\n",
            "df_paired_zero.csv      paired_transformed.csv  \u001b[0m\u001b[01;34mvisualisations\u001b[0m/\n"
          ]
        }
      ],
      "source": [
        "from google.colab import drive\n",
        "\n",
        "drive.mount('/content/drive')\n",
        "%ls"
      ]
    },
    {
      "cell_type": "code",
      "execution_count": null,
      "metadata": {
        "colab": {
          "base_uri": "https://localhost:8080/"
        },
        "id": "sI-SNTOG12kl",
        "outputId": "5c11ebe4-1d4c-46f5-9e6e-59ee69fb870a"
      },
      "outputs": [
        {
          "output_type": "stream",
          "name": "stdout",
          "text": [
            "[Errno 2] No such file or directory: 'drive/MyDrive/vdjdb'\n",
            "/content/drive/MyDrive/vdjdb\n"
          ]
        }
      ],
      "source": [
        "%cd drive/MyDrive/vdjdb"
      ]
    },
    {
      "cell_type": "markdown",
      "metadata": {
        "id": "eUAlz7gN5QUN"
      },
      "source": [
        "# **Example 2: Train & Test Datasets**\n",
        "#### Train classifier on a train dataset, then test on another, independent test dataset.\n",
        "The datasets used were downloaded from https://github.com/IdoSpringer/ERGO-II/tree/master/Samples. These are pickle files (vdjdb_no10x_train_samples.pickle, vdjdb_no10x_test_samples.pickle), whcih can be converted into a pandas dataframes and csv files easily. For example:\n",
        "```python\n",
        "def load_from_pickle(path):\n",
        "    with open(path, 'rb') as f:\n",
        "        return pickle.load(f)\n",
        "\n",
        "df_train = load_from_pickle(\"vdjdb_no10x_train_samples.pickle\")\n",
        "df_train = pd.DataFrame.from_dict(df_train)\n",
        "df_train.to_csv(\"vdjdb_no10x_train_samples.csv\", index = False)\n",
        "```"
      ]
    },
    {
      "cell_type": "markdown",
      "metadata": {
        "id": "qSEtCFtTlddf"
      },
      "source": [
        "### Parameters"
      ]
    },
    {
      "cell_type": "markdown",
      "metadata": {
        "id": "wVBMtMGrlddg"
      },
      "source": [
        "Set manually"
      ]
    },
    {
      "cell_type": "code",
      "execution_count": null,
      "metadata": {
        "id": "7r41SQElbg4T"
      },
      "outputs": [],
      "source": [
        "# set params\n",
        "k_neighbours = 5\n",
        "organism = 'human' # 'mouse' or 'human'\n",
        "chains = ['alpha', 'beta'] # ['alpha', 'beta'] or ['alpha'] or ['beta']\n",
        "cdrs = 'cdr3' # 'cdr3' or 'all'"
      ]
    },
    {
      "cell_type": "markdown",
      "metadata": {
        "id": "1sdIuJYolddh"
      },
      "source": [
        "validate user-inputs"
      ]
    },
    {
      "cell_type": "code",
      "execution_count": null,
      "metadata": {
        "id": "5f8dABGZbg4U"
      },
      "outputs": [],
      "source": [
        "# make sure input config params are valid\n",
        "assert organism=='mouse' or organism=='human'\n",
        "assert cdrs=='all' or cdrs=='cdr3'\n",
        "assert chains==['alpha', 'beta'] or chains==['beta', 'alpha'] or chains==['alpha'] or chains==['beta']"
      ]
    },
    {
      "cell_type": "markdown",
      "metadata": {
        "id": "pMJxzULlMVAq"
      },
      "source": [
        "## Train"
      ]
    },
    {
      "cell_type": "markdown",
      "metadata": {
        "id": "bDtWBEP_cVW2"
      },
      "source": [
        "### Prepare training data"
      ]
    },
    {
      "cell_type": "code",
      "execution_count": null,
      "metadata": {
        "colab": {
          "base_uri": "https://localhost:8080/"
        },
        "id": "HVprPqWTQ5mD",
        "outputId": "6990f684-c98a-411d-9ac5-02b0ea7946f0"
      },
      "outputs": [
        {
          "output_type": "stream",
          "name": "stdout",
          "text": [
            "  Preparing metadata (setup.py) ... \u001b[?25l\u001b[?25hdone\n"
          ]
        }
      ],
      "source": [
        "%pip install git+https://github.com/kmayerb/tcrdist3.git@0.2.2 -q"
      ]
    },
    {
      "cell_type": "code",
      "execution_count": null,
      "metadata": {
        "id": "6t8qAKfZRLNY"
      },
      "outputs": [],
      "source": [
        "import os\n",
        "from tcrdist.repertoire import TCRrep\n",
        "import matplotlib.pyplot as plt"
      ]
    },
    {
      "cell_type": "code",
      "execution_count": null,
      "metadata": {
        "colab": {
          "background_save": true,
          "base_uri": "https://localhost:8080/",
          "height": 266
        },
        "id": "AcqfnuleKBOi",
        "outputId": "f81aaafa-234f-4e9e-9e2c-b68133bd6c7f"
      },
      "outputs": [
        {
          "data": {
            "application/vnd.google.colaboratory.intrinsic+json": {
              "type": "dataframe",
              "variable_name": "df"
            },
            "text/html": [
              "\n",
              "  <div id=\"df-e91b1b76-b2aa-4b2d-9c14-85c2a6addae5\" class=\"colab-df-container\">\n",
              "    <div>\n",
              "<style scoped>\n",
              "    .dataframe tbody tr th:only-of-type {\n",
              "        vertical-align: middle;\n",
              "    }\n",
              "\n",
              "    .dataframe tbody tr th {\n",
              "        vertical-align: top;\n",
              "    }\n",
              "\n",
              "    .dataframe thead th {\n",
              "        text-align: right;\n",
              "    }\n",
              "</style>\n",
              "<table border=\"1\" class=\"dataframe\">\n",
              "  <thead>\n",
              "    <tr style=\"text-align: right;\">\n",
              "      <th></th>\n",
              "      <th>complex.id</th>\n",
              "      <th>gene</th>\n",
              "      <th>cdr3</th>\n",
              "      <th>v.segm</th>\n",
              "      <th>j.segm</th>\n",
              "      <th>species</th>\n",
              "      <th>mhc.a</th>\n",
              "      <th>mhc.b</th>\n",
              "      <th>mhc.class</th>\n",
              "      <th>antigen.epitope</th>\n",
              "      <th>...</th>\n",
              "      <th>antigen.species</th>\n",
              "      <th>reference.id</th>\n",
              "      <th>method</th>\n",
              "      <th>meta</th>\n",
              "      <th>cdr3fix</th>\n",
              "      <th>vdjdb.score</th>\n",
              "      <th>web.method</th>\n",
              "      <th>web.method.seq</th>\n",
              "      <th>web.cdr3fix.nc</th>\n",
              "      <th>web.cdr3fix.unmp</th>\n",
              "    </tr>\n",
              "  </thead>\n",
              "  <tbody>\n",
              "    <tr>\n",
              "      <th>0</th>\n",
              "      <td>1</td>\n",
              "      <td>TRA</td>\n",
              "      <td>CIVRAPGRADMRF</td>\n",
              "      <td>TRAV26-1*01</td>\n",
              "      <td>TRAJ43*01</td>\n",
              "      <td>HomoSapiens</td>\n",
              "      <td>HLA-B*08</td>\n",
              "      <td>B2M</td>\n",
              "      <td>MHCI</td>\n",
              "      <td>FLKEKGGL</td>\n",
              "      <td>...</td>\n",
              "      <td>HIV-1</td>\n",
              "      <td>PMID:15596521</td>\n",
              "      <td>{\"frequency\": \"\", \"identification\": \"tetramer-...</td>\n",
              "      <td>{\"cell.subset\": \"CD8+\", \"clone.id\": \"\", \"donor...</td>\n",
              "      <td>{\"cdr3\": \"CIVRAPGRADMRF\", \"cdr3_old\": \"CIVRAPG...</td>\n",
              "      <td>2</td>\n",
              "      <td>sort</td>\n",
              "      <td>sanger</td>\n",
              "      <td>no</td>\n",
              "      <td>no</td>\n",
              "    </tr>\n",
              "    <tr>\n",
              "      <th>1</th>\n",
              "      <td>1</td>\n",
              "      <td>TRB</td>\n",
              "      <td>CASSYLPGQGDHYSNQPQHF</td>\n",
              "      <td>TRBV13*01</td>\n",
              "      <td>TRBJ1-5*01</td>\n",
              "      <td>HomoSapiens</td>\n",
              "      <td>HLA-B*08</td>\n",
              "      <td>B2M</td>\n",
              "      <td>MHCI</td>\n",
              "      <td>FLKEKGGL</td>\n",
              "      <td>...</td>\n",
              "      <td>HIV-1</td>\n",
              "      <td>PMID:15596521</td>\n",
              "      <td>{\"frequency\": \"\", \"identification\": \"tetramer-...</td>\n",
              "      <td>{\"cell.subset\": \"CD8+\", \"clone.id\": \"\", \"donor...</td>\n",
              "      <td>{\"cdr3\": \"CASSYLPGQGDHYSNQPQHF\", \"cdr3_old\": \"...</td>\n",
              "      <td>2</td>\n",
              "      <td>sort</td>\n",
              "      <td>sanger</td>\n",
              "      <td>no</td>\n",
              "      <td>no</td>\n",
              "    </tr>\n",
              "  </tbody>\n",
              "</table>\n",
              "<p>2 rows × 21 columns</p>\n",
              "</div>\n",
              "    <div class=\"colab-df-buttons\">\n",
              "\n",
              "  <div class=\"colab-df-container\">\n",
              "    <button class=\"colab-df-convert\" onclick=\"convertToInteractive('df-e91b1b76-b2aa-4b2d-9c14-85c2a6addae5')\"\n",
              "            title=\"Convert this dataframe to an interactive table.\"\n",
              "            style=\"display:none;\">\n",
              "\n",
              "  <svg xmlns=\"http://www.w3.org/2000/svg\" height=\"24px\" viewBox=\"0 -960 960 960\">\n",
              "    <path d=\"M120-120v-720h720v720H120Zm60-500h600v-160H180v160Zm220 220h160v-160H400v160Zm0 220h160v-160H400v160ZM180-400h160v-160H180v160Zm440 0h160v-160H620v160ZM180-180h160v-160H180v160Zm440 0h160v-160H620v160Z\"/>\n",
              "  </svg>\n",
              "    </button>\n",
              "\n",
              "  <style>\n",
              "    .colab-df-container {\n",
              "      display:flex;\n",
              "      gap: 12px;\n",
              "    }\n",
              "\n",
              "    .colab-df-convert {\n",
              "      background-color: #E8F0FE;\n",
              "      border: none;\n",
              "      border-radius: 50%;\n",
              "      cursor: pointer;\n",
              "      display: none;\n",
              "      fill: #1967D2;\n",
              "      height: 32px;\n",
              "      padding: 0 0 0 0;\n",
              "      width: 32px;\n",
              "    }\n",
              "\n",
              "    .colab-df-convert:hover {\n",
              "      background-color: #E2EBFA;\n",
              "      box-shadow: 0px 1px 2px rgba(60, 64, 67, 0.3), 0px 1px 3px 1px rgba(60, 64, 67, 0.15);\n",
              "      fill: #174EA6;\n",
              "    }\n",
              "\n",
              "    .colab-df-buttons div {\n",
              "      margin-bottom: 4px;\n",
              "    }\n",
              "\n",
              "    [theme=dark] .colab-df-convert {\n",
              "      background-color: #3B4455;\n",
              "      fill: #D2E3FC;\n",
              "    }\n",
              "\n",
              "    [theme=dark] .colab-df-convert:hover {\n",
              "      background-color: #434B5C;\n",
              "      box-shadow: 0px 1px 3px 1px rgba(0, 0, 0, 0.15);\n",
              "      filter: drop-shadow(0px 1px 2px rgba(0, 0, 0, 0.3));\n",
              "      fill: #FFFFFF;\n",
              "    }\n",
              "  </style>\n",
              "\n",
              "    <script>\n",
              "      const buttonEl =\n",
              "        document.querySelector('#df-e91b1b76-b2aa-4b2d-9c14-85c2a6addae5 button.colab-df-convert');\n",
              "      buttonEl.style.display =\n",
              "        google.colab.kernel.accessAllowed ? 'block' : 'none';\n",
              "\n",
              "      async function convertToInteractive(key) {\n",
              "        const element = document.querySelector('#df-e91b1b76-b2aa-4b2d-9c14-85c2a6addae5');\n",
              "        const dataTable =\n",
              "          await google.colab.kernel.invokeFunction('convertToInteractive',\n",
              "                                                    [key], {});\n",
              "        if (!dataTable) return;\n",
              "\n",
              "        const docLinkHtml = 'Like what you see? Visit the ' +\n",
              "          '<a target=\"_blank\" href=https://colab.research.google.com/notebooks/data_table.ipynb>data table notebook</a>'\n",
              "          + ' to learn more about interactive tables.';\n",
              "        element.innerHTML = '';\n",
              "        dataTable['output_type'] = 'display_data';\n",
              "        await google.colab.output.renderOutput(dataTable, element);\n",
              "        const docLink = document.createElement('div');\n",
              "        docLink.innerHTML = docLinkHtml;\n",
              "        element.appendChild(docLink);\n",
              "      }\n",
              "    </script>\n",
              "  </div>\n",
              "\n",
              "\n",
              "<div id=\"df-2e7aeb1a-fba6-43b4-b0b2-fb2057b40735\">\n",
              "  <button class=\"colab-df-quickchart\" onclick=\"quickchart('df-2e7aeb1a-fba6-43b4-b0b2-fb2057b40735')\"\n",
              "            title=\"Suggest charts\"\n",
              "            style=\"display:none;\">\n",
              "\n",
              "<svg xmlns=\"http://www.w3.org/2000/svg\" height=\"24px\"viewBox=\"0 0 24 24\"\n",
              "     width=\"24px\">\n",
              "    <g>\n",
              "        <path d=\"M19 3H5c-1.1 0-2 .9-2 2v14c0 1.1.9 2 2 2h14c1.1 0 2-.9 2-2V5c0-1.1-.9-2-2-2zM9 17H7v-7h2v7zm4 0h-2V7h2v10zm4 0h-2v-4h2v4z\"/>\n",
              "    </g>\n",
              "</svg>\n",
              "  </button>\n",
              "\n",
              "<style>\n",
              "  .colab-df-quickchart {\n",
              "      --bg-color: #E8F0FE;\n",
              "      --fill-color: #1967D2;\n",
              "      --hover-bg-color: #E2EBFA;\n",
              "      --hover-fill-color: #174EA6;\n",
              "      --disabled-fill-color: #AAA;\n",
              "      --disabled-bg-color: #DDD;\n",
              "  }\n",
              "\n",
              "  [theme=dark] .colab-df-quickchart {\n",
              "      --bg-color: #3B4455;\n",
              "      --fill-color: #D2E3FC;\n",
              "      --hover-bg-color: #434B5C;\n",
              "      --hover-fill-color: #FFFFFF;\n",
              "      --disabled-bg-color: #3B4455;\n",
              "      --disabled-fill-color: #666;\n",
              "  }\n",
              "\n",
              "  .colab-df-quickchart {\n",
              "    background-color: var(--bg-color);\n",
              "    border: none;\n",
              "    border-radius: 50%;\n",
              "    cursor: pointer;\n",
              "    display: none;\n",
              "    fill: var(--fill-color);\n",
              "    height: 32px;\n",
              "    padding: 0;\n",
              "    width: 32px;\n",
              "  }\n",
              "\n",
              "  .colab-df-quickchart:hover {\n",
              "    background-color: var(--hover-bg-color);\n",
              "    box-shadow: 0 1px 2px rgba(60, 64, 67, 0.3), 0 1px 3px 1px rgba(60, 64, 67, 0.15);\n",
              "    fill: var(--button-hover-fill-color);\n",
              "  }\n",
              "\n",
              "  .colab-df-quickchart-complete:disabled,\n",
              "  .colab-df-quickchart-complete:disabled:hover {\n",
              "    background-color: var(--disabled-bg-color);\n",
              "    fill: var(--disabled-fill-color);\n",
              "    box-shadow: none;\n",
              "  }\n",
              "\n",
              "  .colab-df-spinner {\n",
              "    border: 2px solid var(--fill-color);\n",
              "    border-color: transparent;\n",
              "    border-bottom-color: var(--fill-color);\n",
              "    animation:\n",
              "      spin 1s steps(1) infinite;\n",
              "  }\n",
              "\n",
              "  @keyframes spin {\n",
              "    0% {\n",
              "      border-color: transparent;\n",
              "      border-bottom-color: var(--fill-color);\n",
              "      border-left-color: var(--fill-color);\n",
              "    }\n",
              "    20% {\n",
              "      border-color: transparent;\n",
              "      border-left-color: var(--fill-color);\n",
              "      border-top-color: var(--fill-color);\n",
              "    }\n",
              "    30% {\n",
              "      border-color: transparent;\n",
              "      border-left-color: var(--fill-color);\n",
              "      border-top-color: var(--fill-color);\n",
              "      border-right-color: var(--fill-color);\n",
              "    }\n",
              "    40% {\n",
              "      border-color: transparent;\n",
              "      border-right-color: var(--fill-color);\n",
              "      border-top-color: var(--fill-color);\n",
              "    }\n",
              "    60% {\n",
              "      border-color: transparent;\n",
              "      border-right-color: var(--fill-color);\n",
              "    }\n",
              "    80% {\n",
              "      border-color: transparent;\n",
              "      border-right-color: var(--fill-color);\n",
              "      border-bottom-color: var(--fill-color);\n",
              "    }\n",
              "    90% {\n",
              "      border-color: transparent;\n",
              "      border-bottom-color: var(--fill-color);\n",
              "    }\n",
              "  }\n",
              "</style>\n",
              "\n",
              "  <script>\n",
              "    async function quickchart(key) {\n",
              "      const quickchartButtonEl =\n",
              "        document.querySelector('#' + key + ' button');\n",
              "      quickchartButtonEl.disabled = true;  // To prevent multiple clicks.\n",
              "      quickchartButtonEl.classList.add('colab-df-spinner');\n",
              "      try {\n",
              "        const charts = await google.colab.kernel.invokeFunction(\n",
              "            'suggestCharts', [key], {});\n",
              "      } catch (error) {\n",
              "        console.error('Error during call to suggestCharts:', error);\n",
              "      }\n",
              "      quickchartButtonEl.classList.remove('colab-df-spinner');\n",
              "      quickchartButtonEl.classList.add('colab-df-quickchart-complete');\n",
              "    }\n",
              "    (() => {\n",
              "      let quickchartButtonEl =\n",
              "        document.querySelector('#df-2e7aeb1a-fba6-43b4-b0b2-fb2057b40735 button');\n",
              "      quickchartButtonEl.style.display =\n",
              "        google.colab.kernel.accessAllowed ? 'block' : 'none';\n",
              "    })();\n",
              "  </script>\n",
              "</div>\n",
              "\n",
              "    </div>\n",
              "  </div>\n"
            ],
            "text/plain": [
              "   complex.id gene                  cdr3       v.segm      j.segm  \\\n",
              "0           1  TRA         CIVRAPGRADMRF  TRAV26-1*01   TRAJ43*01   \n",
              "1           1  TRB  CASSYLPGQGDHYSNQPQHF    TRBV13*01  TRBJ1-5*01   \n",
              "\n",
              "       species     mhc.a mhc.b mhc.class antigen.epitope  ... antigen.species  \\\n",
              "0  HomoSapiens  HLA-B*08   B2M      MHCI        FLKEKGGL  ...           HIV-1   \n",
              "1  HomoSapiens  HLA-B*08   B2M      MHCI        FLKEKGGL  ...           HIV-1   \n",
              "\n",
              "    reference.id                                             method  \\\n",
              "0  PMID:15596521  {\"frequency\": \"\", \"identification\": \"tetramer-...   \n",
              "1  PMID:15596521  {\"frequency\": \"\", \"identification\": \"tetramer-...   \n",
              "\n",
              "                                                meta  \\\n",
              "0  {\"cell.subset\": \"CD8+\", \"clone.id\": \"\", \"donor...   \n",
              "1  {\"cell.subset\": \"CD8+\", \"clone.id\": \"\", \"donor...   \n",
              "\n",
              "                                             cdr3fix vdjdb.score  web.method  \\\n",
              "0  {\"cdr3\": \"CIVRAPGRADMRF\", \"cdr3_old\": \"CIVRAPG...           2        sort   \n",
              "1  {\"cdr3\": \"CASSYLPGQGDHYSNQPQHF\", \"cdr3_old\": \"...           2        sort   \n",
              "\n",
              "  web.method.seq web.cdr3fix.nc web.cdr3fix.unmp  \n",
              "0         sanger             no               no  \n",
              "1         sanger             no               no  \n",
              "\n",
              "[2 rows x 21 columns]"
            ]
          },
          "execution_count": 9,
          "metadata": {},
          "output_type": "execute_result"
        }
      ],
      "source": [
        "df = pd.read_csv(\"/content/drive/MyDrive/vdjdb/vdjdb.txt\", delimiter=\"\\t\")\n",
        "df.head(2)"
      ]
    },
    {
      "cell_type": "code",
      "execution_count": null,
      "metadata": {
        "colab": {
          "background_save": true,
          "base_uri": "https://localhost:8080/",
          "height": 206
        },
        "id": "5vj86OaWK6rp",
        "outputId": "05ff1380-a6a4-4730-9e38-ba5362a81075"
      },
      "outputs": [
        {
          "data": {
            "application/vnd.google.colaboratory.intrinsic+json": {
              "summary": "{\n  \"name\": \"df\",\n  \"rows\": 92771,\n  \"fields\": [\n    {\n      \"column\": \"complex.id\",\n      \"properties\": {\n        \"dtype\": \"number\",\n        \"std\": 10197,\n        \"min\": 0,\n        \"max\": 30594,\n        \"num_unique_values\": 30595,\n        \"samples\": [\n          9489,\n          7261,\n          16604\n        ],\n        \"semantic_type\": \"\",\n        \"description\": \"\"\n      }\n    },\n    {\n      \"column\": \"gene\",\n      \"properties\": {\n        \"dtype\": \"category\",\n        \"num_unique_values\": 2,\n        \"samples\": [\n          \"TRB\",\n          \"TRA\"\n        ],\n        \"semantic_type\": \"\",\n        \"description\": \"\"\n      }\n    },\n    {\n      \"column\": \"cdr3\",\n      \"properties\": {\n        \"dtype\": \"string\",\n        \"num_unique_values\": 68994,\n        \"samples\": [\n          \"CASSQDLRGARGYTF\",\n          \"CASSIDQGAEAFF\"\n        ],\n        \"semantic_type\": \"\",\n        \"description\": \"\"\n      }\n    },\n    {\n      \"column\": \"v.segm\",\n      \"properties\": {\n        \"dtype\": \"category\",\n        \"num_unique_values\": 224,\n        \"samples\": [\n          \"TRBV4-1*01\",\n          \"TRAV24*01\"\n        ],\n        \"semantic_type\": \"\",\n        \"description\": \"\"\n      }\n    },\n    {\n      \"column\": \"j.segm\",\n      \"properties\": {\n        \"dtype\": \"category\",\n        \"num_unique_values\": 71,\n        \"samples\": [\n          \"TRAJ39*01\",\n          \"TRAJ43*01\"\n        ],\n        \"semantic_type\": \"\",\n        \"description\": \"\"\n      }\n    },\n    {\n      \"column\": \"species\",\n      \"properties\": {\n        \"dtype\": \"category\",\n        \"num_unique_values\": 3,\n        \"samples\": [\n          \"HomoSapiens\",\n          \"MusMusculus\"\n        ],\n        \"semantic_type\": \"\",\n        \"description\": \"\"\n      }\n    },\n    {\n      \"column\": \"mhc.a\",\n      \"properties\": {\n        \"dtype\": \"category\",\n        \"num_unique_values\": 119,\n        \"samples\": [\n          \"HLA-B*42:01\",\n          \"HLA-DRB1*07:01\"\n        ],\n        \"semantic_type\": \"\",\n        \"description\": \"\"\n      }\n    },\n    {\n      \"column\": \"mhc.b\",\n      \"properties\": {\n        \"dtype\": \"category\",\n        \"num_unique_values\": 45,\n        \"samples\": [\n          \"HLA-DPB1*02:01\",\n          \"HLA-DQB1*02\"\n        ],\n        \"semantic_type\": \"\",\n        \"description\": \"\"\n      }\n    },\n    {\n      \"column\": \"mhc.class\",\n      \"properties\": {\n        \"dtype\": \"category\",\n        \"num_unique_values\": 2,\n        \"samples\": [\n          \"MHCII\",\n          \"MHCI\"\n        ],\n        \"semantic_type\": \"\",\n        \"description\": \"\"\n      }\n    },\n    {\n      \"column\": \"antigen.epitope\",\n      \"properties\": {\n        \"dtype\": \"category\",\n        \"num_unique_values\": 1169,\n        \"samples\": [\n          \"FPLKLRGTA\",\n          \"FLVLLPLVS\"\n        ],\n        \"semantic_type\": \"\",\n        \"description\": \"\"\n      }\n    },\n    {\n      \"column\": \"antigen.species\",\n      \"properties\": {\n        \"dtype\": \"category\",\n        \"num_unique_values\": 42,\n        \"samples\": [\n          \"PseudomonasAeruginosa\",\n          \"SaccharomycesCerevisiae\"\n        ],\n        \"semantic_type\": \"\",\n        \"description\": \"\"\n      }\n    },\n    {\n      \"column\": \"vdjdb.score\",\n      \"properties\": {\n        \"dtype\": \"number\",\n        \"std\": 0,\n        \"min\": 0,\n        \"max\": 3,\n        \"num_unique_values\": 4,\n        \"samples\": [\n          1,\n          3\n        ],\n        \"semantic_type\": \"\",\n        \"description\": \"\"\n      }\n    }\n  ]\n}",
              "type": "dataframe",
              "variable_name": "df"
            },
            "text/html": [
              "\n",
              "  <div id=\"df-9bccf9ec-fb4f-4f03-8acb-9ac0f60c1690\" class=\"colab-df-container\">\n",
              "    <div>\n",
              "<style scoped>\n",
              "    .dataframe tbody tr th:only-of-type {\n",
              "        vertical-align: middle;\n",
              "    }\n",
              "\n",
              "    .dataframe tbody tr th {\n",
              "        vertical-align: top;\n",
              "    }\n",
              "\n",
              "    .dataframe thead th {\n",
              "        text-align: right;\n",
              "    }\n",
              "</style>\n",
              "<table border=\"1\" class=\"dataframe\">\n",
              "  <thead>\n",
              "    <tr style=\"text-align: right;\">\n",
              "      <th></th>\n",
              "      <th>complex.id</th>\n",
              "      <th>gene</th>\n",
              "      <th>cdr3</th>\n",
              "      <th>v.segm</th>\n",
              "      <th>j.segm</th>\n",
              "      <th>species</th>\n",
              "      <th>mhc.a</th>\n",
              "      <th>mhc.b</th>\n",
              "      <th>mhc.class</th>\n",
              "      <th>antigen.epitope</th>\n",
              "      <th>antigen.species</th>\n",
              "      <th>vdjdb.score</th>\n",
              "    </tr>\n",
              "  </thead>\n",
              "  <tbody>\n",
              "    <tr>\n",
              "      <th>0</th>\n",
              "      <td>1</td>\n",
              "      <td>TRA</td>\n",
              "      <td>CIVRAPGRADMRF</td>\n",
              "      <td>TRAV26-1*01</td>\n",
              "      <td>TRAJ43*01</td>\n",
              "      <td>HomoSapiens</td>\n",
              "      <td>HLA-B*08</td>\n",
              "      <td>B2M</td>\n",
              "      <td>MHCI</td>\n",
              "      <td>FLKEKGGL</td>\n",
              "      <td>HIV-1</td>\n",
              "      <td>2</td>\n",
              "    </tr>\n",
              "    <tr>\n",
              "      <th>1</th>\n",
              "      <td>1</td>\n",
              "      <td>TRB</td>\n",
              "      <td>CASSYLPGQGDHYSNQPQHF</td>\n",
              "      <td>TRBV13*01</td>\n",
              "      <td>TRBJ1-5*01</td>\n",
              "      <td>HomoSapiens</td>\n",
              "      <td>HLA-B*08</td>\n",
              "      <td>B2M</td>\n",
              "      <td>MHCI</td>\n",
              "      <td>FLKEKGGL</td>\n",
              "      <td>HIV-1</td>\n",
              "      <td>2</td>\n",
              "    </tr>\n",
              "    <tr>\n",
              "      <th>2</th>\n",
              "      <td>0</td>\n",
              "      <td>TRB</td>\n",
              "      <td>CASSFEAGQGFFSNQPQHF</td>\n",
              "      <td>TRBV13*01</td>\n",
              "      <td>TRBJ1-5*01</td>\n",
              "      <td>HomoSapiens</td>\n",
              "      <td>HLA-B*08</td>\n",
              "      <td>B2M</td>\n",
              "      <td>MHCI</td>\n",
              "      <td>FLKEKGGL</td>\n",
              "      <td>HIV-1</td>\n",
              "      <td>2</td>\n",
              "    </tr>\n",
              "    <tr>\n",
              "      <th>3</th>\n",
              "      <td>2</td>\n",
              "      <td>TRA</td>\n",
              "      <td>CAVPSGAGSYQLTF</td>\n",
              "      <td>TRAV20*01</td>\n",
              "      <td>TRAJ28*01</td>\n",
              "      <td>HomoSapiens</td>\n",
              "      <td>HLA-B*08</td>\n",
              "      <td>B2M</td>\n",
              "      <td>MHCI</td>\n",
              "      <td>FLKEKGGL</td>\n",
              "      <td>HIV-1</td>\n",
              "      <td>2</td>\n",
              "    </tr>\n",
              "    <tr>\n",
              "      <th>4</th>\n",
              "      <td>2</td>\n",
              "      <td>TRB</td>\n",
              "      <td>CASSFEPGQGFYSNQPQHF</td>\n",
              "      <td>TRBV13*01</td>\n",
              "      <td>TRBJ1-5*01</td>\n",
              "      <td>HomoSapiens</td>\n",
              "      <td>HLA-B*08</td>\n",
              "      <td>B2M</td>\n",
              "      <td>MHCI</td>\n",
              "      <td>FLKEKGGL</td>\n",
              "      <td>HIV-1</td>\n",
              "      <td>2</td>\n",
              "    </tr>\n",
              "  </tbody>\n",
              "</table>\n",
              "</div>\n",
              "    <div class=\"colab-df-buttons\">\n",
              "\n",
              "  <div class=\"colab-df-container\">\n",
              "    <button class=\"colab-df-convert\" onclick=\"convertToInteractive('df-9bccf9ec-fb4f-4f03-8acb-9ac0f60c1690')\"\n",
              "            title=\"Convert this dataframe to an interactive table.\"\n",
              "            style=\"display:none;\">\n",
              "\n",
              "  <svg xmlns=\"http://www.w3.org/2000/svg\" height=\"24px\" viewBox=\"0 -960 960 960\">\n",
              "    <path d=\"M120-120v-720h720v720H120Zm60-500h600v-160H180v160Zm220 220h160v-160H400v160Zm0 220h160v-160H400v160ZM180-400h160v-160H180v160Zm440 0h160v-160H620v160ZM180-180h160v-160H180v160Zm440 0h160v-160H620v160Z\"/>\n",
              "  </svg>\n",
              "    </button>\n",
              "\n",
              "  <style>\n",
              "    .colab-df-container {\n",
              "      display:flex;\n",
              "      gap: 12px;\n",
              "    }\n",
              "\n",
              "    .colab-df-convert {\n",
              "      background-color: #E8F0FE;\n",
              "      border: none;\n",
              "      border-radius: 50%;\n",
              "      cursor: pointer;\n",
              "      display: none;\n",
              "      fill: #1967D2;\n",
              "      height: 32px;\n",
              "      padding: 0 0 0 0;\n",
              "      width: 32px;\n",
              "    }\n",
              "\n",
              "    .colab-df-convert:hover {\n",
              "      background-color: #E2EBFA;\n",
              "      box-shadow: 0px 1px 2px rgba(60, 64, 67, 0.3), 0px 1px 3px 1px rgba(60, 64, 67, 0.15);\n",
              "      fill: #174EA6;\n",
              "    }\n",
              "\n",
              "    .colab-df-buttons div {\n",
              "      margin-bottom: 4px;\n",
              "    }\n",
              "\n",
              "    [theme=dark] .colab-df-convert {\n",
              "      background-color: #3B4455;\n",
              "      fill: #D2E3FC;\n",
              "    }\n",
              "\n",
              "    [theme=dark] .colab-df-convert:hover {\n",
              "      background-color: #434B5C;\n",
              "      box-shadow: 0px 1px 3px 1px rgba(0, 0, 0, 0.15);\n",
              "      filter: drop-shadow(0px 1px 2px rgba(0, 0, 0, 0.3));\n",
              "      fill: #FFFFFF;\n",
              "    }\n",
              "  </style>\n",
              "\n",
              "    <script>\n",
              "      const buttonEl =\n",
              "        document.querySelector('#df-9bccf9ec-fb4f-4f03-8acb-9ac0f60c1690 button.colab-df-convert');\n",
              "      buttonEl.style.display =\n",
              "        google.colab.kernel.accessAllowed ? 'block' : 'none';\n",
              "\n",
              "      async function convertToInteractive(key) {\n",
              "        const element = document.querySelector('#df-9bccf9ec-fb4f-4f03-8acb-9ac0f60c1690');\n",
              "        const dataTable =\n",
              "          await google.colab.kernel.invokeFunction('convertToInteractive',\n",
              "                                                    [key], {});\n",
              "        if (!dataTable) return;\n",
              "\n",
              "        const docLinkHtml = 'Like what you see? Visit the ' +\n",
              "          '<a target=\"_blank\" href=https://colab.research.google.com/notebooks/data_table.ipynb>data table notebook</a>'\n",
              "          + ' to learn more about interactive tables.';\n",
              "        element.innerHTML = '';\n",
              "        dataTable['output_type'] = 'display_data';\n",
              "        await google.colab.output.renderOutput(dataTable, element);\n",
              "        const docLink = document.createElement('div');\n",
              "        docLink.innerHTML = docLinkHtml;\n",
              "        element.appendChild(docLink);\n",
              "      }\n",
              "    </script>\n",
              "  </div>\n",
              "\n",
              "\n",
              "<div id=\"df-378557eb-b865-41ac-8960-12cacf2f9f81\">\n",
              "  <button class=\"colab-df-quickchart\" onclick=\"quickchart('df-378557eb-b865-41ac-8960-12cacf2f9f81')\"\n",
              "            title=\"Suggest charts\"\n",
              "            style=\"display:none;\">\n",
              "\n",
              "<svg xmlns=\"http://www.w3.org/2000/svg\" height=\"24px\"viewBox=\"0 0 24 24\"\n",
              "     width=\"24px\">\n",
              "    <g>\n",
              "        <path d=\"M19 3H5c-1.1 0-2 .9-2 2v14c0 1.1.9 2 2 2h14c1.1 0 2-.9 2-2V5c0-1.1-.9-2-2-2zM9 17H7v-7h2v7zm4 0h-2V7h2v10zm4 0h-2v-4h2v4z\"/>\n",
              "    </g>\n",
              "</svg>\n",
              "  </button>\n",
              "\n",
              "<style>\n",
              "  .colab-df-quickchart {\n",
              "      --bg-color: #E8F0FE;\n",
              "      --fill-color: #1967D2;\n",
              "      --hover-bg-color: #E2EBFA;\n",
              "      --hover-fill-color: #174EA6;\n",
              "      --disabled-fill-color: #AAA;\n",
              "      --disabled-bg-color: #DDD;\n",
              "  }\n",
              "\n",
              "  [theme=dark] .colab-df-quickchart {\n",
              "      --bg-color: #3B4455;\n",
              "      --fill-color: #D2E3FC;\n",
              "      --hover-bg-color: #434B5C;\n",
              "      --hover-fill-color: #FFFFFF;\n",
              "      --disabled-bg-color: #3B4455;\n",
              "      --disabled-fill-color: #666;\n",
              "  }\n",
              "\n",
              "  .colab-df-quickchart {\n",
              "    background-color: var(--bg-color);\n",
              "    border: none;\n",
              "    border-radius: 50%;\n",
              "    cursor: pointer;\n",
              "    display: none;\n",
              "    fill: var(--fill-color);\n",
              "    height: 32px;\n",
              "    padding: 0;\n",
              "    width: 32px;\n",
              "  }\n",
              "\n",
              "  .colab-df-quickchart:hover {\n",
              "    background-color: var(--hover-bg-color);\n",
              "    box-shadow: 0 1px 2px rgba(60, 64, 67, 0.3), 0 1px 3px 1px rgba(60, 64, 67, 0.15);\n",
              "    fill: var(--button-hover-fill-color);\n",
              "  }\n",
              "\n",
              "  .colab-df-quickchart-complete:disabled,\n",
              "  .colab-df-quickchart-complete:disabled:hover {\n",
              "    background-color: var(--disabled-bg-color);\n",
              "    fill: var(--disabled-fill-color);\n",
              "    box-shadow: none;\n",
              "  }\n",
              "\n",
              "  .colab-df-spinner {\n",
              "    border: 2px solid var(--fill-color);\n",
              "    border-color: transparent;\n",
              "    border-bottom-color: var(--fill-color);\n",
              "    animation:\n",
              "      spin 1s steps(1) infinite;\n",
              "  }\n",
              "\n",
              "  @keyframes spin {\n",
              "    0% {\n",
              "      border-color: transparent;\n",
              "      border-bottom-color: var(--fill-color);\n",
              "      border-left-color: var(--fill-color);\n",
              "    }\n",
              "    20% {\n",
              "      border-color: transparent;\n",
              "      border-left-color: var(--fill-color);\n",
              "      border-top-color: var(--fill-color);\n",
              "    }\n",
              "    30% {\n",
              "      border-color: transparent;\n",
              "      border-left-color: var(--fill-color);\n",
              "      border-top-color: var(--fill-color);\n",
              "      border-right-color: var(--fill-color);\n",
              "    }\n",
              "    40% {\n",
              "      border-color: transparent;\n",
              "      border-right-color: var(--fill-color);\n",
              "      border-top-color: var(--fill-color);\n",
              "    }\n",
              "    60% {\n",
              "      border-color: transparent;\n",
              "      border-right-color: var(--fill-color);\n",
              "    }\n",
              "    80% {\n",
              "      border-color: transparent;\n",
              "      border-right-color: var(--fill-color);\n",
              "      border-bottom-color: var(--fill-color);\n",
              "    }\n",
              "    90% {\n",
              "      border-color: transparent;\n",
              "      border-bottom-color: var(--fill-color);\n",
              "    }\n",
              "  }\n",
              "</style>\n",
              "\n",
              "  <script>\n",
              "    async function quickchart(key) {\n",
              "      const quickchartButtonEl =\n",
              "        document.querySelector('#' + key + ' button');\n",
              "      quickchartButtonEl.disabled = true;  // To prevent multiple clicks.\n",
              "      quickchartButtonEl.classList.add('colab-df-spinner');\n",
              "      try {\n",
              "        const charts = await google.colab.kernel.invokeFunction(\n",
              "            'suggestCharts', [key], {});\n",
              "      } catch (error) {\n",
              "        console.error('Error during call to suggestCharts:', error);\n",
              "      }\n",
              "      quickchartButtonEl.classList.remove('colab-df-spinner');\n",
              "      quickchartButtonEl.classList.add('colab-df-quickchart-complete');\n",
              "    }\n",
              "    (() => {\n",
              "      let quickchartButtonEl =\n",
              "        document.querySelector('#df-378557eb-b865-41ac-8960-12cacf2f9f81 button');\n",
              "      quickchartButtonEl.style.display =\n",
              "        google.colab.kernel.accessAllowed ? 'block' : 'none';\n",
              "    })();\n",
              "  </script>\n",
              "</div>\n",
              "\n",
              "    </div>\n",
              "  </div>\n"
            ],
            "text/plain": [
              "   complex.id gene                  cdr3       v.segm      j.segm  \\\n",
              "0           1  TRA         CIVRAPGRADMRF  TRAV26-1*01   TRAJ43*01   \n",
              "1           1  TRB  CASSYLPGQGDHYSNQPQHF    TRBV13*01  TRBJ1-5*01   \n",
              "2           0  TRB   CASSFEAGQGFFSNQPQHF    TRBV13*01  TRBJ1-5*01   \n",
              "3           2  TRA        CAVPSGAGSYQLTF    TRAV20*01   TRAJ28*01   \n",
              "4           2  TRB   CASSFEPGQGFYSNQPQHF    TRBV13*01  TRBJ1-5*01   \n",
              "\n",
              "       species     mhc.a mhc.b mhc.class antigen.epitope antigen.species  \\\n",
              "0  HomoSapiens  HLA-B*08   B2M      MHCI        FLKEKGGL           HIV-1   \n",
              "1  HomoSapiens  HLA-B*08   B2M      MHCI        FLKEKGGL           HIV-1   \n",
              "2  HomoSapiens  HLA-B*08   B2M      MHCI        FLKEKGGL           HIV-1   \n",
              "3  HomoSapiens  HLA-B*08   B2M      MHCI        FLKEKGGL           HIV-1   \n",
              "4  HomoSapiens  HLA-B*08   B2M      MHCI        FLKEKGGL           HIV-1   \n",
              "\n",
              "   vdjdb.score  \n",
              "0            2  \n",
              "1            2  \n",
              "2            2  \n",
              "3            2  \n",
              "4            2  "
            ]
          },
          "execution_count": 10,
          "metadata": {},
          "output_type": "execute_result"
        }
      ],
      "source": [
        "# Select the columns we need\n",
        "selected_features = [\"complex.id\" ,'gene','cdr3','v.segm','j.segm','species','mhc.a','mhc.b','mhc.class','antigen.epitope','antigen.species','vdjdb.score']\n",
        "\n",
        "df = df[selected_features]\n",
        "df.head()"
      ]
    },
    {
      "cell_type": "code",
      "execution_count": null,
      "metadata": {
        "colab": {
          "background_save": true
        },
        "id": "Dyn072RhK7Ji",
        "outputId": "17b80a9a-4582-45e2-cf32-151f5ec915bf"
      },
      "outputs": [
        {
          "data": {
            "application/vnd.google.colaboratory.intrinsic+json": {
              "summary": "{\n  \"name\": \"df_paired_not_zero\",\n  \"rows\": 2965,\n  \"fields\": [\n    {\n      \"column\": \"complex.id\",\n      \"properties\": {\n        \"dtype\": \"number\",\n        \"std\": 12168,\n        \"min\": 1,\n        \"max\": 30593,\n        \"num_unique_values\": 2965,\n        \"samples\": [\n          29444,\n          24755,\n          27273\n        ],\n        \"semantic_type\": \"\",\n        \"description\": \"\"\n      }\n    },\n    {\n      \"column\": \"cdr3_a_aa\",\n      \"properties\": {\n        \"dtype\": \"string\",\n        \"num_unique_values\": 1867,\n        \"samples\": [\n          \"CVVSVGGGGADGLTF\",\n          \"CAMRANTDKLIF\",\n          \"CAANEGGYKLTF\"\n        ],\n        \"semantic_type\": \"\",\n        \"description\": \"\"\n      }\n    },\n    {\n      \"column\": \"cdr3_b_aa\",\n      \"properties\": {\n        \"dtype\": \"string\",\n        \"num_unique_values\": 1947,\n        \"samples\": [\n          \"CASSVDLKAGEEGEQFF\",\n          \"CASSENWGYEQYF\",\n          \"CASSSDSAETLYF\"\n        ],\n        \"semantic_type\": \"\",\n        \"description\": \"\"\n      }\n    },\n    {\n      \"column\": \"v_b_gene\",\n      \"properties\": {\n        \"dtype\": \"category\",\n        \"num_unique_values\": 69,\n        \"samples\": [\n          \"TRBV29*01\",\n          \"TRBV13*01\",\n          \"TRBV4-3*01\"\n        ],\n        \"semantic_type\": \"\",\n        \"description\": \"\"\n      }\n    },\n    {\n      \"column\": \"j_b_gene\",\n      \"properties\": {\n        \"dtype\": \"category\",\n        \"num_unique_values\": 16,\n        \"samples\": [\n          \"TRBJ1-5*01\",\n          \"TRBJ2-1*01\",\n          \"TRBJ2-6*01\"\n        ],\n        \"semantic_type\": \"\",\n        \"description\": \"\"\n      }\n    },\n    {\n      \"column\": \"v_a_gene\",\n      \"properties\": {\n        \"dtype\": \"category\",\n        \"num_unique_values\": 122,\n        \"samples\": [\n          \"TRAV8-4*01\",\n          \"TRAV30*01\",\n          \"TRAV5N-4*01\"\n        ],\n        \"semantic_type\": \"\",\n        \"description\": \"\"\n      }\n    },\n    {\n      \"column\": \"j_a_gene\",\n      \"properties\": {\n        \"dtype\": \"category\",\n        \"num_unique_values\": 53,\n        \"samples\": [\n          \"TRAJ48*01\",\n          \"TRAJ26*01\",\n          \"TRAJ3*01\"\n        ],\n        \"semantic_type\": \"\",\n        \"description\": \"\"\n      }\n    },\n    {\n      \"column\": \"mhc.a\",\n      \"properties\": {\n        \"dtype\": \"category\",\n        \"num_unique_values\": 97,\n        \"samples\": [\n          \"HLA-A*24:01\",\n          \"HLA-B*37:01:10\",\n          \"HLA-DRB1*03:01\"\n        ],\n        \"semantic_type\": \"\",\n        \"description\": \"\"\n      }\n    },\n    {\n      \"column\": \"mhc.b\",\n      \"properties\": {\n        \"dtype\": \"category\",\n        \"num_unique_values\": 41,\n        \"samples\": [\n          \"HLA-DRB1*09:01\",\n          \"HLA-DQB1*02:01:08\",\n          \"HLA-DRB1*01:01:01\"\n        ],\n        \"semantic_type\": \"\",\n        \"description\": \"\"\n      }\n    },\n    {\n      \"column\": \"antigen.species\",\n      \"properties\": {\n        \"dtype\": \"category\",\n        \"num_unique_values\": 33,\n        \"samples\": [\n          \"MCMV\",\n          \"synthetic\",\n          \"HIV1\"\n        ],\n        \"semantic_type\": \"\",\n        \"description\": \"\"\n      }\n    },\n    {\n      \"column\": \"antigen.epitope\",\n      \"properties\": {\n        \"dtype\": \"category\",\n        \"num_unique_values\": 391,\n        \"samples\": [\n          \"AAVVRFQEAANKQKQ\",\n          \"MLWGYLQYV\",\n          \"GELIGILNAAKVPAD\"\n        ],\n        \"semantic_type\": \"\",\n        \"description\": \"\"\n      }\n    },\n    {\n      \"column\": \"vdjdb.score\",\n      \"properties\": {\n        \"dtype\": \"number\",\n        \"std\": 0,\n        \"min\": 1,\n        \"max\": 3,\n        \"num_unique_values\": 3,\n        \"samples\": [\n          2,\n          1,\n          3\n        ],\n        \"semantic_type\": \"\",\n        \"description\": \"\"\n      }\n    }\n  ]\n}",
              "type": "dataframe",
              "variable_name": "df_paired_not_zero"
            },
            "text/html": [
              "\n",
              "  <div id=\"df-0b5d5fb8-7550-41b2-b21f-05765fdb8cee\" class=\"colab-df-container\">\n",
              "    <div>\n",
              "<style scoped>\n",
              "    .dataframe tbody tr th:only-of-type {\n",
              "        vertical-align: middle;\n",
              "    }\n",
              "\n",
              "    .dataframe tbody tr th {\n",
              "        vertical-align: top;\n",
              "    }\n",
              "\n",
              "    .dataframe thead th {\n",
              "        text-align: right;\n",
              "    }\n",
              "</style>\n",
              "<table border=\"1\" class=\"dataframe\">\n",
              "  <thead>\n",
              "    <tr style=\"text-align: right;\">\n",
              "      <th></th>\n",
              "      <th>complex.id</th>\n",
              "      <th>cdr3_a_aa</th>\n",
              "      <th>cdr3_b_aa</th>\n",
              "      <th>v_b_gene</th>\n",
              "      <th>j_b_gene</th>\n",
              "      <th>v_a_gene</th>\n",
              "      <th>j_a_gene</th>\n",
              "      <th>mhc.a</th>\n",
              "      <th>mhc.b</th>\n",
              "      <th>antigen.species</th>\n",
              "      <th>antigen.epitope</th>\n",
              "      <th>vdjdb.score</th>\n",
              "    </tr>\n",
              "  </thead>\n",
              "  <tbody>\n",
              "    <tr>\n",
              "      <th>0</th>\n",
              "      <td>1</td>\n",
              "      <td>CIVRAPGRADMRF</td>\n",
              "      <td>CASSYLPGQGDHYSNQPQHF</td>\n",
              "      <td>TRBV13*01</td>\n",
              "      <td>TRBJ1-5*01</td>\n",
              "      <td>TRAV26-1*01</td>\n",
              "      <td>TRAJ43*01</td>\n",
              "      <td>HLA-B*08</td>\n",
              "      <td>B2M</td>\n",
              "      <td>HIV-1</td>\n",
              "      <td>FLKEKGGL</td>\n",
              "      <td>2</td>\n",
              "    </tr>\n",
              "    <tr>\n",
              "      <th>1</th>\n",
              "      <td>2</td>\n",
              "      <td>CAVPSGAGSYQLTF</td>\n",
              "      <td>CASSFEPGQGFYSNQPQHF</td>\n",
              "      <td>TRBV13*01</td>\n",
              "      <td>TRBJ1-5*01</td>\n",
              "      <td>TRAV20*01</td>\n",
              "      <td>TRAJ28*01</td>\n",
              "      <td>HLA-B*08</td>\n",
              "      <td>B2M</td>\n",
              "      <td>HIV-1</td>\n",
              "      <td>FLKEKGGL</td>\n",
              "      <td>2</td>\n",
              "    </tr>\n",
              "    <tr>\n",
              "      <th>2</th>\n",
              "      <td>3</td>\n",
              "      <td>CAVKASGSRLT</td>\n",
              "      <td>CASSYEPGQVSHYSNQPQHF</td>\n",
              "      <td>TRBV13*01</td>\n",
              "      <td>TRBJ1-5*01</td>\n",
              "      <td>TRAV2*01</td>\n",
              "      <td>NaN</td>\n",
              "      <td>HLA-B*08</td>\n",
              "      <td>B2M</td>\n",
              "      <td>HIV-1</td>\n",
              "      <td>FLKEKGGL</td>\n",
              "      <td>2</td>\n",
              "    </tr>\n",
              "    <tr>\n",
              "      <th>3</th>\n",
              "      <td>4</td>\n",
              "      <td>CAYRPPGTYKYIF</td>\n",
              "      <td>CASSALASLNEQFF</td>\n",
              "      <td>TRBV14*01</td>\n",
              "      <td>TRBJ2-1*01</td>\n",
              "      <td>TRAV38-2/DV8*01</td>\n",
              "      <td>TRAJ40*01</td>\n",
              "      <td>HLA-B*08</td>\n",
              "      <td>B2M</td>\n",
              "      <td>HIV-1</td>\n",
              "      <td>FLKEKGGL</td>\n",
              "      <td>2</td>\n",
              "    </tr>\n",
              "    <tr>\n",
              "      <th>4</th>\n",
              "      <td>5</td>\n",
              "      <td>CIVRAPGRADMRF</td>\n",
              "      <td>CASSYLPGQGDHYSNQPQHF</td>\n",
              "      <td>TRBV13*01</td>\n",
              "      <td>TRBJ1-5*01</td>\n",
              "      <td>TRAV26-1*01</td>\n",
              "      <td>TRAJ43*01</td>\n",
              "      <td>HLA-B*08</td>\n",
              "      <td>B2M</td>\n",
              "      <td>HIV-1</td>\n",
              "      <td>FLKEQGGL</td>\n",
              "      <td>2</td>\n",
              "    </tr>\n",
              "  </tbody>\n",
              "</table>\n",
              "</div>\n",
              "    <div class=\"colab-df-buttons\">\n",
              "\n",
              "  <div class=\"colab-df-container\">\n",
              "    <button class=\"colab-df-convert\" onclick=\"convertToInteractive('df-0b5d5fb8-7550-41b2-b21f-05765fdb8cee')\"\n",
              "            title=\"Convert this dataframe to an interactive table.\"\n",
              "            style=\"display:none;\">\n",
              "\n",
              "  <svg xmlns=\"http://www.w3.org/2000/svg\" height=\"24px\" viewBox=\"0 -960 960 960\">\n",
              "    <path d=\"M120-120v-720h720v720H120Zm60-500h600v-160H180v160Zm220 220h160v-160H400v160Zm0 220h160v-160H400v160ZM180-400h160v-160H180v160Zm440 0h160v-160H620v160ZM180-180h160v-160H180v160Zm440 0h160v-160H620v160Z\"/>\n",
              "  </svg>\n",
              "    </button>\n",
              "\n",
              "  <style>\n",
              "    .colab-df-container {\n",
              "      display:flex;\n",
              "      gap: 12px;\n",
              "    }\n",
              "\n",
              "    .colab-df-convert {\n",
              "      background-color: #E8F0FE;\n",
              "      border: none;\n",
              "      border-radius: 50%;\n",
              "      cursor: pointer;\n",
              "      display: none;\n",
              "      fill: #1967D2;\n",
              "      height: 32px;\n",
              "      padding: 0 0 0 0;\n",
              "      width: 32px;\n",
              "    }\n",
              "\n",
              "    .colab-df-convert:hover {\n",
              "      background-color: #E2EBFA;\n",
              "      box-shadow: 0px 1px 2px rgba(60, 64, 67, 0.3), 0px 1px 3px 1px rgba(60, 64, 67, 0.15);\n",
              "      fill: #174EA6;\n",
              "    }\n",
              "\n",
              "    .colab-df-buttons div {\n",
              "      margin-bottom: 4px;\n",
              "    }\n",
              "\n",
              "    [theme=dark] .colab-df-convert {\n",
              "      background-color: #3B4455;\n",
              "      fill: #D2E3FC;\n",
              "    }\n",
              "\n",
              "    [theme=dark] .colab-df-convert:hover {\n",
              "      background-color: #434B5C;\n",
              "      box-shadow: 0px 1px 3px 1px rgba(0, 0, 0, 0.15);\n",
              "      filter: drop-shadow(0px 1px 2px rgba(0, 0, 0, 0.3));\n",
              "      fill: #FFFFFF;\n",
              "    }\n",
              "  </style>\n",
              "\n",
              "    <script>\n",
              "      const buttonEl =\n",
              "        document.querySelector('#df-0b5d5fb8-7550-41b2-b21f-05765fdb8cee button.colab-df-convert');\n",
              "      buttonEl.style.display =\n",
              "        google.colab.kernel.accessAllowed ? 'block' : 'none';\n",
              "\n",
              "      async function convertToInteractive(key) {\n",
              "        const element = document.querySelector('#df-0b5d5fb8-7550-41b2-b21f-05765fdb8cee');\n",
              "        const dataTable =\n",
              "          await google.colab.kernel.invokeFunction('convertToInteractive',\n",
              "                                                    [key], {});\n",
              "        if (!dataTable) return;\n",
              "\n",
              "        const docLinkHtml = 'Like what you see? Visit the ' +\n",
              "          '<a target=\"_blank\" href=https://colab.research.google.com/notebooks/data_table.ipynb>data table notebook</a>'\n",
              "          + ' to learn more about interactive tables.';\n",
              "        element.innerHTML = '';\n",
              "        dataTable['output_type'] = 'display_data';\n",
              "        await google.colab.output.renderOutput(dataTable, element);\n",
              "        const docLink = document.createElement('div');\n",
              "        docLink.innerHTML = docLinkHtml;\n",
              "        element.appendChild(docLink);\n",
              "      }\n",
              "    </script>\n",
              "  </div>\n",
              "\n",
              "\n",
              "<div id=\"df-75c62e2c-b358-4623-901b-e8bd7e780ed1\">\n",
              "  <button class=\"colab-df-quickchart\" onclick=\"quickchart('df-75c62e2c-b358-4623-901b-e8bd7e780ed1')\"\n",
              "            title=\"Suggest charts\"\n",
              "            style=\"display:none;\">\n",
              "\n",
              "<svg xmlns=\"http://www.w3.org/2000/svg\" height=\"24px\"viewBox=\"0 0 24 24\"\n",
              "     width=\"24px\">\n",
              "    <g>\n",
              "        <path d=\"M19 3H5c-1.1 0-2 .9-2 2v14c0 1.1.9 2 2 2h14c1.1 0 2-.9 2-2V5c0-1.1-.9-2-2-2zM9 17H7v-7h2v7zm4 0h-2V7h2v10zm4 0h-2v-4h2v4z\"/>\n",
              "    </g>\n",
              "</svg>\n",
              "  </button>\n",
              "\n",
              "<style>\n",
              "  .colab-df-quickchart {\n",
              "      --bg-color: #E8F0FE;\n",
              "      --fill-color: #1967D2;\n",
              "      --hover-bg-color: #E2EBFA;\n",
              "      --hover-fill-color: #174EA6;\n",
              "      --disabled-fill-color: #AAA;\n",
              "      --disabled-bg-color: #DDD;\n",
              "  }\n",
              "\n",
              "  [theme=dark] .colab-df-quickchart {\n",
              "      --bg-color: #3B4455;\n",
              "      --fill-color: #D2E3FC;\n",
              "      --hover-bg-color: #434B5C;\n",
              "      --hover-fill-color: #FFFFFF;\n",
              "      --disabled-bg-color: #3B4455;\n",
              "      --disabled-fill-color: #666;\n",
              "  }\n",
              "\n",
              "  .colab-df-quickchart {\n",
              "    background-color: var(--bg-color);\n",
              "    border: none;\n",
              "    border-radius: 50%;\n",
              "    cursor: pointer;\n",
              "    display: none;\n",
              "    fill: var(--fill-color);\n",
              "    height: 32px;\n",
              "    padding: 0;\n",
              "    width: 32px;\n",
              "  }\n",
              "\n",
              "  .colab-df-quickchart:hover {\n",
              "    background-color: var(--hover-bg-color);\n",
              "    box-shadow: 0 1px 2px rgba(60, 64, 67, 0.3), 0 1px 3px 1px rgba(60, 64, 67, 0.15);\n",
              "    fill: var(--button-hover-fill-color);\n",
              "  }\n",
              "\n",
              "  .colab-df-quickchart-complete:disabled,\n",
              "  .colab-df-quickchart-complete:disabled:hover {\n",
              "    background-color: var(--disabled-bg-color);\n",
              "    fill: var(--disabled-fill-color);\n",
              "    box-shadow: none;\n",
              "  }\n",
              "\n",
              "  .colab-df-spinner {\n",
              "    border: 2px solid var(--fill-color);\n",
              "    border-color: transparent;\n",
              "    border-bottom-color: var(--fill-color);\n",
              "    animation:\n",
              "      spin 1s steps(1) infinite;\n",
              "  }\n",
              "\n",
              "  @keyframes spin {\n",
              "    0% {\n",
              "      border-color: transparent;\n",
              "      border-bottom-color: var(--fill-color);\n",
              "      border-left-color: var(--fill-color);\n",
              "    }\n",
              "    20% {\n",
              "      border-color: transparent;\n",
              "      border-left-color: var(--fill-color);\n",
              "      border-top-color: var(--fill-color);\n",
              "    }\n",
              "    30% {\n",
              "      border-color: transparent;\n",
              "      border-left-color: var(--fill-color);\n",
              "      border-top-color: var(--fill-color);\n",
              "      border-right-color: var(--fill-color);\n",
              "    }\n",
              "    40% {\n",
              "      border-color: transparent;\n",
              "      border-right-color: var(--fill-color);\n",
              "      border-top-color: var(--fill-color);\n",
              "    }\n",
              "    60% {\n",
              "      border-color: transparent;\n",
              "      border-right-color: var(--fill-color);\n",
              "    }\n",
              "    80% {\n",
              "      border-color: transparent;\n",
              "      border-right-color: var(--fill-color);\n",
              "      border-bottom-color: var(--fill-color);\n",
              "    }\n",
              "    90% {\n",
              "      border-color: transparent;\n",
              "      border-bottom-color: var(--fill-color);\n",
              "    }\n",
              "  }\n",
              "</style>\n",
              "\n",
              "  <script>\n",
              "    async function quickchart(key) {\n",
              "      const quickchartButtonEl =\n",
              "        document.querySelector('#' + key + ' button');\n",
              "      quickchartButtonEl.disabled = true;  // To prevent multiple clicks.\n",
              "      quickchartButtonEl.classList.add('colab-df-spinner');\n",
              "      try {\n",
              "        const charts = await google.colab.kernel.invokeFunction(\n",
              "            'suggestCharts', [key], {});\n",
              "      } catch (error) {\n",
              "        console.error('Error during call to suggestCharts:', error);\n",
              "      }\n",
              "      quickchartButtonEl.classList.remove('colab-df-spinner');\n",
              "      quickchartButtonEl.classList.add('colab-df-quickchart-complete');\n",
              "    }\n",
              "    (() => {\n",
              "      let quickchartButtonEl =\n",
              "        document.querySelector('#df-75c62e2c-b358-4623-901b-e8bd7e780ed1 button');\n",
              "      quickchartButtonEl.style.display =\n",
              "        google.colab.kernel.accessAllowed ? 'block' : 'none';\n",
              "    })();\n",
              "  </script>\n",
              "</div>\n",
              "\n",
              "    </div>\n",
              "  </div>\n"
            ],
            "text/plain": [
              "   complex.id       cdr3_a_aa             cdr3_b_aa   v_b_gene    j_b_gene  \\\n",
              "0           1   CIVRAPGRADMRF  CASSYLPGQGDHYSNQPQHF  TRBV13*01  TRBJ1-5*01   \n",
              "1           2  CAVPSGAGSYQLTF   CASSFEPGQGFYSNQPQHF  TRBV13*01  TRBJ1-5*01   \n",
              "2           3     CAVKASGSRLT  CASSYEPGQVSHYSNQPQHF  TRBV13*01  TRBJ1-5*01   \n",
              "3           4   CAYRPPGTYKYIF        CASSALASLNEQFF  TRBV14*01  TRBJ2-1*01   \n",
              "4           5   CIVRAPGRADMRF  CASSYLPGQGDHYSNQPQHF  TRBV13*01  TRBJ1-5*01   \n",
              "\n",
              "          v_a_gene   j_a_gene     mhc.a mhc.b antigen.species antigen.epitope  \\\n",
              "0      TRAV26-1*01  TRAJ43*01  HLA-B*08   B2M           HIV-1        FLKEKGGL   \n",
              "1        TRAV20*01  TRAJ28*01  HLA-B*08   B2M           HIV-1        FLKEKGGL   \n",
              "2         TRAV2*01        NaN  HLA-B*08   B2M           HIV-1        FLKEKGGL   \n",
              "3  TRAV38-2/DV8*01  TRAJ40*01  HLA-B*08   B2M           HIV-1        FLKEKGGL   \n",
              "4      TRAV26-1*01  TRAJ43*01  HLA-B*08   B2M           HIV-1        FLKEQGGL   \n",
              "\n",
              "   vdjdb.score  \n",
              "0            2  \n",
              "1            2  \n",
              "2            2  \n",
              "3            2  \n",
              "4            2  "
            ]
          },
          "execution_count": 11,
          "metadata": {},
          "output_type": "execute_result"
        }
      ],
      "source": [
        "## Pairing alpha beta chains (including only non zero vdjdb score rows)\n",
        "\n",
        "list_to_combine = []\n",
        "checked_ids = []\n",
        "def process_row(row, df = df):\n",
        "    # check the complex id not already checked\n",
        "    if row['complex.id'] not in checked_ids:\n",
        "        # find matching rows\n",
        "        matched_rows = df[df['complex.id'] == row['complex.id']]\n",
        "        # should be two (some rows have only 1 match)\n",
        "        if len(matched_rows) == 2:\n",
        "            # get the tcra row\n",
        "            tra_row = matched_rows.iloc[0]\n",
        "            # get the tcrb row\n",
        "            trb_row = matched_rows.iloc[1]\n",
        "            if tra_row[\"vdjdb.score\"] + trb_row[\"vdjdb.score\"] >= 1: ## if sum of vdjdb score of tra and trb row is more than 0, then these are joined together\n",
        "\n",
        "                # add to list as a combined row\n",
        "                list_to_combine.append({\n",
        "                                        'complex.id':tra_row['complex.id'],\n",
        "                                        'cdr3_a_aa': tra_row['cdr3'], 'cdr3_b_aa': trb_row['cdr3'],\n",
        "                                        'v_b_gene' :trb_row['v.segm'],\n",
        "                                        'j_b_gene':trb_row['j.segm'],\n",
        "                                        'v_a_gene':tra_row['v.segm'],\n",
        "                                        'j_a_gene':tra_row['j.segm'],\n",
        "                                        \"mhc.a\" : tra_row[\"mhc.a\"],\n",
        "                                        \"mhc.b\" : tra_row[\"mhc.b\"],\n",
        "                                        \"antigen.species\" : tra_row[\"antigen.species\"],\n",
        "                                        'antigen.epitope': tra_row['antigen.epitope'],\n",
        "                                        'vdjdb.score': max(tra_row[\"vdjdb.score\"] , trb_row[\"vdjdb.score\"])\n",
        "                                      })\n",
        "                # we've checked this id now, so we need to make sure we don't have to check it again.\n",
        "                checked_ids.append(row['complex.id'])\n",
        "df.apply(process_row, axis=1)\n",
        "df_paired_not_zero = pd.DataFrame(list_to_combine)\n",
        "df_paired_not_zero.head()"
      ]
    },
    {
      "cell_type": "code",
      "source": [
        "## Pairing alpha beta chains (including only zero vdjdb score rows)\n",
        "\n",
        "list_to_combine = []\n",
        "checked_ids = []\n",
        "def process_row(row, df = df):\n",
        "    # check the complex id not already checked\n",
        "    if row['complex.id'] not in checked_ids:\n",
        "        # find matching rows\n",
        "        matched_rows = df[df['complex.id'] == row['complex.id']]\n",
        "        # should be two (some rows have only 1 match)\n",
        "        if len(matched_rows) == 2:\n",
        "            # get the tcra row\n",
        "            tra_row = matched_rows.iloc[0]\n",
        "            # get the tcrb row\n",
        "            trb_row = matched_rows.iloc[1]\n",
        "            if tra_row[\"vdjdb.score\"] + trb_row[\"vdjdb.score\"] == 0:\n",
        "\n",
        "                # add to list as a combined row\n",
        "                list_to_combine.append({\n",
        "                                        'complex.id':tra_row['complex.id'],\n",
        "                                        'cdr3_a_aa': tra_row['cdr3'], 'cdr3_b_aa': trb_row['cdr3'],\n",
        "                                        'v_b_gene' :trb_row['v.segm'],\n",
        "                                        'j_b_gene':trb_row['j.segm'],\n",
        "                                        'v_a_gene':tra_row['v.segm'],\n",
        "                                        'j_a_gene':tra_row['j.segm'],\n",
        "                                        \"mhc.a\" : tra_row[\"mhc.a\"],\n",
        "                                        \"mhc.b\" : tra_row[\"mhc.b\"],\n",
        "                                        \"antigen.species\" : tra_row[\"antigen.species\"],\n",
        "                                        'antigen.epitope': tra_row['antigen.epitope'],\n",
        "                                        'vdjdb.score': max(tra_row[\"vdjdb.score\"] , trb_row[\"vdjdb.score\"])\n",
        "                                      })\n",
        "                # we've checked this id now, so we need to make sure we don't have to check it again.\n",
        "                checked_ids.append(row['complex.id'])\n",
        "df.apply(process_row, axis=1)\n",
        "df_paired_zero = pd.DataFrame(list_to_combine)\n",
        "df_paired_zero.head()"
      ],
      "metadata": {
        "id": "XsLplkP8SlzC"
      },
      "execution_count": null,
      "outputs": []
    },
    {
      "cell_type": "code",
      "execution_count": null,
      "metadata": {
        "id": "HNBzAmjXp5Oh"
      },
      "outputs": [],
      "source": [
        "# Write df_paired_not_zero to CSV\n",
        "df_paired_not_zero.to_csv(\"df_paired_not_zero.csv\", index=False)\n",
        "\n",
        "# Write df_paired_zero to CSV\n",
        "df_paired_zero.to_csv(\"df_paired_zero.csv\", index=False)"
      ]
    },
    {
      "cell_type": "code",
      "execution_count": null,
      "metadata": {
        "id": "gjc3nv_Kbg4U"
      },
      "outputs": [],
      "source": [
        "# # get col names to consider for dropping duplicate TCRs\n",
        "# drop_dup_cols = ['antigen.epitope']\n",
        "\n",
        "# # add alpha chain col names\n",
        "# if 'alpha' in chains and cdrs=='cdr3':\n",
        "#     drop_dup_cols += ['cdr3_a_aa']\n",
        "# elif 'alpha' in chains and cdrs=='all':\n",
        "#     drop_dup_cols += ['cdr3_a_aa', 'v_a_gene', 'j_a_gene']\n",
        "\n",
        "# # add beta chain col names\n",
        "# if 'beta' in chains and cdrs=='cdr3':\n",
        "#     drop_dup_cols += ['cdr3_b_aa']\n",
        "# elif 'beta' in chains and cdrs=='all':\n",
        "#     drop_dup_cols += ['cdr3_b_aa', 'v_b_gene', 'j_b_gene']"
      ]
    },
    {
      "cell_type": "code",
      "execution_count": null,
      "metadata": {
        "id": "qIcI8C8EmjlC"
      },
      "outputs": [],
      "source": [
        "# drop_dup_cols = ['cdr3_a_aa', 'v_a_gene', 'j_a_gene', 'cdr3_b_aa', 'v_b_gene', 'j_b_gene']\n",
        "# df_after_drop_dup = df.drop_duplicates(subset=drop_dup_cols, keep='first').copy()\n",
        "# df_after_drop_dup.reset_index(drop=True, inplace=True)\n",
        "\n",
        "# # print(f'Dropped {n_orig - df_train.shape[0]} duplicate TCRs by columns {drop_dup_cols}.')\n",
        "# print(f'The new amount of TCRs per epitope:\\n')\n",
        "# df_after_drop_dup['antigen.epitope'].value_counts()"
      ]
    },
    {
      "cell_type": "code",
      "execution_count": null,
      "metadata": {
        "id": "lqYE8oBdr_It"
      },
      "outputs": [],
      "source": [
        "# df_after_drop_dup.shape"
      ]
    },
    {
      "cell_type": "code",
      "source": [
        "import pandas as pd\n",
        "\n",
        "# Reading the CSV files\n",
        "df_paired_not_zero = pd.read_csv(\"df_paired_not_zero.csv\")\n",
        "df_paired_zero = pd.read_csv(\"df_paired_zero.csv\")\n",
        "\n",
        "# Printing the shapes of both DataFrames\n",
        "print(\"Shape of df_paired_not_zero:\", df_paired_not_zero.shape)\n",
        "print(\"Shape of df_paired_zero:\", df_paired_zero.shape)\n"
      ],
      "metadata": {
        "colab": {
          "base_uri": "https://localhost:8080/"
        },
        "id": "tx_4bxpd6Ma_",
        "outputId": "21458f99-d921-45cb-a34f-acc2bf056bbf"
      },
      "execution_count": null,
      "outputs": [
        {
          "output_type": "stream",
          "name": "stdout",
          "text": [
            "Shape of df_paired_not_zero: (2965, 12)\n",
            "Shape of df_paired_zero: (27629, 12)\n"
          ]
        }
      ]
    },
    {
      "cell_type": "code",
      "source": [
        "# Finding the frequency of epitiopes with vdjdb score more than 0\n",
        "\n",
        "df_paired_not_zero['antigen.epitope'].value_counts()[:10]"
      ],
      "metadata": {
        "colab": {
          "base_uri": "https://localhost:8080/"
        },
        "id": "YkuFEGgESQkN",
        "outputId": "ae8f1eac-d77a-4ae4-a706-551606fcf48e"
      },
      "execution_count": null,
      "outputs": [
        {
          "output_type": "execute_result",
          "data": {
            "text/plain": [
              "antigen.epitope\n",
              "NLVPMVATV         461\n",
              "SSYRRPVGI         261\n",
              "GILGFVFTL         250\n",
              "ASNENMETM         136\n",
              "SSLENFRAYV        130\n",
              "SSPPMFRV          106\n",
              "HGIRNASFI         102\n",
              "TFEYVSQPFLMDLE     87\n",
              "GLCTLVAML          72\n",
              "RPRGEVRFL          68\n",
              "Name: count, dtype: int64"
            ]
          },
          "metadata": {},
          "execution_count": 146
        }
      ]
    },
    {
      "cell_type": "code",
      "source": [],
      "metadata": {
        "id": "jdUmTeBNbXnU"
      },
      "execution_count": null,
      "outputs": []
    },
    {
      "cell_type": "markdown",
      "source": [
        "- An attempt was made to train the model using the above frequency, vdjdb score > 0.\n",
        "- However the TCRdist library would consistently remove duplicates/frequently occurring epitopes which reduced the dataset size."
      ],
      "metadata": {
        "id": "o0rEuGEfdy42"
      }
    },
    {
      "cell_type": "code",
      "source": [
        "\n",
        "epitopes = df_paired_not_zero['antigen.epitope'].value_counts()[:10].index.to_list()\n",
        "## Creating new dataset with only top 10 epitopes\n",
        "df_paired_zero_filtered = df_paired_zero[df_paired_zero[\"antigen.epitope\"].isin(epitopes)] # Including only top 10 epitopes illustrated above\n",
        "df_paired_not_zero_filtered = df_paired_not_zero[df_paired_not_zero[\"antigen.epitope\"].isin(epitopes)] # # Including only top 10 epitopes illustrated above\n",
        "\n",
        "print(\"Shape of df_paired_zero_filtered:\")\n",
        "print(df_paired_zero_filtered.shape)\n",
        "\n",
        "print(\"Shape of df_paired_not_zero_filtered:\")\n",
        "print(df_paired_not_zero_filtered.shape)\n"
      ],
      "metadata": {
        "colab": {
          "base_uri": "https://localhost:8080/"
        },
        "id": "BYRYC7SO9Rq0",
        "outputId": "2023ce98-1f93-4cc5-95e5-542e83cadb14"
      },
      "execution_count": null,
      "outputs": [
        {
          "output_type": "stream",
          "name": "stdout",
          "text": [
            "Shape of df_paired_zero_filtered:\n",
            "(3863, 12)\n",
            "Shape of df_paired_not_zero_filtered:\n",
            "(1673, 12)\n"
          ]
        }
      ]
    },
    {
      "cell_type": "code",
      "source": [
        "df_top10 = pd.concat([df_paired_zero_filtered, df_paired_not_zero_filtered])\n",
        "df_top10.shape"
      ],
      "metadata": {
        "colab": {
          "base_uri": "https://localhost:8080/"
        },
        "id": "s9BMlXWS8jOU",
        "outputId": "528aa13f-231e-4a5b-93c5-5b8076107f6a"
      },
      "execution_count": null,
      "outputs": [
        {
          "output_type": "execute_result",
          "data": {
            "text/plain": [
              "(5536, 12)"
            ]
          },
          "metadata": {},
          "execution_count": 148
        }
      ]
    },
    {
      "cell_type": "code",
      "source": [
        "#after joining\n",
        "df_top10[\"antigen.epitope\"].value_counts()"
      ],
      "metadata": {
        "colab": {
          "base_uri": "https://localhost:8080/"
        },
        "id": "1nlNzcvSfhsF",
        "outputId": "11ad8a05-1201-4b15-ebab-615b18bd563e"
      },
      "execution_count": null,
      "outputs": [
        {
          "output_type": "execute_result",
          "data": {
            "text/plain": [
              "antigen.epitope\n",
              "GILGFVFTL         2194\n",
              "SSYRRPVGI          661\n",
              "NLVPMVATV          588\n",
              "SSLENFRAYV         437\n",
              "TFEYVSQPFLMDLE     411\n",
              "GLCTLVAML          394\n",
              "ASNENMETM          325\n",
              "HGIRNASFI          288\n",
              "SSPPMFRV           163\n",
              "RPRGEVRFL           75\n",
              "Name: count, dtype: int64"
            ]
          },
          "metadata": {},
          "execution_count": 149
        }
      ]
    },
    {
      "cell_type": "code",
      "source": [
        "# Before Joining\n",
        "df_paired_not_zero['antigen.epitope'].value_counts()[:10]"
      ],
      "metadata": {
        "colab": {
          "base_uri": "https://localhost:8080/"
        },
        "id": "OHy_D6xNfrN8",
        "outputId": "925fcd98-26c7-404f-82ba-f6978a8922be"
      },
      "execution_count": null,
      "outputs": [
        {
          "output_type": "execute_result",
          "data": {
            "text/plain": [
              "antigen.epitope\n",
              "NLVPMVATV         461\n",
              "SSYRRPVGI         261\n",
              "GILGFVFTL         250\n",
              "ASNENMETM         136\n",
              "SSLENFRAYV        130\n",
              "SSPPMFRV          106\n",
              "HGIRNASFI         102\n",
              "TFEYVSQPFLMDLE     87\n",
              "GLCTLVAML          72\n",
              "RPRGEVRFL          68\n",
              "Name: count, dtype: int64"
            ]
          },
          "metadata": {},
          "execution_count": 150
        }
      ]
    },
    {
      "cell_type": "code",
      "source": [
        "df_top10.fillna(\"missing\", inplace = True)"
      ],
      "metadata": {
        "id": "wAetQEflHgAe"
      },
      "execution_count": null,
      "outputs": []
    },
    {
      "cell_type": "code",
      "source": [
        "df_top10.isnull().sum()"
      ],
      "metadata": {
        "colab": {
          "base_uri": "https://localhost:8080/"
        },
        "id": "q8y-3KXIGnxM",
        "outputId": "be681550-3ebf-465d-8a41-9776a5f6800f"
      },
      "execution_count": null,
      "outputs": [
        {
          "output_type": "execute_result",
          "data": {
            "text/plain": [
              "complex.id         0\n",
              "cdr3_a_aa          0\n",
              "cdr3_b_aa          0\n",
              "v_b_gene           0\n",
              "j_b_gene           0\n",
              "v_a_gene           0\n",
              "j_a_gene           0\n",
              "mhc.a              0\n",
              "mhc.b              0\n",
              "antigen.species    0\n",
              "antigen.epitope    0\n",
              "vdjdb.score        0\n",
              "dtype: int64"
            ]
          },
          "metadata": {},
          "execution_count": 152
        }
      ]
    },
    {
      "cell_type": "code",
      "execution_count": null,
      "metadata": {
        "id": "Wkem_fB3mvJ6"
      },
      "outputs": [],
      "source": [
        "# def print_num_epitopes(df , threshold):\n",
        "\n",
        "#     freq_count = df[\"antigen.epitope\"].value_counts()\n",
        "\n",
        "#     print(f\"\"\"Epitopes having less than {threshold} datapoints:  {freq_count[freq_count<threshold].shape[0]}\"\"\")\n",
        "\n",
        "#     print(f\"\"\"Epitopes having more than {threshold} datapoints:  {df[\"antigen.epitope\"].nunique() - freq_count[freq_count<threshold].shape[0]}\"\"\")\n",
        "# pd.concat()\n",
        "# print_num_epitopes(df, 60)"
      ]
    },
    {
      "cell_type": "code",
      "execution_count": null,
      "metadata": {
        "id": "KpRDwQR7VqtU"
      },
      "outputs": [],
      "source": [
        "\n",
        "\n",
        "# def filter_data(N, df):\n",
        "\n",
        "#     freq_count = df[\"antigen.epitope\"].value_counts()\n",
        "#     antigen_epitopes = []\n",
        "#     for antigen_epitope in freq_count[freq_count>N].index:\n",
        "#       antigen_epitope_df = df[df[\"antigen.epitope\"] == antigen_epitope][:N]\n",
        "\n",
        "#       antigen_epitopes.append(antigen_epitope_df)\n",
        "\n",
        "#     df = pd.concat(antigen_epitopes)\n",
        "#     return df\n",
        "\n",
        "\n",
        "# df = filter_data(350, df)\n",
        "# df[\"antigen.epitope\"].value_counts()"
      ]
    },
    {
      "cell_type": "code",
      "execution_count": null,
      "metadata": {
        "id": "MY_RmuZJsRGs"
      },
      "outputs": [],
      "source": [
        "# epitope_top10 = list(df_after_drop_dup[\"antigen.epitope\"].value_counts()[:10].index)\n",
        "# df_top10 = df_after_drop_dup[df_after_drop_dup[\"antigen.epitope\"].isin(epitope_top10)].reset_index(drop = True)\n",
        "# df_top10.head()"
      ]
    },
    {
      "cell_type": "code",
      "execution_count": null,
      "metadata": {
        "id": "Tr0FbzAlhf7A"
      },
      "outputs": [],
      "source": [
        "# df_train_list, df_test_list = [], []\n",
        "# N = 350\n",
        "# n_train, n_test = int(N*0.80),  int(N*0.20)\n",
        "# # n_train, n_test = 3640, 910\n",
        "\n",
        "# for antigen_epitope in df[\"antigen.epitope\"].unique():\n",
        "#     train = df[df[\"antigen.epitope\"] == antigen_epitope][:n_train]\n",
        "#     test = df[df[\"antigen.epitope\"] == antigen_epitope][n_train:]\n",
        "\n",
        "#     df_train_list.append(train)\n",
        "#     df_test_list.append(test)\n",
        "\n",
        "# df_train = pd.concat(df_train_list)\n",
        "# df_test = pd.concat(df_test_list)\n",
        "# print(\"df_train.shape: \",df_train.shape[0])\n",
        "# print(\"df_test.shape: \",df_test.shape[0])\n",
        "# df_top10.columns"
      ]
    },
    {
      "cell_type": "code",
      "execution_count": null,
      "metadata": {
        "id": "XGnBja6mQVV-"
      },
      "outputs": [],
      "source": [
        "import pandas as pd\n",
        "from sklearn.model_selection import train_test_split\n",
        "\n",
        "df_top10 = df_top10[['cdr3_a_aa', 'cdr3_b_aa', 'v_b_gene', 'j_b_gene', 'v_a_gene', 'j_a_gene', 'antigen.epitope']]\n",
        "\n",
        "# Assuming 'target_column' is the name of your target column\n",
        "X = df_top10.drop(columns=['antigen.epitope'])  # Features\n",
        "y = df_top10['antigen.epitope']  # Target variable\n",
        "\n",
        "# Splitting the data into train and test sets\n",
        "X_train, X_test, y_train, y_test = train_test_split(X, y, test_size=0.33, random_state=42)\n",
        "\n",
        "\n"
      ]
    },
    {
      "cell_type": "code",
      "source": [
        "# from sklearn.preprocessing import OneHotEncoder\n",
        "# from imblearn.over_sampling import SMOTE\n",
        "\n",
        "# # Apply one-hot encoding to categorical columns\n",
        "# encoder = OneHotEncoder(sparse=False, handle_unknown='ignore')\n",
        "# X_train_encoded = encoder.fit_transform(X_train.values)  # Assuming last 3 columns are categorical\n",
        "\n",
        "# # Apply SMOTE to balance the data\n",
        "# smote = SMOTE(random_state=42)\n",
        "# X_resampled, y_resampled = smote.fit_resample(X_train_encoded, y_train)\n",
        "\n",
        "# # Inverse transform the one-hot encoded data to get the original data back\n",
        "# X_resampled_original = pd.DataFrame(encoder.inverse_transform(X_resampled), columns = ['cdr3_a_aa', 'cdr3_b_aa', 'v_b_gene', 'j_b_gene', 'v_a_gene', 'j_a_gene'] )\n",
        "# X_resampled_original = encoder.inverse_transform(X_resampled)"
      ],
      "metadata": {
        "id": "HcORo0ECJ1iu"
      },
      "execution_count": null,
      "outputs": []
    },
    {
      "cell_type": "code",
      "source": [
        "# Merging X_train and y_train\n",
        "df_train = pd.concat([X_train, y_train], axis=1)\n",
        "\n",
        "# Merging X_test and y_test\n",
        "df_test = pd.concat([X_test, y_test], axis=1)\n",
        "\n",
        "\n",
        "print(\"df_train.shape:\", df_train.shape)\n",
        "print(\"df_test.shape:\", df_test.shape)"
      ],
      "metadata": {
        "colab": {
          "base_uri": "https://localhost:8080/"
        },
        "id": "gqVX5_n1NZhf",
        "outputId": "5577571d-7d08-4a9f-92da-bcf7c7ec0f95"
      },
      "execution_count": null,
      "outputs": [
        {
          "output_type": "stream",
          "name": "stdout",
          "text": [
            "df_train.shape: (3709, 7)\n",
            "df_test.shape: (1827, 7)\n"
          ]
        }
      ]
    },
    {
      "cell_type": "markdown",
      "metadata": {
        "id": "DHS7_EF7dpL-"
      },
      "source": [
        "Drop duplicate TCRs for each epitope *separately*"
      ]
    },
    {
      "cell_type": "code",
      "execution_count": null,
      "metadata": {
        "colab": {
          "base_uri": "https://localhost:8080/"
        },
        "id": "37DxqqYrcolF",
        "outputId": "a46f045a-1bc2-42a7-c9fc-17cc8e350d56"
      },
      "outputs": [
        {
          "output_type": "stream",
          "name": "stdout",
          "text": [
            "The dataset contains 3709 TCRs for 10 different epitopes\n",
            "\n"
          ]
        }
      ],
      "source": [
        "n_orig = df_train.shape[0]\n",
        "print(f'The dataset contains {df_train.shape[0]} TCRs for {len(df_train[\"antigen.epitope\"].unique())} different epitopes\\n')"
      ]
    },
    {
      "cell_type": "code",
      "execution_count": null,
      "metadata": {
        "colab": {
          "base_uri": "https://localhost:8080/"
        },
        "id": "Gntf54pQYeSY",
        "outputId": "968af60f-d68b-4c27-cf69-a499bdf631a1"
      },
      "outputs": [
        {
          "output_type": "execute_result",
          "data": {
            "text/plain": [
              "10"
            ]
          },
          "metadata": {},
          "execution_count": 53
        }
      ],
      "source": [
        "# df_test[\"antigen.epitope\"].nunique()\n",
        "df_train[\"antigen.epitope\"].nunique()"
      ]
    },
    {
      "cell_type": "markdown",
      "metadata": {
        "id": "5lvsRnqRfbOW"
      },
      "source": [
        "### Get tcrdist distances for training data"
      ]
    },
    {
      "cell_type": "markdown",
      "metadata": {
        "id": "ecwa3WEdeQ3q"
      },
      "source": [
        "*If asked to use all cdrs to compute tcrdist distances, can compute it when TCRrep object is initialized. If asked to use only CDR3, the TCRrep object metric parameters need to be altered before computing the distances."
      ]
    },
    {
      "cell_type": "code",
      "execution_count": null,
      "metadata": {
        "id": "lHIfF_Zpld9b"
      },
      "outputs": [],
      "source": [
        "# set params\n",
        "k_neighbours = 5\n",
        "organism = 'human' # 'mouse' or 'human'\n",
        "chains = ['alpha', 'beta'] # ['alpha', 'beta'] or ['alpha'] or ['beta']\n",
        "cdrs = 'all' # 'cdr3' or 'all'"
      ]
    },
    {
      "cell_type": "code",
      "execution_count": null,
      "metadata": {
        "id": "ye9x6cWmocE-"
      },
      "outputs": [],
      "source": [
        "# df_train"
      ]
    },
    {
      "cell_type": "code",
      "execution_count": null,
      "metadata": {
        "id": "eqFXM30jOe_7"
      },
      "outputs": [],
      "source": [
        "from tcrdist.repertoire import TCRrep\n",
        "# df_train = df_train.sample(frac = 1) # shuffle\n",
        "\n",
        "\n",
        "tr = TCRrep(cell_df=df_train,\n",
        "            chains = chains,\n",
        "            organism=organism,\n",
        "            deduplicate=True\n",
        "            ) # This step will remove any TCRs where we could not infer genes\n",
        "\n",
        "# <X> will be our matrix of distances, which will depend on <chains> and <cdrs>\n",
        "X = None\n",
        "if cdrs=='all':\n",
        "    if chains==['alpha', 'beta'] or chains==['beta', 'alpha']:\n",
        "        X = pd.DataFrame(tr.pw_alpha + tr.pw_beta)\n",
        "    elif chains==['alpha']:\n",
        "        X = pd.DataFrame(tr.pw_alpha)\n",
        "    elif chains==['beta']:\n",
        "        X = pd.DataFrame(tr.pw_beta)\n",
        "if cdrs=='cdr3':\n",
        "    if chains==['alpha', 'beta'] or chains==['beta', 'alpha']:\n",
        "        X = pd.DataFrame(tr.pw_cdr3_a_aa + tr.pw_cdr3_b_aa)\n",
        "    elif chains==['alpha']:\n",
        "        X = pd.DataFrame(tr.pw_cdr3_a_aa)\n",
        "    elif chains==['beta']:\n",
        "        X = pd.DataFrame(tr.pw_cdr3_b_aa)\n",
        "\n",
        "assert X is not None"
      ]
    },
    {
      "cell_type": "code",
      "execution_count": null,
      "metadata": {
        "id": "cVHRS-mKlh28"
      },
      "outputs": [],
      "source": [
        "# pd.DataFrame(tr.pw_alpha + tr.pw_beta)\n",
        "# (tr.pw_alpha + tr.pw_beta)\n",
        "\n",
        "# tr.pw_beta.shape"
      ]
    },
    {
      "cell_type": "code",
      "execution_count": null,
      "metadata": {
        "id": "L3kBdB4SoIBu"
      },
      "outputs": [],
      "source": []
    },
    {
      "cell_type": "code",
      "execution_count": null,
      "metadata": {
        "colab": {
          "base_uri": "https://localhost:8080/"
        },
        "id": "sq86JEw0eWmv",
        "outputId": "c26e9651-acdc-4bae-b7ff-88d7c0b84b52"
      },
      "outputs": [
        {
          "output_type": "execute_result",
          "data": {
            "text/plain": [
              "(2210, 2210)"
            ]
          },
          "metadata": {},
          "execution_count": 164
        }
      ],
      "source": [
        "X.shape"
      ]
    },
    {
      "cell_type": "code",
      "execution_count": null,
      "metadata": {
        "colab": {
          "base_uri": "https://localhost:8080/"
        },
        "id": "bGDPEJo4eHDh",
        "outputId": "25965330-473c-43cd-8ccf-ffda8940c076"
      },
      "outputs": [
        {
          "output_type": "execute_result",
          "data": {
            "text/plain": [
              "antigen.epitope\n",
              "GILGFVFTL         1444\n",
              "SSYRRPVGI          465\n",
              "NLVPMVATV          386\n",
              "SSLENFRAYV         299\n",
              "GLCTLVAML          269\n",
              "TFEYVSQPFLMDLE     263\n",
              "ASNENMETM          218\n",
              "HGIRNASFI          193\n",
              "SSPPMFRV           118\n",
              "RPRGEVRFL           54\n",
              "Name: count, dtype: int64"
            ]
          },
          "metadata": {},
          "execution_count": 165
        }
      ],
      "source": [
        "## Before creating tcrdist matrix\n",
        "df_train[\"antigen.epitope\"].value_counts()"
      ]
    },
    {
      "cell_type": "code",
      "execution_count": null,
      "metadata": {
        "colab": {
          "base_uri": "https://localhost:8080/"
        },
        "id": "Fjn3sVPqd016",
        "outputId": "7c5a9a63-be5d-4e69-a4dc-f080dcf01652"
      },
      "outputs": [
        {
          "output_type": "execute_result",
          "data": {
            "text/plain": [
              "antigen.epitope\n",
              "GILGFVFTL          1310\n",
              "NLVPMVATV           315\n",
              "TFEYVSQPFLMDLE      260\n",
              "GLCTLVAML           246\n",
              "RPRGEVRFL            39\n",
              "SSPPMFRV             14\n",
              "SSLENFRAYV            9\n",
              "SSYRRPVGI             8\n",
              "HGIRNASFI             7\n",
              "ASNENMETM             2\n",
              "Name: count, dtype: int64"
            ]
          },
          "metadata": {},
          "execution_count": 100
        }
      ],
      "source": [
        "# after Creating tcrdist matrix (Number of rows has decreased)\n",
        "Y = pd.DataFrame(tr.clone_df['antigen.epitope']) # training data labels\n",
        "Y.value_counts()"
      ]
    },
    {
      "cell_type": "code",
      "execution_count": null,
      "metadata": {
        "id": "RttRtQE6fz0I"
      },
      "outputs": [],
      "source": [
        "# Make sure X and Y are valid\n",
        "assert X.shape[0] == X.shape[1], f'assert X shape is nXn: {X.shape[0]} == {X.shape[1]} ?'\n",
        "#assert X.shape[0] == df_train.shape[0], f'assert X dimension equals df_train dimension: {X.shape[0]} == {df_train.shape[0]} ?'\n",
        "assert X.shape[0] == Y.shape[0],  f'assert Y length = n: {X.shape[0]} == {Y.shape[0]} ?'\n",
        "\n",
        "X.index = list(X.index) # change from range to int\n",
        "Y.index = list(Y.index) # change from range to int\n",
        "assert (X.index.equals(Y.index)), f'assert X and Y indices are equal'"
      ]
    },
    {
      "cell_type": "markdown",
      "metadata": {
        "id": "ozEOAAridNYy"
      },
      "source": [
        "### Train KNN model"
      ]
    },
    {
      "cell_type": "code",
      "execution_count": null,
      "metadata": {
        "id": "N964qRWLBhfU"
      },
      "outputs": [],
      "source": [
        "from sklearn.model_selection import StratifiedKFold\n",
        "from sklearn.neighbors import KNeighborsClassifier\n",
        "from sklearn.preprocessing import OneHotEncoder\n",
        "from sklearn.metrics import roc_curve, auc, roc_auc_score, confusion_matrix, precision_score, recall_score, f1_score, accuracy_score\n",
        "import seaborn as sns\n",
        "from matplotlib.patches import Rectangle\n",
        "\n"
      ]
    },
    {
      "cell_type": "code",
      "execution_count": null,
      "metadata": {
        "id": "nEewCsY_CrPC"
      },
      "outputs": [],
      "source": []
    },
    {
      "cell_type": "code",
      "execution_count": null,
      "metadata": {
        "colab": {
          "base_uri": "https://localhost:8080/",
          "height": 75
        },
        "id": "J7uWmOa_BhpT",
        "outputId": "9ad9ffd6-14f6-4a98-d4b4-af0fc5b3a6e4"
      },
      "outputs": [
        {
          "output_type": "execute_result",
          "data": {
            "text/plain": [
              "KNeighborsClassifier(metric='precomputed', weights='distance')"
            ],
            "text/html": [
              "<style>#sk-container-id-2 {color: black;background-color: white;}#sk-container-id-2 pre{padding: 0;}#sk-container-id-2 div.sk-toggleable {background-color: white;}#sk-container-id-2 label.sk-toggleable__label {cursor: pointer;display: block;width: 100%;margin-bottom: 0;padding: 0.3em;box-sizing: border-box;text-align: center;}#sk-container-id-2 label.sk-toggleable__label-arrow:before {content: \"▸\";float: left;margin-right: 0.25em;color: #696969;}#sk-container-id-2 label.sk-toggleable__label-arrow:hover:before {color: black;}#sk-container-id-2 div.sk-estimator:hover label.sk-toggleable__label-arrow:before {color: black;}#sk-container-id-2 div.sk-toggleable__content {max-height: 0;max-width: 0;overflow: hidden;text-align: left;background-color: #f0f8ff;}#sk-container-id-2 div.sk-toggleable__content pre {margin: 0.2em;color: black;border-radius: 0.25em;background-color: #f0f8ff;}#sk-container-id-2 input.sk-toggleable__control:checked~div.sk-toggleable__content {max-height: 200px;max-width: 100%;overflow: auto;}#sk-container-id-2 input.sk-toggleable__control:checked~label.sk-toggleable__label-arrow:before {content: \"▾\";}#sk-container-id-2 div.sk-estimator input.sk-toggleable__control:checked~label.sk-toggleable__label {background-color: #d4ebff;}#sk-container-id-2 div.sk-label input.sk-toggleable__control:checked~label.sk-toggleable__label {background-color: #d4ebff;}#sk-container-id-2 input.sk-hidden--visually {border: 0;clip: rect(1px 1px 1px 1px);clip: rect(1px, 1px, 1px, 1px);height: 1px;margin: -1px;overflow: hidden;padding: 0;position: absolute;width: 1px;}#sk-container-id-2 div.sk-estimator {font-family: monospace;background-color: #f0f8ff;border: 1px dotted black;border-radius: 0.25em;box-sizing: border-box;margin-bottom: 0.5em;}#sk-container-id-2 div.sk-estimator:hover {background-color: #d4ebff;}#sk-container-id-2 div.sk-parallel-item::after {content: \"\";width: 100%;border-bottom: 1px solid gray;flex-grow: 1;}#sk-container-id-2 div.sk-label:hover label.sk-toggleable__label {background-color: #d4ebff;}#sk-container-id-2 div.sk-serial::before {content: \"\";position: absolute;border-left: 1px solid gray;box-sizing: border-box;top: 0;bottom: 0;left: 50%;z-index: 0;}#sk-container-id-2 div.sk-serial {display: flex;flex-direction: column;align-items: center;background-color: white;padding-right: 0.2em;padding-left: 0.2em;position: relative;}#sk-container-id-2 div.sk-item {position: relative;z-index: 1;}#sk-container-id-2 div.sk-parallel {display: flex;align-items: stretch;justify-content: center;background-color: white;position: relative;}#sk-container-id-2 div.sk-item::before, #sk-container-id-2 div.sk-parallel-item::before {content: \"\";position: absolute;border-left: 1px solid gray;box-sizing: border-box;top: 0;bottom: 0;left: 50%;z-index: -1;}#sk-container-id-2 div.sk-parallel-item {display: flex;flex-direction: column;z-index: 1;position: relative;background-color: white;}#sk-container-id-2 div.sk-parallel-item:first-child::after {align-self: flex-end;width: 50%;}#sk-container-id-2 div.sk-parallel-item:last-child::after {align-self: flex-start;width: 50%;}#sk-container-id-2 div.sk-parallel-item:only-child::after {width: 0;}#sk-container-id-2 div.sk-dashed-wrapped {border: 1px dashed gray;margin: 0 0.4em 0.5em 0.4em;box-sizing: border-box;padding-bottom: 0.4em;background-color: white;}#sk-container-id-2 div.sk-label label {font-family: monospace;font-weight: bold;display: inline-block;line-height: 1.2em;}#sk-container-id-2 div.sk-label-container {text-align: center;}#sk-container-id-2 div.sk-container {/* jupyter's `normalize.less` sets `[hidden] { display: none; }` but bootstrap.min.css set `[hidden] { display: none !important; }` so we also need the `!important` here to be able to override the default hidden behavior on the sphinx rendered scikit-learn.org. See: https://github.com/scikit-learn/scikit-learn/issues/21755 */display: inline-block !important;position: relative;}#sk-container-id-2 div.sk-text-repr-fallback {display: none;}</style><div id=\"sk-container-id-2\" class=\"sk-top-container\"><div class=\"sk-text-repr-fallback\"><pre>KNeighborsClassifier(metric=&#x27;precomputed&#x27;, weights=&#x27;distance&#x27;)</pre><b>In a Jupyter environment, please rerun this cell to show the HTML representation or trust the notebook. <br />On GitHub, the HTML representation is unable to render, please try loading this page with nbviewer.org.</b></div><div class=\"sk-container\" hidden><div class=\"sk-item\"><div class=\"sk-estimator sk-toggleable\"><input class=\"sk-toggleable__control sk-hidden--visually\" id=\"sk-estimator-id-2\" type=\"checkbox\" checked><label for=\"sk-estimator-id-2\" class=\"sk-toggleable__label sk-toggleable__label-arrow\">KNeighborsClassifier</label><div class=\"sk-toggleable__content\"><pre>KNeighborsClassifier(metric=&#x27;precomputed&#x27;, weights=&#x27;distance&#x27;)</pre></div></div></div></div></div>"
            ]
          },
          "metadata": {},
          "execution_count": 169
        }
      ],
      "source": [
        "# train model on entire train set\n",
        "model = KNeighborsClassifier(n_neighbors=k_neighbours, metric='precomputed', weights='distance')\n",
        "model.fit(X, Y.values.ravel())"
      ]
    },
    {
      "cell_type": "markdown",
      "metadata": {
        "id": "bacLyIgCgwVu"
      },
      "source": [
        "## Test"
      ]
    },
    {
      "cell_type": "markdown",
      "metadata": {
        "id": "UVh5smtZhdaG"
      },
      "source": [
        "### Prepare test data"
      ]
    },
    {
      "cell_type": "markdown",
      "metadata": {
        "id": "4Nooig5XL0Ul"
      },
      "source": [
        "Keep only TCRs that have CDR3a and CDR3b, specific to epitope presented on MHC class 1, specifically HLA-A*02"
      ]
    },
    {
      "cell_type": "code",
      "execution_count": null,
      "metadata": {
        "colab": {
          "base_uri": "https://localhost:8080/",
          "height": 206
        },
        "id": "0WMZsypvlLxo",
        "outputId": "d5f4e1a3-e722-4563-83e9-8062a9cfd8fd"
      },
      "outputs": [
        {
          "output_type": "execute_result",
          "data": {
            "text/plain": [
              "             cdr3_a_aa       cdr3_b_aa     v_b_gene    j_b_gene     v_a_gene  \\\n",
              "2643      CAVRGTNARLMF     CASSVVTEAFF  TRBV12-3*01  TRBJ1-1*01     TRAV3*01   \n",
              "6004   CAVSLGGGSQGNLIF   CASSIRSTDTQYF    TRBV19*01  TRBJ2-3*01  TRAV12-2*01   \n",
              "22162      CAESSRGKLIF  CSVGTGGTNEKLFF  TRBV29-1*01  TRBJ1-4*01     TRAV5*01   \n",
              "610       LKENTGFQKLVF   CASSGTGAGEQYF    TRBV19*01  TRBJ2-7*01   TRAV8-1*01   \n",
              "1714      CAGGGSQGNLIF   CASSIRSSYEQYF    TRBV19*01  TRBJ2-7*01    TRAV27*01   \n",
              "\n",
              "        j_a_gene antigen.epitope  \n",
              "2643   TRAJ31*01       NLVPMVATV  \n",
              "6004   TRAJ42*01       GILGFVFTL  \n",
              "22162  TRAJ37*01       GLCTLVAML  \n",
              "610     TRAJ8*01       GILGFVFTL  \n",
              "1714   TRAJ42*01       GILGFVFTL  "
            ],
            "text/html": [
              "\n",
              "  <div id=\"df-985f56b4-f1e3-4746-9695-d66d06174db2\" class=\"colab-df-container\">\n",
              "    <div>\n",
              "<style scoped>\n",
              "    .dataframe tbody tr th:only-of-type {\n",
              "        vertical-align: middle;\n",
              "    }\n",
              "\n",
              "    .dataframe tbody tr th {\n",
              "        vertical-align: top;\n",
              "    }\n",
              "\n",
              "    .dataframe thead th {\n",
              "        text-align: right;\n",
              "    }\n",
              "</style>\n",
              "<table border=\"1\" class=\"dataframe\">\n",
              "  <thead>\n",
              "    <tr style=\"text-align: right;\">\n",
              "      <th></th>\n",
              "      <th>cdr3_a_aa</th>\n",
              "      <th>cdr3_b_aa</th>\n",
              "      <th>v_b_gene</th>\n",
              "      <th>j_b_gene</th>\n",
              "      <th>v_a_gene</th>\n",
              "      <th>j_a_gene</th>\n",
              "      <th>antigen.epitope</th>\n",
              "    </tr>\n",
              "  </thead>\n",
              "  <tbody>\n",
              "    <tr>\n",
              "      <th>2643</th>\n",
              "      <td>CAVRGTNARLMF</td>\n",
              "      <td>CASSVVTEAFF</td>\n",
              "      <td>TRBV12-3*01</td>\n",
              "      <td>TRBJ1-1*01</td>\n",
              "      <td>TRAV3*01</td>\n",
              "      <td>TRAJ31*01</td>\n",
              "      <td>NLVPMVATV</td>\n",
              "    </tr>\n",
              "    <tr>\n",
              "      <th>6004</th>\n",
              "      <td>CAVSLGGGSQGNLIF</td>\n",
              "      <td>CASSIRSTDTQYF</td>\n",
              "      <td>TRBV19*01</td>\n",
              "      <td>TRBJ2-3*01</td>\n",
              "      <td>TRAV12-2*01</td>\n",
              "      <td>TRAJ42*01</td>\n",
              "      <td>GILGFVFTL</td>\n",
              "    </tr>\n",
              "    <tr>\n",
              "      <th>22162</th>\n",
              "      <td>CAESSRGKLIF</td>\n",
              "      <td>CSVGTGGTNEKLFF</td>\n",
              "      <td>TRBV29-1*01</td>\n",
              "      <td>TRBJ1-4*01</td>\n",
              "      <td>TRAV5*01</td>\n",
              "      <td>TRAJ37*01</td>\n",
              "      <td>GLCTLVAML</td>\n",
              "    </tr>\n",
              "    <tr>\n",
              "      <th>610</th>\n",
              "      <td>LKENTGFQKLVF</td>\n",
              "      <td>CASSGTGAGEQYF</td>\n",
              "      <td>TRBV19*01</td>\n",
              "      <td>TRBJ2-7*01</td>\n",
              "      <td>TRAV8-1*01</td>\n",
              "      <td>TRAJ8*01</td>\n",
              "      <td>GILGFVFTL</td>\n",
              "    </tr>\n",
              "    <tr>\n",
              "      <th>1714</th>\n",
              "      <td>CAGGGSQGNLIF</td>\n",
              "      <td>CASSIRSSYEQYF</td>\n",
              "      <td>TRBV19*01</td>\n",
              "      <td>TRBJ2-7*01</td>\n",
              "      <td>TRAV27*01</td>\n",
              "      <td>TRAJ42*01</td>\n",
              "      <td>GILGFVFTL</td>\n",
              "    </tr>\n",
              "  </tbody>\n",
              "</table>\n",
              "</div>\n",
              "    <div class=\"colab-df-buttons\">\n",
              "\n",
              "  <div class=\"colab-df-container\">\n",
              "    <button class=\"colab-df-convert\" onclick=\"convertToInteractive('df-985f56b4-f1e3-4746-9695-d66d06174db2')\"\n",
              "            title=\"Convert this dataframe to an interactive table.\"\n",
              "            style=\"display:none;\">\n",
              "\n",
              "  <svg xmlns=\"http://www.w3.org/2000/svg\" height=\"24px\" viewBox=\"0 -960 960 960\">\n",
              "    <path d=\"M120-120v-720h720v720H120Zm60-500h600v-160H180v160Zm220 220h160v-160H400v160Zm0 220h160v-160H400v160ZM180-400h160v-160H180v160Zm440 0h160v-160H620v160ZM180-180h160v-160H180v160Zm440 0h160v-160H620v160Z\"/>\n",
              "  </svg>\n",
              "    </button>\n",
              "\n",
              "  <style>\n",
              "    .colab-df-container {\n",
              "      display:flex;\n",
              "      gap: 12px;\n",
              "    }\n",
              "\n",
              "    .colab-df-convert {\n",
              "      background-color: #E8F0FE;\n",
              "      border: none;\n",
              "      border-radius: 50%;\n",
              "      cursor: pointer;\n",
              "      display: none;\n",
              "      fill: #1967D2;\n",
              "      height: 32px;\n",
              "      padding: 0 0 0 0;\n",
              "      width: 32px;\n",
              "    }\n",
              "\n",
              "    .colab-df-convert:hover {\n",
              "      background-color: #E2EBFA;\n",
              "      box-shadow: 0px 1px 2px rgba(60, 64, 67, 0.3), 0px 1px 3px 1px rgba(60, 64, 67, 0.15);\n",
              "      fill: #174EA6;\n",
              "    }\n",
              "\n",
              "    .colab-df-buttons div {\n",
              "      margin-bottom: 4px;\n",
              "    }\n",
              "\n",
              "    [theme=dark] .colab-df-convert {\n",
              "      background-color: #3B4455;\n",
              "      fill: #D2E3FC;\n",
              "    }\n",
              "\n",
              "    [theme=dark] .colab-df-convert:hover {\n",
              "      background-color: #434B5C;\n",
              "      box-shadow: 0px 1px 3px 1px rgba(0, 0, 0, 0.15);\n",
              "      filter: drop-shadow(0px 1px 2px rgba(0, 0, 0, 0.3));\n",
              "      fill: #FFFFFF;\n",
              "    }\n",
              "  </style>\n",
              "\n",
              "    <script>\n",
              "      const buttonEl =\n",
              "        document.querySelector('#df-985f56b4-f1e3-4746-9695-d66d06174db2 button.colab-df-convert');\n",
              "      buttonEl.style.display =\n",
              "        google.colab.kernel.accessAllowed ? 'block' : 'none';\n",
              "\n",
              "      async function convertToInteractive(key) {\n",
              "        const element = document.querySelector('#df-985f56b4-f1e3-4746-9695-d66d06174db2');\n",
              "        const dataTable =\n",
              "          await google.colab.kernel.invokeFunction('convertToInteractive',\n",
              "                                                    [key], {});\n",
              "        if (!dataTable) return;\n",
              "\n",
              "        const docLinkHtml = 'Like what you see? Visit the ' +\n",
              "          '<a target=\"_blank\" href=https://colab.research.google.com/notebooks/data_table.ipynb>data table notebook</a>'\n",
              "          + ' to learn more about interactive tables.';\n",
              "        element.innerHTML = '';\n",
              "        dataTable['output_type'] = 'display_data';\n",
              "        await google.colab.output.renderOutput(dataTable, element);\n",
              "        const docLink = document.createElement('div');\n",
              "        docLink.innerHTML = docLinkHtml;\n",
              "        element.appendChild(docLink);\n",
              "      }\n",
              "    </script>\n",
              "  </div>\n",
              "\n",
              "\n",
              "<div id=\"df-51e8d156-9f23-470e-b585-25983a71b5ec\">\n",
              "  <button class=\"colab-df-quickchart\" onclick=\"quickchart('df-51e8d156-9f23-470e-b585-25983a71b5ec')\"\n",
              "            title=\"Suggest charts\"\n",
              "            style=\"display:none;\">\n",
              "\n",
              "<svg xmlns=\"http://www.w3.org/2000/svg\" height=\"24px\"viewBox=\"0 0 24 24\"\n",
              "     width=\"24px\">\n",
              "    <g>\n",
              "        <path d=\"M19 3H5c-1.1 0-2 .9-2 2v14c0 1.1.9 2 2 2h14c1.1 0 2-.9 2-2V5c0-1.1-.9-2-2-2zM9 17H7v-7h2v7zm4 0h-2V7h2v10zm4 0h-2v-4h2v4z\"/>\n",
              "    </g>\n",
              "</svg>\n",
              "  </button>\n",
              "\n",
              "<style>\n",
              "  .colab-df-quickchart {\n",
              "      --bg-color: #E8F0FE;\n",
              "      --fill-color: #1967D2;\n",
              "      --hover-bg-color: #E2EBFA;\n",
              "      --hover-fill-color: #174EA6;\n",
              "      --disabled-fill-color: #AAA;\n",
              "      --disabled-bg-color: #DDD;\n",
              "  }\n",
              "\n",
              "  [theme=dark] .colab-df-quickchart {\n",
              "      --bg-color: #3B4455;\n",
              "      --fill-color: #D2E3FC;\n",
              "      --hover-bg-color: #434B5C;\n",
              "      --hover-fill-color: #FFFFFF;\n",
              "      --disabled-bg-color: #3B4455;\n",
              "      --disabled-fill-color: #666;\n",
              "  }\n",
              "\n",
              "  .colab-df-quickchart {\n",
              "    background-color: var(--bg-color);\n",
              "    border: none;\n",
              "    border-radius: 50%;\n",
              "    cursor: pointer;\n",
              "    display: none;\n",
              "    fill: var(--fill-color);\n",
              "    height: 32px;\n",
              "    padding: 0;\n",
              "    width: 32px;\n",
              "  }\n",
              "\n",
              "  .colab-df-quickchart:hover {\n",
              "    background-color: var(--hover-bg-color);\n",
              "    box-shadow: 0 1px 2px rgba(60, 64, 67, 0.3), 0 1px 3px 1px rgba(60, 64, 67, 0.15);\n",
              "    fill: var(--button-hover-fill-color);\n",
              "  }\n",
              "\n",
              "  .colab-df-quickchart-complete:disabled,\n",
              "  .colab-df-quickchart-complete:disabled:hover {\n",
              "    background-color: var(--disabled-bg-color);\n",
              "    fill: var(--disabled-fill-color);\n",
              "    box-shadow: none;\n",
              "  }\n",
              "\n",
              "  .colab-df-spinner {\n",
              "    border: 2px solid var(--fill-color);\n",
              "    border-color: transparent;\n",
              "    border-bottom-color: var(--fill-color);\n",
              "    animation:\n",
              "      spin 1s steps(1) infinite;\n",
              "  }\n",
              "\n",
              "  @keyframes spin {\n",
              "    0% {\n",
              "      border-color: transparent;\n",
              "      border-bottom-color: var(--fill-color);\n",
              "      border-left-color: var(--fill-color);\n",
              "    }\n",
              "    20% {\n",
              "      border-color: transparent;\n",
              "      border-left-color: var(--fill-color);\n",
              "      border-top-color: var(--fill-color);\n",
              "    }\n",
              "    30% {\n",
              "      border-color: transparent;\n",
              "      border-left-color: var(--fill-color);\n",
              "      border-top-color: var(--fill-color);\n",
              "      border-right-color: var(--fill-color);\n",
              "    }\n",
              "    40% {\n",
              "      border-color: transparent;\n",
              "      border-right-color: var(--fill-color);\n",
              "      border-top-color: var(--fill-color);\n",
              "    }\n",
              "    60% {\n",
              "      border-color: transparent;\n",
              "      border-right-color: var(--fill-color);\n",
              "    }\n",
              "    80% {\n",
              "      border-color: transparent;\n",
              "      border-right-color: var(--fill-color);\n",
              "      border-bottom-color: var(--fill-color);\n",
              "    }\n",
              "    90% {\n",
              "      border-color: transparent;\n",
              "      border-bottom-color: var(--fill-color);\n",
              "    }\n",
              "  }\n",
              "</style>\n",
              "\n",
              "  <script>\n",
              "    async function quickchart(key) {\n",
              "      const quickchartButtonEl =\n",
              "        document.querySelector('#' + key + ' button');\n",
              "      quickchartButtonEl.disabled = true;  // To prevent multiple clicks.\n",
              "      quickchartButtonEl.classList.add('colab-df-spinner');\n",
              "      try {\n",
              "        const charts = await google.colab.kernel.invokeFunction(\n",
              "            'suggestCharts', [key], {});\n",
              "      } catch (error) {\n",
              "        console.error('Error during call to suggestCharts:', error);\n",
              "      }\n",
              "      quickchartButtonEl.classList.remove('colab-df-spinner');\n",
              "      quickchartButtonEl.classList.add('colab-df-quickchart-complete');\n",
              "    }\n",
              "    (() => {\n",
              "      let quickchartButtonEl =\n",
              "        document.querySelector('#df-51e8d156-9f23-470e-b585-25983a71b5ec button');\n",
              "      quickchartButtonEl.style.display =\n",
              "        google.colab.kernel.accessAllowed ? 'block' : 'none';\n",
              "    })();\n",
              "  </script>\n",
              "</div>\n",
              "\n",
              "    </div>\n",
              "  </div>\n"
            ],
            "application/vnd.google.colaboratory.intrinsic+json": {
              "type": "dataframe",
              "variable_name": "df_test",
              "summary": "{\n  \"name\": \"df_test\",\n  \"rows\": 1827,\n  \"fields\": [\n    {\n      \"column\": \"cdr3_a_aa\",\n      \"properties\": {\n        \"dtype\": \"string\",\n        \"num_unique_values\": 1173,\n        \"samples\": [\n          \"CVLSARAEGADRLTF\",\n          \"CAASAVSGYNKLTF\",\n          \"CAEQGSQGNLIF\"\n        ],\n        \"semantic_type\": \"\",\n        \"description\": \"\"\n      }\n    },\n    {\n      \"column\": \"cdr3_b_aa\",\n      \"properties\": {\n        \"dtype\": \"string\",\n        \"num_unique_values\": 1253,\n        \"samples\": [\n          \"CASSQRPGGQQFF\",\n          \"CTCSGLDSAETLYF\",\n          \"CASSQLGGISNQPQHF\"\n        ],\n        \"semantic_type\": \"\",\n        \"description\": \"\"\n      }\n    },\n    {\n      \"column\": \"v_b_gene\",\n      \"properties\": {\n        \"dtype\": \"category\",\n        \"num_unique_values\": 62,\n        \"samples\": [\n          \"TRBV11-2*01\",\n          \"TRBV25-1*01\",\n          \"TRBV12-3*01\"\n        ],\n        \"semantic_type\": \"\",\n        \"description\": \"\"\n      }\n    },\n    {\n      \"column\": \"j_b_gene\",\n      \"properties\": {\n        \"dtype\": \"category\",\n        \"num_unique_values\": 16,\n        \"samples\": [\n          \"TRBJ1-1*01\",\n          \"TRBJ2-3*01\",\n          \"TRBJ1-2*01\"\n        ],\n        \"semantic_type\": \"\",\n        \"description\": \"\"\n      }\n    },\n    {\n      \"column\": \"v_a_gene\",\n      \"properties\": {\n        \"dtype\": \"category\",\n        \"num_unique_values\": 113,\n        \"samples\": [\n          \"TRAV30*01\",\n          \"TRAV27*01\",\n          \"TRAV24*01\"\n        ],\n        \"semantic_type\": \"\",\n        \"description\": \"\"\n      }\n    },\n    {\n      \"column\": \"j_a_gene\",\n      \"properties\": {\n        \"dtype\": \"category\",\n        \"num_unique_values\": 53,\n        \"samples\": [\n          \"TRAJ21*01\",\n          \"TRAJ30*01\",\n          \"TRAJ10*01\"\n        ],\n        \"semantic_type\": \"\",\n        \"description\": \"\"\n      }\n    },\n    {\n      \"column\": \"antigen.epitope\",\n      \"properties\": {\n        \"dtype\": \"category\",\n        \"num_unique_values\": 10,\n        \"samples\": [\n          \"SSPPMFRV\",\n          \"GILGFVFTL\",\n          \"ASNENMETM\"\n        ],\n        \"semantic_type\": \"\",\n        \"description\": \"\"\n      }\n    }\n  ]\n}"
            }
          },
          "metadata": {},
          "execution_count": 170
        }
      ],
      "source": [
        "df_test.head()"
      ]
    },
    {
      "cell_type": "code",
      "source": [
        "df_test[\"antigen.epitope\"].value_counts()"
      ],
      "metadata": {
        "colab": {
          "base_uri": "https://localhost:8080/"
        },
        "id": "j_vq1EHJk-Z8",
        "outputId": "1af2d698-d653-4074-e240-036a86c479e8"
      },
      "execution_count": null,
      "outputs": [
        {
          "output_type": "execute_result",
          "data": {
            "text/plain": [
              "antigen.epitope\n",
              "GILGFVFTL         750\n",
              "NLVPMVATV         202\n",
              "SSYRRPVGI         196\n",
              "TFEYVSQPFLMDLE    148\n",
              "SSLENFRAYV        138\n",
              "GLCTLVAML         125\n",
              "ASNENMETM         107\n",
              "HGIRNASFI          95\n",
              "SSPPMFRV           45\n",
              "RPRGEVRFL          21\n",
              "Name: count, dtype: int64"
            ]
          },
          "metadata": {},
          "execution_count": 172
        }
      ]
    },
    {
      "cell_type": "markdown",
      "metadata": {
        "id": "vEuAej1Pa4DX"
      },
      "source": [
        "Keep only epitopes included in the train set"
      ]
    },
    {
      "cell_type": "code",
      "execution_count": null,
      "metadata": {
        "id": "lfEf7gW3axx4"
      },
      "outputs": [],
      "source": [
        "peptide_list = list(df_train['antigen.epitope'].unique())\n",
        "df_test = df_test.loc[df_test['antigen.epitope'].isin(peptide_list)]\n",
        "df_test.reset_index(drop=True, inplace=True)"
      ]
    },
    {
      "cell_type": "code",
      "execution_count": null,
      "metadata": {
        "id": "RuaGOIiGZo03"
      },
      "outputs": [],
      "source": [
        "# peptide_list\n",
        "# df_test[\"antigen.epitope\"].unique()"
      ]
    },
    {
      "cell_type": "markdown",
      "metadata": {
        "id": "u76uOrjdj4lr"
      },
      "source": [
        "### Get tcrdist distances between test TCRs and train TCRs\n",
        "*If asked to use all cdrs to compute tcrdist distances, compute it when TCRrep object is initialized. If asked to use only CDR3, the TCRrep object metric parameters need to be altered before computing the distances."
      ]
    },
    {
      "cell_type": "code",
      "execution_count": null,
      "metadata": {
        "id": "Uce3TCi4kihw"
      },
      "outputs": [],
      "source": [
        "tcrrep_test = TCRrep(cell_df=df_test,\n",
        "                     organism=organism,\n",
        "                     chains=chains,\n",
        "                     deduplicate=True)\n",
        "\n",
        "tcrrep_test.compute_rect_distances(df=tcrrep_test.clone_df,\n",
        "                                    df2=tr.clone_df)"
      ]
    },
    {
      "cell_type": "markdown",
      "metadata": {
        "id": "JcHyito4tAU4"
      },
      "source": [
        "Get distances matrix (X_test) between test and train TCRs"
      ]
    },
    {
      "cell_type": "code",
      "execution_count": null,
      "metadata": {
        "id": "XPMm9AHNTYPu"
      },
      "outputs": [],
      "source": [
        "if cdrs=='all':\n",
        "  if chains==['alpha', 'beta'] or chains==['beta', 'alpha']:\n",
        "      X_test = pd.DataFrame(tcrrep_test.rw_alpha + tcrrep_test.rw_beta)\n",
        "  elif chains==['alpha']:\n",
        "      X_test = pd.DataFrame(tcrrep_test.rw_alpha)\n",
        "  elif chains==['beta']:\n",
        "      X_test = pd.DataFrame(tcrrep_test.rw_beta)\n",
        "\n",
        "if cdrs == \"cdr3\":\n",
        "  if chains==['alpha', 'beta'] or chains==['beta', 'alpha']:\n",
        "        X_test = pd.DataFrame(tcrrep_test.rw_cdr3_a_aa + tcrrep_test.rw_cdr3_b_aa)\n",
        "  elif chains==['alpha']:\n",
        "        X_test = pd.DataFrame(tcrrep_test.rw_cdr3_a_aa)\n",
        "  elif chains==['beta']:\n",
        "        X_test = pd.DataFrame(tcrrep_test.rw_cdr3_b_aa)"
      ]
    },
    {
      "cell_type": "code",
      "execution_count": null,
      "metadata": {
        "id": "WSM2FGgGcLI8"
      },
      "outputs": [],
      "source": [
        "# assert dimensions are n_test X n_train\n",
        "# assert X_test.shape[0] == df_test.shape[0], f'assert X_test rows dimension equals df_test dimension: {X_test.shape[0]} == {df_test.shape[0]} ?'\n",
        "assert X_test.shape[1] == X.shape[0], f'assert X columns dimension equals X(train) dimension: {X.shape[0]} == {df_train.shape[0]} ?'"
      ]
    },
    {
      "cell_type": "code",
      "execution_count": null,
      "metadata": {
        "colab": {
          "base_uri": "https://localhost:8080/"
        },
        "id": "guk2ll5Mcp16",
        "outputId": "131b2f2b-86bf-4eed-e76c-c1fe768adb6c"
      },
      "outputs": [
        {
          "output_type": "execute_result",
          "data": {
            "text/plain": [
              "antigen.epitope\n",
              "GILGFVFTL         750\n",
              "NLVPMVATV         202\n",
              "SSYRRPVGI         196\n",
              "TFEYVSQPFLMDLE    148\n",
              "SSLENFRAYV        138\n",
              "GLCTLVAML         125\n",
              "ASNENMETM         107\n",
              "HGIRNASFI          95\n",
              "SSPPMFRV           45\n",
              "RPRGEVRFL          21\n",
              "Name: count, dtype: int64"
            ]
          },
          "metadata": {},
          "execution_count": 177
        }
      ],
      "source": [
        "# Before creating tcrdist matrix\n",
        "df_test[\"antigen.epitope\"].value_counts()"
      ]
    },
    {
      "cell_type": "code",
      "execution_count": null,
      "metadata": {
        "colab": {
          "base_uri": "https://localhost:8080/"
        },
        "id": "Gh0KGV5zcOnD",
        "outputId": "7e558761-9db6-4609-c857-47d58026b7c4"
      },
      "outputs": [
        {
          "output_type": "execute_result",
          "data": {
            "text/plain": [
              "antigen.epitope\n",
              "GILGFVFTL         710\n",
              "NLVPMVATV         181\n",
              "TFEYVSQPFLMDLE    147\n",
              "GLCTLVAML         124\n",
              "RPRGEVRFL          19\n",
              "HGIRNASFI           7\n",
              "SSLENFRAYV          4\n",
              "SSYRRPVGI           3\n",
              "SSPPMFRV            1\n",
              "ASNENMETM           1\n",
              "Name: count, dtype: int64"
            ]
          },
          "metadata": {},
          "execution_count": 178
        }
      ],
      "source": [
        "# After creating tcrdist matrix\n",
        "tcrrep_test.clone_df[\"antigen.epitope\"].value_counts()"
      ]
    },
    {
      "cell_type": "code",
      "execution_count": null,
      "metadata": {
        "id": "yqyrFbbhMiUe"
      },
      "outputs": [],
      "source": [
        "# get predictions\n",
        "preds_prob = model.predict_proba(X_test)\n",
        "preds_labels = model.predict(X_test)\n",
        "\n",
        "# get test data labels\n",
        "Y_test = tcrrep_test.clone_df['antigen.epitope']"
      ]
    },
    {
      "cell_type": "code",
      "execution_count": null,
      "metadata": {
        "colab": {
          "base_uri": "https://localhost:8080/"
        },
        "id": "OBpqr-vLIxJm",
        "outputId": "0a93ebfe-2064-4b3a-9137-8c91e4e36253"
      },
      "outputs": [
        {
          "output_type": "execute_result",
          "data": {
            "text/plain": [
              "array(['GILGFVFTL', 'GLCTLVAML', 'NLVPMVATV', 'HGIRNASFI', 'SSPPMFRV',\n",
              "       'SSYRRPVGI', 'TFEYVSQPFLMDLE', 'SSLENFRAYV', 'RPRGEVRFL',\n",
              "       'ASNENMETM'], dtype=object)"
            ]
          },
          "metadata": {},
          "execution_count": 114
        }
      ],
      "source": [
        "Y_test.unique()"
      ]
    },
    {
      "cell_type": "markdown",
      "metadata": {
        "id": "BLQmJZM7KWtr"
      },
      "source": [
        "### Plot results"
      ]
    },
    {
      "cell_type": "markdown",
      "metadata": {
        "id": "ZTBSQYIGwIwb"
      },
      "source": [
        "Calculate performance metrics"
      ]
    },
    {
      "cell_type": "code",
      "execution_count": null,
      "metadata": {
        "id": "O9x6QY1rkl0O"
      },
      "outputs": [],
      "source": [
        "metrics = {}\n",
        "metrics['accuracy'] = accuracy_score(Y_test, preds_labels)\n",
        "metrics['roc_auc'] = roc_auc_score(Y_test, pd.DataFrame(preds_prob, columns=model.classes_), average='macro', multi_class='ovr')\n",
        "\n",
        "metrics['confusion_matrix'] = pd.DataFrame(confusion_matrix(Y_test, preds_labels), columns=model.classes_, index=model.classes_)\n",
        "metrics['confusion_matrix_norm'] = pd.DataFrame(confusion_matrix(Y_test, preds_labels, normalize='true'), columns=model.classes_, index=model.classes_)\n",
        "\n",
        "metrics_df = pd.DataFrame(columns=model.classes_)\n",
        "metrics_df.loc['precision'] = precision_score(Y_test, preds_labels, average=None)\n",
        "metrics_df.loc['recall'] = recall_score(Y_test, preds_labels, average=None)\n",
        "metrics_df.loc['f1'] = f1_score(Y_test, preds_labels, average=None)"
      ]
    },
    {
      "cell_type": "code",
      "execution_count": null,
      "metadata": {
        "colab": {
          "base_uri": "https://localhost:8080/",
          "height": 363
        },
        "id": "ZJvBdH8AJjz2",
        "outputId": "e8124cb1-1c52-4805-81ec-2850719bd155"
      },
      "outputs": [
        {
          "output_type": "execute_result",
          "data": {
            "text/plain": [
              "                precision    recall        f1\n",
              "ASNENMETM        0.000000  0.000000  0.000000\n",
              "GILGFVFTL        0.921703  0.945070  0.933241\n",
              "GLCTLVAML        0.811024  0.830645  0.820717\n",
              "HGIRNASFI        1.000000  0.285714  0.444444\n",
              "NLVPMVATV        0.819767  0.779006  0.798867\n",
              "RPRGEVRFL        1.000000  0.842105  0.914286\n",
              "SSLENFRAYV       0.500000  0.250000  0.333333\n",
              "SSPPMFRV         0.500000  1.000000  0.666667\n",
              "SSYRRPVGI        0.285714  0.666667  0.400000\n",
              "TFEYVSQPFLMDLE   0.992908  0.952381  0.972222"
            ],
            "text/html": [
              "\n",
              "  <div id=\"df-89ebbd10-9fae-4eac-a880-7922141e8b62\" class=\"colab-df-container\">\n",
              "    <div>\n",
              "<style scoped>\n",
              "    .dataframe tbody tr th:only-of-type {\n",
              "        vertical-align: middle;\n",
              "    }\n",
              "\n",
              "    .dataframe tbody tr th {\n",
              "        vertical-align: top;\n",
              "    }\n",
              "\n",
              "    .dataframe thead th {\n",
              "        text-align: right;\n",
              "    }\n",
              "</style>\n",
              "<table border=\"1\" class=\"dataframe\">\n",
              "  <thead>\n",
              "    <tr style=\"text-align: right;\">\n",
              "      <th></th>\n",
              "      <th>precision</th>\n",
              "      <th>recall</th>\n",
              "      <th>f1</th>\n",
              "    </tr>\n",
              "  </thead>\n",
              "  <tbody>\n",
              "    <tr>\n",
              "      <th>ASNENMETM</th>\n",
              "      <td>0.000000</td>\n",
              "      <td>0.000000</td>\n",
              "      <td>0.000000</td>\n",
              "    </tr>\n",
              "    <tr>\n",
              "      <th>GILGFVFTL</th>\n",
              "      <td>0.921703</td>\n",
              "      <td>0.945070</td>\n",
              "      <td>0.933241</td>\n",
              "    </tr>\n",
              "    <tr>\n",
              "      <th>GLCTLVAML</th>\n",
              "      <td>0.811024</td>\n",
              "      <td>0.830645</td>\n",
              "      <td>0.820717</td>\n",
              "    </tr>\n",
              "    <tr>\n",
              "      <th>HGIRNASFI</th>\n",
              "      <td>1.000000</td>\n",
              "      <td>0.285714</td>\n",
              "      <td>0.444444</td>\n",
              "    </tr>\n",
              "    <tr>\n",
              "      <th>NLVPMVATV</th>\n",
              "      <td>0.819767</td>\n",
              "      <td>0.779006</td>\n",
              "      <td>0.798867</td>\n",
              "    </tr>\n",
              "    <tr>\n",
              "      <th>RPRGEVRFL</th>\n",
              "      <td>1.000000</td>\n",
              "      <td>0.842105</td>\n",
              "      <td>0.914286</td>\n",
              "    </tr>\n",
              "    <tr>\n",
              "      <th>SSLENFRAYV</th>\n",
              "      <td>0.500000</td>\n",
              "      <td>0.250000</td>\n",
              "      <td>0.333333</td>\n",
              "    </tr>\n",
              "    <tr>\n",
              "      <th>SSPPMFRV</th>\n",
              "      <td>0.500000</td>\n",
              "      <td>1.000000</td>\n",
              "      <td>0.666667</td>\n",
              "    </tr>\n",
              "    <tr>\n",
              "      <th>SSYRRPVGI</th>\n",
              "      <td>0.285714</td>\n",
              "      <td>0.666667</td>\n",
              "      <td>0.400000</td>\n",
              "    </tr>\n",
              "    <tr>\n",
              "      <th>TFEYVSQPFLMDLE</th>\n",
              "      <td>0.992908</td>\n",
              "      <td>0.952381</td>\n",
              "      <td>0.972222</td>\n",
              "    </tr>\n",
              "  </tbody>\n",
              "</table>\n",
              "</div>\n",
              "    <div class=\"colab-df-buttons\">\n",
              "\n",
              "  <div class=\"colab-df-container\">\n",
              "    <button class=\"colab-df-convert\" onclick=\"convertToInteractive('df-89ebbd10-9fae-4eac-a880-7922141e8b62')\"\n",
              "            title=\"Convert this dataframe to an interactive table.\"\n",
              "            style=\"display:none;\">\n",
              "\n",
              "  <svg xmlns=\"http://www.w3.org/2000/svg\" height=\"24px\" viewBox=\"0 -960 960 960\">\n",
              "    <path d=\"M120-120v-720h720v720H120Zm60-500h600v-160H180v160Zm220 220h160v-160H400v160Zm0 220h160v-160H400v160ZM180-400h160v-160H180v160Zm440 0h160v-160H620v160ZM180-180h160v-160H180v160Zm440 0h160v-160H620v160Z\"/>\n",
              "  </svg>\n",
              "    </button>\n",
              "\n",
              "  <style>\n",
              "    .colab-df-container {\n",
              "      display:flex;\n",
              "      gap: 12px;\n",
              "    }\n",
              "\n",
              "    .colab-df-convert {\n",
              "      background-color: #E8F0FE;\n",
              "      border: none;\n",
              "      border-radius: 50%;\n",
              "      cursor: pointer;\n",
              "      display: none;\n",
              "      fill: #1967D2;\n",
              "      height: 32px;\n",
              "      padding: 0 0 0 0;\n",
              "      width: 32px;\n",
              "    }\n",
              "\n",
              "    .colab-df-convert:hover {\n",
              "      background-color: #E2EBFA;\n",
              "      box-shadow: 0px 1px 2px rgba(60, 64, 67, 0.3), 0px 1px 3px 1px rgba(60, 64, 67, 0.15);\n",
              "      fill: #174EA6;\n",
              "    }\n",
              "\n",
              "    .colab-df-buttons div {\n",
              "      margin-bottom: 4px;\n",
              "    }\n",
              "\n",
              "    [theme=dark] .colab-df-convert {\n",
              "      background-color: #3B4455;\n",
              "      fill: #D2E3FC;\n",
              "    }\n",
              "\n",
              "    [theme=dark] .colab-df-convert:hover {\n",
              "      background-color: #434B5C;\n",
              "      box-shadow: 0px 1px 3px 1px rgba(0, 0, 0, 0.15);\n",
              "      filter: drop-shadow(0px 1px 2px rgba(0, 0, 0, 0.3));\n",
              "      fill: #FFFFFF;\n",
              "    }\n",
              "  </style>\n",
              "\n",
              "    <script>\n",
              "      const buttonEl =\n",
              "        document.querySelector('#df-89ebbd10-9fae-4eac-a880-7922141e8b62 button.colab-df-convert');\n",
              "      buttonEl.style.display =\n",
              "        google.colab.kernel.accessAllowed ? 'block' : 'none';\n",
              "\n",
              "      async function convertToInteractive(key) {\n",
              "        const element = document.querySelector('#df-89ebbd10-9fae-4eac-a880-7922141e8b62');\n",
              "        const dataTable =\n",
              "          await google.colab.kernel.invokeFunction('convertToInteractive',\n",
              "                                                    [key], {});\n",
              "        if (!dataTable) return;\n",
              "\n",
              "        const docLinkHtml = 'Like what you see? Visit the ' +\n",
              "          '<a target=\"_blank\" href=https://colab.research.google.com/notebooks/data_table.ipynb>data table notebook</a>'\n",
              "          + ' to learn more about interactive tables.';\n",
              "        element.innerHTML = '';\n",
              "        dataTable['output_type'] = 'display_data';\n",
              "        await google.colab.output.renderOutput(dataTable, element);\n",
              "        const docLink = document.createElement('div');\n",
              "        docLink.innerHTML = docLinkHtml;\n",
              "        element.appendChild(docLink);\n",
              "      }\n",
              "    </script>\n",
              "  </div>\n",
              "\n",
              "\n",
              "<div id=\"df-e00cf85f-8361-4812-9acd-f9d4ef9f24b5\">\n",
              "  <button class=\"colab-df-quickchart\" onclick=\"quickchart('df-e00cf85f-8361-4812-9acd-f9d4ef9f24b5')\"\n",
              "            title=\"Suggest charts\"\n",
              "            style=\"display:none;\">\n",
              "\n",
              "<svg xmlns=\"http://www.w3.org/2000/svg\" height=\"24px\"viewBox=\"0 0 24 24\"\n",
              "     width=\"24px\">\n",
              "    <g>\n",
              "        <path d=\"M19 3H5c-1.1 0-2 .9-2 2v14c0 1.1.9 2 2 2h14c1.1 0 2-.9 2-2V5c0-1.1-.9-2-2-2zM9 17H7v-7h2v7zm4 0h-2V7h2v10zm4 0h-2v-4h2v4z\"/>\n",
              "    </g>\n",
              "</svg>\n",
              "  </button>\n",
              "\n",
              "<style>\n",
              "  .colab-df-quickchart {\n",
              "      --bg-color: #E8F0FE;\n",
              "      --fill-color: #1967D2;\n",
              "      --hover-bg-color: #E2EBFA;\n",
              "      --hover-fill-color: #174EA6;\n",
              "      --disabled-fill-color: #AAA;\n",
              "      --disabled-bg-color: #DDD;\n",
              "  }\n",
              "\n",
              "  [theme=dark] .colab-df-quickchart {\n",
              "      --bg-color: #3B4455;\n",
              "      --fill-color: #D2E3FC;\n",
              "      --hover-bg-color: #434B5C;\n",
              "      --hover-fill-color: #FFFFFF;\n",
              "      --disabled-bg-color: #3B4455;\n",
              "      --disabled-fill-color: #666;\n",
              "  }\n",
              "\n",
              "  .colab-df-quickchart {\n",
              "    background-color: var(--bg-color);\n",
              "    border: none;\n",
              "    border-radius: 50%;\n",
              "    cursor: pointer;\n",
              "    display: none;\n",
              "    fill: var(--fill-color);\n",
              "    height: 32px;\n",
              "    padding: 0;\n",
              "    width: 32px;\n",
              "  }\n",
              "\n",
              "  .colab-df-quickchart:hover {\n",
              "    background-color: var(--hover-bg-color);\n",
              "    box-shadow: 0 1px 2px rgba(60, 64, 67, 0.3), 0 1px 3px 1px rgba(60, 64, 67, 0.15);\n",
              "    fill: var(--button-hover-fill-color);\n",
              "  }\n",
              "\n",
              "  .colab-df-quickchart-complete:disabled,\n",
              "  .colab-df-quickchart-complete:disabled:hover {\n",
              "    background-color: var(--disabled-bg-color);\n",
              "    fill: var(--disabled-fill-color);\n",
              "    box-shadow: none;\n",
              "  }\n",
              "\n",
              "  .colab-df-spinner {\n",
              "    border: 2px solid var(--fill-color);\n",
              "    border-color: transparent;\n",
              "    border-bottom-color: var(--fill-color);\n",
              "    animation:\n",
              "      spin 1s steps(1) infinite;\n",
              "  }\n",
              "\n",
              "  @keyframes spin {\n",
              "    0% {\n",
              "      border-color: transparent;\n",
              "      border-bottom-color: var(--fill-color);\n",
              "      border-left-color: var(--fill-color);\n",
              "    }\n",
              "    20% {\n",
              "      border-color: transparent;\n",
              "      border-left-color: var(--fill-color);\n",
              "      border-top-color: var(--fill-color);\n",
              "    }\n",
              "    30% {\n",
              "      border-color: transparent;\n",
              "      border-left-color: var(--fill-color);\n",
              "      border-top-color: var(--fill-color);\n",
              "      border-right-color: var(--fill-color);\n",
              "    }\n",
              "    40% {\n",
              "      border-color: transparent;\n",
              "      border-right-color: var(--fill-color);\n",
              "      border-top-color: var(--fill-color);\n",
              "    }\n",
              "    60% {\n",
              "      border-color: transparent;\n",
              "      border-right-color: var(--fill-color);\n",
              "    }\n",
              "    80% {\n",
              "      border-color: transparent;\n",
              "      border-right-color: var(--fill-color);\n",
              "      border-bottom-color: var(--fill-color);\n",
              "    }\n",
              "    90% {\n",
              "      border-color: transparent;\n",
              "      border-bottom-color: var(--fill-color);\n",
              "    }\n",
              "  }\n",
              "</style>\n",
              "\n",
              "  <script>\n",
              "    async function quickchart(key) {\n",
              "      const quickchartButtonEl =\n",
              "        document.querySelector('#' + key + ' button');\n",
              "      quickchartButtonEl.disabled = true;  // To prevent multiple clicks.\n",
              "      quickchartButtonEl.classList.add('colab-df-spinner');\n",
              "      try {\n",
              "        const charts = await google.colab.kernel.invokeFunction(\n",
              "            'suggestCharts', [key], {});\n",
              "      } catch (error) {\n",
              "        console.error('Error during call to suggestCharts:', error);\n",
              "      }\n",
              "      quickchartButtonEl.classList.remove('colab-df-spinner');\n",
              "      quickchartButtonEl.classList.add('colab-df-quickchart-complete');\n",
              "    }\n",
              "    (() => {\n",
              "      let quickchartButtonEl =\n",
              "        document.querySelector('#df-e00cf85f-8361-4812-9acd-f9d4ef9f24b5 button');\n",
              "      quickchartButtonEl.style.display =\n",
              "        google.colab.kernel.accessAllowed ? 'block' : 'none';\n",
              "    })();\n",
              "  </script>\n",
              "</div>\n",
              "\n",
              "    </div>\n",
              "  </div>\n"
            ],
            "application/vnd.google.colaboratory.intrinsic+json": {
              "type": "dataframe",
              "summary": "{\n  \"name\": \"metrics_df\",\n  \"rows\": 10,\n  \"fields\": [\n    {\n      \"column\": \"precision\",\n      \"properties\": {\n        \"dtype\": \"number\",\n        \"std\": 0.3464740337107431,\n        \"min\": 0.0,\n        \"max\": 1.0,\n        \"num_unique_values\": 8,\n        \"samples\": [\n          0.9217032967032966,\n          0.5,\n          0.0\n        ],\n        \"semantic_type\": \"\",\n        \"description\": \"\"\n      }\n    },\n    {\n      \"column\": \"recall\",\n      \"properties\": {\n        \"dtype\": \"number\",\n        \"std\": 0.3499834997500247,\n        \"min\": 0.0,\n        \"max\": 1.0,\n        \"num_unique_values\": 10,\n        \"samples\": [\n          0.6666666666666666,\n          0.9450704225352112,\n          0.8421052631578947\n        ],\n        \"semantic_type\": \"\",\n        \"description\": \"\"\n      }\n    },\n    {\n      \"column\": \"f1\",\n      \"properties\": {\n        \"dtype\": \"number\",\n        \"std\": 0.3211677349436445,\n        \"min\": 0.0,\n        \"max\": 0.9722222222222222,\n        \"num_unique_values\": 10,\n        \"samples\": [\n          0.4,\n          0.933240611961057,\n          0.9142857142857143\n        ],\n        \"semantic_type\": \"\",\n        \"description\": \"\"\n      }\n    }\n  ]\n}"
            }
          },
          "metadata": {},
          "execution_count": 181
        }
      ],
      "source": [
        "metrics_df.T"
      ]
    },
    {
      "cell_type": "markdown",
      "metadata": {
        "id": "_4ban9RX91LQ"
      },
      "source": [
        "Plot confusion matrix"
      ]
    },
    {
      "cell_type": "code",
      "execution_count": null,
      "metadata": {
        "colab": {
          "base_uri": "https://localhost:8080/",
          "height": 723
        },
        "id": "QMIku6ZvpV9D",
        "outputId": "6c55c26f-cb8e-4f58-ec09-7cf833d0bc74"
      },
      "outputs": [
        {
          "output_type": "display_data",
          "data": {
            "text/plain": [
              "<Figure size 1400x700 with 3 Axes>"
            ],
            "image/png": "[encoded data removed]"
          },
          "metadata": {}
        }
      ],
      "source": [
        "fig, axes = plt.subplots(nrows=1, ncols=2, figsize=(14,7))\n",
        "sns.set_context(font_scale=1.1)\n",
        "sns.heatmap(metrics['confusion_matrix'], annot=True, cmap='Blues', fmt='', ax=axes[0], square=True, annot_kws={\"size\": 13})\n",
        "axes[0].set_xlabel('Predicted', fontsize=15)\n",
        "axes[0].set_ylabel('True', fontsize=15)\n",
        "axes[0].set_title('Confusion matrix', fontsize=17)\n",
        "for tick in axes[0].get_xticklabels():\n",
        "        tick.set_rotation(90)\n",
        "\n",
        "# sns.heatmap(metrics['confusion_matrix_norm'], annot=True, cmap='Greens', fmt='.2f', ax=axes[1], square=True, annot_kws={\"size\": 13})\n",
        "# axes[1].set_title('Confusion matrix, normalized', fontsize=17)\n",
        "# axes[1].set_xlabel('Predicted', fontsize=5)\n",
        "# axes[1].set_ylabel('True', fontsize=5)\n",
        "# for tick in axes[1].get_xticklabels():\n",
        "#         tick.set_rotation(90)\n",
        "\n",
        "for epi_ind in range(metrics['confusion_matrix'].shape[0]):\n",
        "    axes[0].add_patch(Rectangle((epi_ind, epi_ind), 1, 1, ec='black', fc='none', lw=1.5, clip_on=False))\n",
        "    # axes[1].add_patch(Rectangle((epi_ind, epi_ind), 1, 1, ec='black', fc='none', lw=1.5, clip_on=False))\n",
        "\n",
        "plt.tight_layout()"
      ]
    },
    {
      "cell_type": "markdown",
      "metadata": {
        "id": "gUjbukSA99jj"
      },
      "source": [
        "Plot metrics (per epitope)"
      ]
    },
    {
      "cell_type": "code",
      "execution_count": null,
      "metadata": {
        "colab": {
          "base_uri": "https://localhost:8080/",
          "height": 530
        },
        "id": "sPyIbARGo301",
        "outputId": "f9dd4cd1-a593-4fd8-b39f-31376fb1db1a"
      },
      "outputs": [
        {
          "output_type": "display_data",
          "data": {
            "text/plain": [
              "<Figure size 1300x400 with 2 Axes>"
            ],
            "image/png": "[encoded data removed]"
          },
          "metadata": {}
        }
      ],
      "source": [
        "plt.figure(figsize=(13,4))\n",
        "ax = sns.heatmap(metrics_df, annot=True, cmap='Reds', fmt='.2f', annot_kws={\"size\": 14}, vmin=0, vmax=1)\n",
        "ax.set_ylabel('Metric', fontsize=15)\n",
        "ax.set_xlabel('Epitope', fontsize=15)\n",
        "ax.set_title(f\"Metrics,        Accuracy: {metrics['accuracy']:.3f}, average AUC: {metrics['roc_auc']:.3f}\", fontsize=15)\n",
        "_ = ax.set_xticklabels([epi + f'\\n(n_test={(Y_test==epi).sum()})' for epi in metrics_df.columns])\n"
      ]
    },
    {
      "cell_type": "markdown",
      "metadata": {
        "id": "9VQERx4g-Gzm"
      },
      "source": [
        "Plot ROC curves"
      ]
    },
    {
      "cell_type": "code",
      "execution_count": null,
      "metadata": {
        "id": "pDUSziOlkl4G"
      },
      "outputs": [],
      "source": [
        "Y_matrix = pd.get_dummies(tcrrep_test.clone_df['antigen.epitope'])\n",
        "colors = ['red', 'dodgerblue', 'darkviolet', 'lightgreen', 'darkorange', 'mediumblue', 'maroon', 'teal', 'purple', 'green', 'deepskyblue', 'yellowgreen', 'lightcoral', 'gold', ]"
      ]
    },
    {
      "cell_type": "code",
      "execution_count": null,
      "metadata": {
        "colab": {
          "base_uri": "https://localhost:8080/",
          "height": 570
        },
        "id": "095YKaOulvuN",
        "outputId": "7a1ab9d1-e344-495c-f5f8-f584aec3d829"
      },
      "outputs": [
        {
          "output_type": "display_data",
          "data": {
            "text/plain": [
              "<Figure size 800x600 with 1 Axes>"
            ],
            "image/png": "[encoded data removed]"
          },
          "metadata": {}
        }
      ],
      "source": [
        "# Get ROC curve info for each epitope\n",
        "fpr = dict()\n",
        "tpr = dict()\n",
        "roc_auc = dict()\n",
        "for i, ep in enumerate(model.classes_):\n",
        "    fpr[ep], tpr[ep], _ = roc_curve(Y_matrix.loc[:, ep], preds_prob[:, i])\n",
        "    roc_auc[ep] = auc(fpr[ep], tpr[ep])\n",
        "\n",
        "# Plot ROC curves\n",
        "fig, ax = plt.subplots(figsize=(8, 6))\n",
        "for ep, color in zip(model.classes_, colors):\n",
        "    ax.plot(fpr[ep], tpr[ep], color=color, lw=1.5, label=f'{ep} (AUC = {roc_auc[ep]:.3f})')\n",
        "plt.plot([0, 1], [0, 1], 'k--', lw=2)\n",
        "plt.xlim([-0.01, 1.0])\n",
        "plt.ylim([0.0, 1.01])\n",
        "plt.xlabel('False Positive Rate', fontsize=15)\n",
        "plt.ylabel('True Positive Rate', fontsize=15)\n",
        "plt.title('ROC curve for each epitope vs. all')\n",
        "plt.legend(bbox_to_anchor=(1.05, 1), loc=2, borderaxespad=0., frameon=False, title='Epitope')\n",
        "_ = plt.setp(ax.get_legend().get_title(), fontsize=15)"
      ]
    },
    {
      "cell_type": "code",
      "execution_count": 185,
      "metadata": {
        "colab": {
          "base_uri": "https://localhost:8080/",
          "height": 570
        },
        "id": "eYo3vWwrlz9H",
        "outputId": "ff0b5404-3a3f-4a5c-d61c-a8e27dc8ae25"
      },
      "outputs": [
        {
          "output_type": "display_data",
          "data": {
            "text/plain": [
              "<Figure size 800x600 with 1 Axes>"
            ],
            "image/png": "[encoded data removed]"
          },
          "metadata": {}
        }
      ],
      "source": [
        "from sklearn.metrics import precision_recall_curve\n",
        "\n",
        "# Get precision_recall curve info for each epitope\n",
        "precision_cur = dict()\n",
        "recall_cur = dict()\n",
        "pre_rec_auc = dict()\n",
        "for i, ep in enumerate(model.classes_):\n",
        "    precision_cur[ep], recall_cur[ep], _ = precision_recall_curve(Y_matrix.loc[:, ep], preds_prob[:, i])\n",
        "    pre_rec_auc[ep] = auc(recall_cur[ep], precision_cur[ep])\n",
        "\n",
        "# Plot precision_recall curves\n",
        "fig, ax = plt.subplots(figsize=(8, 6))\n",
        "for ep, color in zip(model.classes_, colors):\n",
        "    ax.plot(recall_cur[ep], precision_cur[ep], color=color, lw=1.5, label=f'{ep} (AUC = {pre_rec_auc[ep]:.3f})')\n",
        "plt.plot([0, 1], [0, 1], 'k--', lw=2)\n",
        "plt.xlim([-0.01, 1.0])\n",
        "plt.ylim([0.0, 1.01])\n",
        "plt.xlabel('Recall / TPR (tp / (tp + fn)', fontsize=15)\n",
        "plt.ylabel('Precision (tp / (tp + fp)', fontsize=15)\n",
        "plt.title('Precision-Recall curve for each epitope vs. all')\n",
        "plt.legend(bbox_to_anchor=(1.05, 1), loc=2, borderaxespad=0., frameon=False, title='Epitope')\n",
        "_ = plt.setp(ax.get_legend().get_title(), fontsize=15)"
      ]
    },
    {
      "cell_type": "code",
      "execution_count": null,
      "metadata": {
        "id": "x9dSYxnLIrR_"
      },
      "outputs": [],
      "source": []
    },
    {
      "cell_type": "markdown",
      "metadata": {
        "id": "oR5GN5fGuz0n"
      },
      "source": [
        "## Trying Other Models"
      ]
    },
    {
      "cell_type": "code",
      "execution_count": null,
      "metadata": {
        "id": "CA-B3lNRvGuY"
      },
      "outputs": [],
      "source": [
        "from utils import evaluate_models\n",
        "from sklearn.ensemble import (\n",
        "    # AdaBoostClassifier,\n",
        "    # GradientBoostingClassifier,\n",
        "    RandomForestClassifier\n",
        ")\n",
        "from sklearn.linear_model import LogisticRegression\n",
        "from sklearn.metrics import accuracy_score\n",
        "from sklearn.neighbors import KNeighborsClassifier\n",
        "from sklearn.tree import DecisionTreeClassifier\n",
        "# from xgboost import XGBClassifier"
      ]
    },
    {
      "cell_type": "code",
      "execution_count": null,
      "metadata": {
        "colab": {
          "base_uri": "https://localhost:8080/"
        },
        "id": "QoZWj248dEyE",
        "outputId": "431e9a08-8f50-4b51-9976-0a1fda2fd93f"
      },
      "outputs": [
        {
          "data": {
            "text/plain": [
              "array(['ELAGIGILTV', 'ELAGIGILTV', 'ELAGIGILTV', ..., 'TFEYVSQPFLMDLE',\n",
              "       'TFEYVSQPFLMDLE', 'TFEYVSQPFLMDLE'], dtype=object)"
            ]
          },
          "execution_count": 44,
          "metadata": {},
          "output_type": "execute_result"
        }
      ],
      "source": [
        "Y.values.ravel()"
      ]
    },
    {
      "cell_type": "code",
      "execution_count": null,
      "metadata": {
        "colab": {
          "base_uri": "https://localhost:8080/"
        },
        "id": "bliUpIqCu3d9",
        "outputId": "00835f11-28ed-4695-9b17-b3cbb992eac9"
      },
      "outputs": [
        {
          "name": "stdout",
          "output_type": "stream",
          "text": [
            "Model: RandomForestClassifier()\n",
            "Parameters: {'n_estimators': [8, 16, 32]}\n",
            "Model: DecisionTreeClassifier()\n",
            "Parameters: {'criterion': ['gini', 'entropy']}\n",
            "Model: LogisticRegression()\n",
            "Parameters: {}\n"
          ]
        }
      ],
      "source": [
        "\n",
        "\n",
        "models = {\n",
        "    \"Random Forest\": RandomForestClassifier(),\n",
        "    \"Decision Tree\": DecisionTreeClassifier(),\n",
        "    # \"Gradient Boosting\": GradientBoostingClassifier(),\n",
        "    \"Logistic Regression\": LogisticRegression(),\n",
        "    # \"XGBClassifier\": XGBClassifier(),\n",
        "#     \"CatBoosting Classifier\": CatBoostClassifier(verbose=False),\n",
        "    # \"AdaBoost Classifier\": AdaBoostClassifier(),\n",
        "}\n",
        "\n",
        "params = {\n",
        "    \"Decision Tree\": {\n",
        "        'criterion': ['gini', 'entropy'],\n",
        "        # 'splitter':['best','random'],\n",
        "        # 'max_features':['sqrt','log2'],\n",
        "    },\n",
        "    \"Random Forest\": {\n",
        "        'n_estimators': [8, 16, 32]\n",
        "    },\n",
        "    # \"Gradient Boosting\": {\n",
        "    #     'learning_rate': [.1, 0.005,],\n",
        "    #     'subsample': [0.6, 0.7],\n",
        "    #     'n_estimators': [8, 16, 32]\n",
        "    # },\n",
        "    \"Logistic Regression\": {},\n",
        "    # \"XGBClassifier\": {\n",
        "    #     'learning_rate': [.1, .01, .05],\n",
        "    #     'n_estimators': [8, 16, 32, ]\n",
        "    # },\n",
        "#     \"CatBoosting Classifier\": {\n",
        "#         'depth': [6, 8, 10],\n",
        "#         'learning_rate': [0.01, 0.05, 0.1],\n",
        "#         'iterations': [30, 50, 100]\n",
        "#     },\n",
        "    # \"AdaBoost Classifier\": {\n",
        "    #     'learning_rate': [.1, .01, .001],\n",
        "    #     'n_estimators': [8, 16, 32, ]\n",
        "    # }\n",
        "}\n",
        "\n",
        "model_report: dict = evaluate_models(X_train=X, y_train=Y.values.ravel(), X_test=X_test, y_test=Y_test,\n",
        "                                      models=models, param=params)\n"
      ]
    },
    {
      "cell_type": "code",
      "execution_count": null,
      "metadata": {
        "id": "ENwFf5xqvSJU"
      },
      "outputs": [],
      "source": [
        "print(model_report)"
      ]
    },
    {
      "cell_type": "code",
      "execution_count": null,
      "metadata": {
        "id": "3ErG0p-7W9aU"
      },
      "outputs": [],
      "source": []
    }
  ],
  "metadata": {
    "colab": {
      "provenance": []
    },
    "kernelspec": {
      "display_name": "Python 3",
      "name": "python3"
    },
    "language_info": {
      "name": "python"
    }
  },
  "nbformat": 4,
  "nbformat_minor": 0
}